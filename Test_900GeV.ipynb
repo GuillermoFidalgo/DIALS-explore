{
 "cells": [
  {
   "cell_type": "code",
   "execution_count": 1,
   "id": "5562adc9-432a-40e5-8550-4edb84f72f68",
   "metadata": {
    "scrolled": true
   },
   "outputs": [],
   "source": [
    "import pandas as pd\n",
    "import numpy as np\n",
    "\n",
    "import cmsdials\n",
    "from cmsdials import Dials\n",
    "from cmsdials.auth.bearer import Credentials\n",
    "from cmsdials.filters import (\n",
    "    FileIndexFilters,\n",
    "    LumisectionHistogram1DFilters,\n",
    "    LumisectionHistogram2DFilters,\n",
    "    LumisectionFilters,\n",
    "    RunFilters\n",
    ")\n",
    "\n",
    "creds = Credentials.from_creds_file()\n",
    "dials = Dials(creds, nthreads=2)"
   ]
  },
  {
   "cell_type": "code",
   "execution_count": 2,
   "id": "4441b20f",
   "metadata": {},
   "outputs": [],
   "source": [
    "import matplotlib.pyplot as plt\n",
    "import mplhep as hep\n",
    "import awkward as ak"
   ]
  },
  {
   "cell_type": "code",
   "execution_count": 3,
   "id": "aed5a2f6",
   "metadata": {},
   "outputs": [],
   "source": [
    "hep.style.use(\"CMS\")"
   ]
  },
  {
   "cell_type": "code",
   "execution_count": 4,
   "id": "3d2d97b2-870d-4a05-8445-de3f5fe9a652",
   "metadata": {
    "scrolled": true
   },
   "outputs": [
    {
     "data": {
      "text/plain": [
       "PaginatedRunList(count=12, next=None, previous=None, results=[Run(run_number=379390, ls_count=238), Run(run_number=379391, ls_count=670), Run(run_number=379413, ls_count=8), Run(run_number=379415, ls_count=61), Run(run_number=379416, ls_count=233), Run(run_number=379420, ls_count=466), Run(run_number=379425, ls_count=235), Run(run_number=379433, ls_count=53), Run(run_number=379441, ls_count=1), Run(run_number=379442, ls_count=291), Run(run_number=379443, ls_count=11), Run(run_number=379454, ls_count=446)])"
      ]
     },
     "execution_count": 4,
     "metadata": {},
     "output_type": "execute_result"
    }
   ],
   "source": [
    "# dials.run.list_all(RunFilters(min_run_number=360392, max_run_number=365000), max_pages=5)\n",
    "dials.run.list_all(RunFilters(min_run_number=379390, max_run_number=399000),max_pages=10)"
   ]
  },
  {
   "cell_type": "code",
   "execution_count": 5,
   "id": "aac382ba",
   "metadata": {
    "scrolled": true
   },
   "outputs": [],
   "source": [
    "Ls1Dhist = LumisectionHistogram1DFilters(title=\"PixelPhase1/Tracks/PXBarrel/charge_PXLayer_1\",min_entries= 1000,min_run_number=379_390)\n",
    "\n",
    "data = dials.h1d.list_all(Ls1Dhist,max_pages=100)\n"
   ]
  },
  {
   "cell_type": "markdown",
   "id": "eced6978",
   "metadata": {},
   "source": [
    "# Using Awkward Arrays"
   ]
  },
  {
   "cell_type": "code",
   "execution_count": 6,
   "id": "de022859",
   "metadata": {
    "scrolled": true
   },
   "outputs": [],
   "source": [
    "# For plotting I think using this library might be better\n",
    "a1 = ak.Array([i.dict() for i in data.results])"
   ]
  },
  {
   "cell_type": "code",
   "execution_count": 7,
   "id": "63903ae8",
   "metadata": {
    "scrolled": true
   },
   "outputs": [
    {
     "data": {
      "text/plain": [
       "1000 * {\"hist_id\": int64, \"file_id\": int64, \"run_number\": int64, \"ls_id\": int64, \"title\": string, \"x_min\": float64, \"x_max\": float64, \"x_bin\": float64, \"entries\": int64, \"data\": var * float64}"
      ]
     },
     "execution_count": 7,
     "metadata": {},
     "output_type": "execute_result"
    }
   ],
   "source": [
    "a1.type"
   ]
  },
  {
   "cell_type": "code",
   "execution_count": 8,
   "id": "7e61d078",
   "metadata": {
    "scrolled": true
   },
   "outputs": [],
   "source": [
    "a1['edges'] = np.linspace(a1.x_min,a1.x_max,num=101).to_numpy().T\n",
    "\n",
    "run = a1[a1.run_number == 379391]"
   ]
  },
  {
   "cell_type": "code",
   "execution_count": 9,
   "id": "534d2405",
   "metadata": {
    "scrolled": true
   },
   "outputs": [],
   "source": [
    "def make_histo(data , ax, **kwargs) -> None:\n",
    "    ax.set_title(kwargs.pop(\"title\",None))\n",
    "    ax.set_xlabel(kwargs.pop(\"xlabel\",None))\n",
    "    ax.set_ylabel(kwargs.pop(\"ylabel\",None))\n",
    "    for i in range(len(data)):\n",
    "        ax.stairs(values = data.data[i], edges = data.edges[i] , **kwargs)\n"
   ]
  },
  {
   "cell_type": "code",
   "execution_count": 10,
   "id": "8078095d",
   "metadata": {
    "scrolled": false
   },
   "outputs": [
    {
     "data": {
      "image/png": "[encoded data removed]",
      "text/plain": [
       "<Figure size 432x288 with 1 Axes>"
      ]
     },
     "metadata": {
      "needs_background": "light"
     },
     "output_type": "display_data"
    }
   ],
   "source": [
    "fig,ax = plt.subplots()\n",
    "make_histo(run[::20],ax,\n",
    "           title = \"Pixel Barrel Layer 1\", xlabel= \"Charge [Electrons]\")"
   ]
  },
  {
   "cell_type": "markdown",
   "id": "6eceb0bb",
   "metadata": {},
   "source": [
    "# Trying with Pandas"
   ]
  },
  {
   "cell_type": "code",
   "execution_count": 11,
   "id": "b2e004c7",
   "metadata": {
    "scrolled": true
   },
   "outputs": [
    {
     "data": {
      "text/html": [
       "<div>\n",
       "<style scoped>\n",
       "    .dataframe tbody tr th:only-of-type {\n",
       "        vertical-align: middle;\n",
       "    }\n",
       "\n",
       "    .dataframe tbody tr th {\n",
       "        vertical-align: top;\n",
       "    }\n",
       "\n",
       "    .dataframe thead th {\n",
       "        text-align: right;\n",
       "    }\n",
       "</style>\n",
       "<table border=\"1\" class=\"dataframe\">\n",
       "  <thead>\n",
       "    <tr style=\"text-align: right;\">\n",
       "      <th></th>\n",
       "      <th>hist_id</th>\n",
       "      <th>file_id</th>\n",
       "      <th>run_number</th>\n",
       "      <th>ls_id</th>\n",
       "      <th>title</th>\n",
       "      <th>x_min</th>\n",
       "      <th>x_max</th>\n",
       "      <th>x_bin</th>\n",
       "      <th>entries</th>\n",
       "      <th>data</th>\n",
       "    </tr>\n",
       "  </thead>\n",
       "  <tbody>\n",
       "    <tr>\n",
       "      <th>0</th>\n",
       "      <td>15312580</td>\n",
       "      <td>14181863237</td>\n",
       "      <td>379390</td>\n",
       "      <td>71968955137</td>\n",
       "      <td>PixelPhase1/Tracks/PXBarrel/charge_PXLayer_1</td>\n",
       "      <td>-0.5</td>\n",
       "      <td>99.5</td>\n",
       "      <td>100.0</td>\n",
       "      <td>93755</td>\n",
       "      <td>[0.0, 0.0, 0.0, 0.0, 0.0, 3.0, 2.0, 6.0, 6.0, ...</td>\n",
       "    </tr>\n",
       "    <tr>\n",
       "      <th>1</th>\n",
       "      <td>15312675</td>\n",
       "      <td>14181863237</td>\n",
       "      <td>379390</td>\n",
       "      <td>71969334530</td>\n",
       "      <td>PixelPhase1/Tracks/PXBarrel/charge_PXLayer_1</td>\n",
       "      <td>-0.5</td>\n",
       "      <td>99.5</td>\n",
       "      <td>100.0</td>\n",
       "      <td>93708</td>\n",
       "      <td>[0.0, 0.0, 0.0, 0.0, 0.0, 1.0, 3.0, 0.0, 5.0, ...</td>\n",
       "    </tr>\n",
       "    <tr>\n",
       "      <th>2</th>\n",
       "      <td>15312770</td>\n",
       "      <td>14181863237</td>\n",
       "      <td>379390</td>\n",
       "      <td>71970472715</td>\n",
       "      <td>PixelPhase1/Tracks/PXBarrel/charge_PXLayer_1</td>\n",
       "      <td>-0.5</td>\n",
       "      <td>99.5</td>\n",
       "      <td>100.0</td>\n",
       "      <td>100045</td>\n",
       "      <td>[0.0, 0.0, 0.0, 1.0, 0.0, 3.0, 2.0, 1.0, 13.0,...</td>\n",
       "    </tr>\n",
       "    <tr>\n",
       "      <th>3</th>\n",
       "      <td>15312865</td>\n",
       "      <td>14181863237</td>\n",
       "      <td>379390</td>\n",
       "      <td>71970852112</td>\n",
       "      <td>PixelPhase1/Tracks/PXBarrel/charge_PXLayer_1</td>\n",
       "      <td>-0.5</td>\n",
       "      <td>99.5</td>\n",
       "      <td>100.0</td>\n",
       "      <td>88892</td>\n",
       "      <td>[0.0, 0.0, 0.0, 0.0, 0.0, 0.0, 1.0, 2.0, 6.0, ...</td>\n",
       "    </tr>\n",
       "    <tr>\n",
       "      <th>4</th>\n",
       "      <td>15312960</td>\n",
       "      <td>14181863237</td>\n",
       "      <td>379390</td>\n",
       "      <td>71971231510</td>\n",
       "      <td>PixelPhase1/Tracks/PXBarrel/charge_PXLayer_1</td>\n",
       "      <td>-0.5</td>\n",
       "      <td>99.5</td>\n",
       "      <td>100.0</td>\n",
       "      <td>96131</td>\n",
       "      <td>[0.0, 0.0, 0.0, 0.0, 0.0, 1.0, 2.0, 7.0, 13.0,...</td>\n",
       "    </tr>\n",
       "    <tr>\n",
       "      <th>...</th>\n",
       "      <td>...</td>\n",
       "      <td>...</td>\n",
       "      <td>...</td>\n",
       "      <td>...</td>\n",
       "      <td>...</td>\n",
       "      <td>...</td>\n",
       "      <td>...</td>\n",
       "      <td>...</td>\n",
       "      <td>...</td>\n",
       "      <td>...</td>\n",
       "    </tr>\n",
       "    <tr>\n",
       "      <th>995</th>\n",
       "      <td>15428670</td>\n",
       "      <td>14184817397</td>\n",
       "      <td>379415</td>\n",
       "      <td>71997412362</td>\n",
       "      <td>PixelPhase1/Tracks/PXBarrel/charge_PXLayer_1</td>\n",
       "      <td>-0.5</td>\n",
       "      <td>99.5</td>\n",
       "      <td>100.0</td>\n",
       "      <td>33968</td>\n",
       "      <td>[0.0, 0.0, 0.0, 1.0, 7.0, 15.0, 21.0, 26.0, 33...</td>\n",
       "    </tr>\n",
       "    <tr>\n",
       "      <th>996</th>\n",
       "      <td>15428765</td>\n",
       "      <td>14184817397</td>\n",
       "      <td>379415</td>\n",
       "      <td>71997791830</td>\n",
       "      <td>PixelPhase1/Tracks/PXBarrel/charge_PXLayer_1</td>\n",
       "      <td>-0.5</td>\n",
       "      <td>99.5</td>\n",
       "      <td>100.0</td>\n",
       "      <td>52954</td>\n",
       "      <td>[0.0, 0.0, 0.0, 7.0, 21.0, 33.0, 34.0, 45.0, 3...</td>\n",
       "    </tr>\n",
       "    <tr>\n",
       "      <th>997</th>\n",
       "      <td>15428860</td>\n",
       "      <td>14184817397</td>\n",
       "      <td>379415</td>\n",
       "      <td>71998171299</td>\n",
       "      <td>PixelPhase1/Tracks/PXBarrel/charge_PXLayer_1</td>\n",
       "      <td>-0.5</td>\n",
       "      <td>99.5</td>\n",
       "      <td>100.0</td>\n",
       "      <td>33219</td>\n",
       "      <td>[0.0, 0.0, 0.0, 3.0, 12.0, 13.0, 23.0, 25.0, 3...</td>\n",
       "    </tr>\n",
       "    <tr>\n",
       "      <th>998</th>\n",
       "      <td>15428955</td>\n",
       "      <td>14184817397</td>\n",
       "      <td>379415</td>\n",
       "      <td>71998550769</td>\n",
       "      <td>PixelPhase1/Tracks/PXBarrel/charge_PXLayer_1</td>\n",
       "      <td>-0.5</td>\n",
       "      <td>99.5</td>\n",
       "      <td>100.0</td>\n",
       "      <td>20322</td>\n",
       "      <td>[0.0, 0.0, 0.0, 2.0, 5.0, 6.0, 12.0, 13.0, 16....</td>\n",
       "    </tr>\n",
       "    <tr>\n",
       "      <th>999</th>\n",
       "      <td>15429050</td>\n",
       "      <td>14184817397</td>\n",
       "      <td>379415</td>\n",
       "      <td>71998930240</td>\n",
       "      <td>PixelPhase1/Tracks/PXBarrel/charge_PXLayer_1</td>\n",
       "      <td>-0.5</td>\n",
       "      <td>99.5</td>\n",
       "      <td>100.0</td>\n",
       "      <td>9179</td>\n",
       "      <td>[0.0, 0.0, 0.0, 2.0, 1.0, 1.0, 7.0, 7.0, 9.0, ...</td>\n",
       "    </tr>\n",
       "  </tbody>\n",
       "</table>\n",
       "<p>1000 rows × 10 columns</p>\n",
       "</div>"
      ],
      "text/plain": [
       "      hist_id      file_id  run_number        ls_id  \\\n",
       "0    15312580  14181863237      379390  71968955137   \n",
       "1    15312675  14181863237      379390  71969334530   \n",
       "2    15312770  14181863237      379390  71970472715   \n",
       "3    15312865  14181863237      379390  71970852112   \n",
       "4    15312960  14181863237      379390  71971231510   \n",
       "..        ...          ...         ...          ...   \n",
       "995  15428670  14184817397      379415  71997412362   \n",
       "996  15428765  14184817397      379415  71997791830   \n",
       "997  15428860  14184817397      379415  71998171299   \n",
       "998  15428955  14184817397      379415  71998550769   \n",
       "999  15429050  14184817397      379415  71998930240   \n",
       "\n",
       "                                            title  x_min  x_max  x_bin  \\\n",
       "0    PixelPhase1/Tracks/PXBarrel/charge_PXLayer_1   -0.5   99.5  100.0   \n",
       "1    PixelPhase1/Tracks/PXBarrel/charge_PXLayer_1   -0.5   99.5  100.0   \n",
       "2    PixelPhase1/Tracks/PXBarrel/charge_PXLayer_1   -0.5   99.5  100.0   \n",
       "3    PixelPhase1/Tracks/PXBarrel/charge_PXLayer_1   -0.5   99.5  100.0   \n",
       "4    PixelPhase1/Tracks/PXBarrel/charge_PXLayer_1   -0.5   99.5  100.0   \n",
       "..                                            ...    ...    ...    ...   \n",
       "995  PixelPhase1/Tracks/PXBarrel/charge_PXLayer_1   -0.5   99.5  100.0   \n",
       "996  PixelPhase1/Tracks/PXBarrel/charge_PXLayer_1   -0.5   99.5  100.0   \n",
       "997  PixelPhase1/Tracks/PXBarrel/charge_PXLayer_1   -0.5   99.5  100.0   \n",
       "998  PixelPhase1/Tracks/PXBarrel/charge_PXLayer_1   -0.5   99.5  100.0   \n",
       "999  PixelPhase1/Tracks/PXBarrel/charge_PXLayer_1   -0.5   99.5  100.0   \n",
       "\n",
       "     entries                                               data  \n",
       "0      93755  [0.0, 0.0, 0.0, 0.0, 0.0, 3.0, 2.0, 6.0, 6.0, ...  \n",
       "1      93708  [0.0, 0.0, 0.0, 0.0, 0.0, 1.0, 3.0, 0.0, 5.0, ...  \n",
       "2     100045  [0.0, 0.0, 0.0, 1.0, 0.0, 3.0, 2.0, 1.0, 13.0,...  \n",
       "3      88892  [0.0, 0.0, 0.0, 0.0, 0.0, 0.0, 1.0, 2.0, 6.0, ...  \n",
       "4      96131  [0.0, 0.0, 0.0, 0.0, 0.0, 1.0, 2.0, 7.0, 13.0,...  \n",
       "..       ...                                                ...  \n",
       "995    33968  [0.0, 0.0, 0.0, 1.0, 7.0, 15.0, 21.0, 26.0, 33...  \n",
       "996    52954  [0.0, 0.0, 0.0, 7.0, 21.0, 33.0, 34.0, 45.0, 3...  \n",
       "997    33219  [0.0, 0.0, 0.0, 3.0, 12.0, 13.0, 23.0, 25.0, 3...  \n",
       "998    20322  [0.0, 0.0, 0.0, 2.0, 5.0, 6.0, 12.0, 13.0, 16....  \n",
       "999     9179  [0.0, 0.0, 0.0, 2.0, 1.0, 1.0, 7.0, 7.0, 9.0, ...  \n",
       "\n",
       "[1000 rows x 10 columns]"
      ]
     },
     "execution_count": 11,
     "metadata": {},
     "output_type": "execute_result"
    }
   ],
   "source": [
    "# We can convert it to a table using pandas\n",
    "\n",
    "df = pd.DataFrame([x.__dict__ for x in data.results])\n",
    "df\n"
   ]
  },
  {
   "cell_type": "code",
   "execution_count": 12,
   "id": "7cc2c9e3",
   "metadata": {
    "scrolled": true
   },
   "outputs": [
    {
     "data": {
      "text/html": [
       "<div>\n",
       "<style scoped>\n",
       "    .dataframe tbody tr th:only-of-type {\n",
       "        vertical-align: middle;\n",
       "    }\n",
       "\n",
       "    .dataframe tbody tr th {\n",
       "        vertical-align: top;\n",
       "    }\n",
       "\n",
       "    .dataframe thead th {\n",
       "        text-align: right;\n",
       "    }\n",
       "</style>\n",
       "<table border=\"1\" class=\"dataframe\">\n",
       "  <thead>\n",
       "    <tr style=\"text-align: right;\">\n",
       "      <th></th>\n",
       "      <th>hist_id</th>\n",
       "      <th>file_id</th>\n",
       "      <th>run_number</th>\n",
       "      <th>ls_id</th>\n",
       "      <th>title</th>\n",
       "      <th>x_min</th>\n",
       "      <th>x_max</th>\n",
       "      <th>x_bin</th>\n",
       "      <th>entries</th>\n",
       "      <th>data</th>\n",
       "      <th>edges</th>\n",
       "    </tr>\n",
       "  </thead>\n",
       "  <tbody>\n",
       "    <tr>\n",
       "      <th>126</th>\n",
       "      <td>15324550</td>\n",
       "      <td>14182283757</td>\n",
       "      <td>379391</td>\n",
       "      <td>71975404953</td>\n",
       "      <td>PixelPhase1/Tracks/PXBarrel/charge_PXLayer_1</td>\n",
       "      <td>-0.5</td>\n",
       "      <td>99.5</td>\n",
       "      <td>100.0</td>\n",
       "      <td>80500</td>\n",
       "      <td>[0.0, 0.0, 0.0, 2.0, 0.0, 1.0, 1.0, 3.0, 5.0, ...</td>\n",
       "      <td>[-0.5, 0.5, 1.5, 2.5, 3.5, 4.5, 5.5, 6.5, 7.5,...</td>\n",
       "    </tr>\n",
       "    <tr>\n",
       "      <th>127</th>\n",
       "      <td>15324645</td>\n",
       "      <td>14182283757</td>\n",
       "      <td>379391</td>\n",
       "      <td>71975784363</td>\n",
       "      <td>PixelPhase1/Tracks/PXBarrel/charge_PXLayer_1</td>\n",
       "      <td>-0.5</td>\n",
       "      <td>99.5</td>\n",
       "      <td>100.0</td>\n",
       "      <td>84771</td>\n",
       "      <td>[0.0, 0.0, 0.0, 0.0, 1.0, 2.0, 2.0, 2.0, 8.0, ...</td>\n",
       "      <td>[-0.5, 0.5, 1.5, 2.5, 3.5, 4.5, 5.5, 6.5, 7.5,...</td>\n",
       "    </tr>\n",
       "    <tr>\n",
       "      <th>128</th>\n",
       "      <td>15324740</td>\n",
       "      <td>14182283757</td>\n",
       "      <td>379391</td>\n",
       "      <td>71978440261</td>\n",
       "      <td>PixelPhase1/Tracks/PXBarrel/charge_PXLayer_1</td>\n",
       "      <td>-0.5</td>\n",
       "      <td>99.5</td>\n",
       "      <td>100.0</td>\n",
       "      <td>85231</td>\n",
       "      <td>[0.0, 0.0, 0.0, 0.0, 1.0, 1.0, 2.0, 5.0, 4.0, ...</td>\n",
       "      <td>[-0.5, 0.5, 1.5, 2.5, 3.5, 4.5, 5.5, 6.5, 7.5,...</td>\n",
       "    </tr>\n",
       "    <tr>\n",
       "      <th>129</th>\n",
       "      <td>15324835</td>\n",
       "      <td>14182283757</td>\n",
       "      <td>379391</td>\n",
       "      <td>71978819679</td>\n",
       "      <td>PixelPhase1/Tracks/PXBarrel/charge_PXLayer_1</td>\n",
       "      <td>-0.5</td>\n",
       "      <td>99.5</td>\n",
       "      <td>100.0</td>\n",
       "      <td>86828</td>\n",
       "      <td>[0.0, 0.0, 0.0, 0.0, 0.0, 0.0, 1.0, 1.0, 5.0, ...</td>\n",
       "      <td>[-0.5, 0.5, 1.5, 2.5, 3.5, 4.5, 5.5, 6.5, 7.5,...</td>\n",
       "    </tr>\n",
       "    <tr>\n",
       "      <th>130</th>\n",
       "      <td>15324930</td>\n",
       "      <td>14182283757</td>\n",
       "      <td>379391</td>\n",
       "      <td>72013350903</td>\n",
       "      <td>PixelPhase1/Tracks/PXBarrel/charge_PXLayer_1</td>\n",
       "      <td>-0.5</td>\n",
       "      <td>99.5</td>\n",
       "      <td>100.0</td>\n",
       "      <td>81557</td>\n",
       "      <td>[0.0, 0.0, 0.0, 0.0, 0.0, 0.0, 0.0, 0.0, 5.0, ...</td>\n",
       "      <td>[-0.5, 0.5, 1.5, 2.5, 3.5, 4.5, 5.5, 6.5, 7.5,...</td>\n",
       "    </tr>\n",
       "    <tr>\n",
       "      <th>...</th>\n",
       "      <td>...</td>\n",
       "      <td>...</td>\n",
       "      <td>...</td>\n",
       "      <td>...</td>\n",
       "      <td>...</td>\n",
       "      <td>...</td>\n",
       "      <td>...</td>\n",
       "      <td>...</td>\n",
       "      <td>...</td>\n",
       "      <td>...</td>\n",
       "      <td>...</td>\n",
       "    </tr>\n",
       "    <tr>\n",
       "      <th>780</th>\n",
       "      <td>15390765</td>\n",
       "      <td>14184090157</td>\n",
       "      <td>379391</td>\n",
       "      <td>72139783011</td>\n",
       "      <td>PixelPhase1/Tracks/PXBarrel/charge_PXLayer_1</td>\n",
       "      <td>-0.5</td>\n",
       "      <td>99.5</td>\n",
       "      <td>100.0</td>\n",
       "      <td>66857</td>\n",
       "      <td>[0.0, 0.0, 0.0, 0.0, 0.0, 0.0, 0.0, 3.0, 4.0, ...</td>\n",
       "      <td>[-0.5, 0.5, 1.5, 2.5, 3.5, 4.5, 5.5, 6.5, 7.5,...</td>\n",
       "    </tr>\n",
       "    <tr>\n",
       "      <th>781</th>\n",
       "      <td>15390860</td>\n",
       "      <td>14184090157</td>\n",
       "      <td>379391</td>\n",
       "      <td>72183471511</td>\n",
       "      <td>PixelPhase1/Tracks/PXBarrel/charge_PXLayer_1</td>\n",
       "      <td>-0.5</td>\n",
       "      <td>99.5</td>\n",
       "      <td>100.0</td>\n",
       "      <td>65234</td>\n",
       "      <td>[0.0, 0.0, 0.0, 0.0, 0.0, 0.0, 0.0, 0.0, 0.0, ...</td>\n",
       "      <td>[-0.5, 0.5, 1.5, 2.5, 3.5, 4.5, 5.5, 6.5, 7.5,...</td>\n",
       "    </tr>\n",
       "    <tr>\n",
       "      <th>782</th>\n",
       "      <td>15390955</td>\n",
       "      <td>14184090157</td>\n",
       "      <td>379391</td>\n",
       "      <td>72183851469</td>\n",
       "      <td>PixelPhase1/Tracks/PXBarrel/charge_PXLayer_1</td>\n",
       "      <td>-0.5</td>\n",
       "      <td>99.5</td>\n",
       "      <td>100.0</td>\n",
       "      <td>63664</td>\n",
       "      <td>[0.0, 0.0, 0.0, 0.0, 0.0, 0.0, 1.0, 2.0, 4.0, ...</td>\n",
       "      <td>[-0.5, 0.5, 1.5, 2.5, 3.5, 4.5, 5.5, 6.5, 7.5,...</td>\n",
       "    </tr>\n",
       "    <tr>\n",
       "      <th>783</th>\n",
       "      <td>15391050</td>\n",
       "      <td>14184090157</td>\n",
       "      <td>379391</td>\n",
       "      <td>72219952039</td>\n",
       "      <td>PixelPhase1/Tracks/PXBarrel/charge_PXLayer_1</td>\n",
       "      <td>-0.5</td>\n",
       "      <td>99.5</td>\n",
       "      <td>100.0</td>\n",
       "      <td>63166</td>\n",
       "      <td>[0.0, 0.0, 0.0, 1.0, 0.0, 2.0, 2.0, 1.0, 2.0, ...</td>\n",
       "      <td>[-0.5, 0.5, 1.5, 2.5, 3.5, 4.5, 5.5, 6.5, 7.5,...</td>\n",
       "    </tr>\n",
       "    <tr>\n",
       "      <th>784</th>\n",
       "      <td>15391145</td>\n",
       "      <td>14184090157</td>\n",
       "      <td>379391</td>\n",
       "      <td>72220332093</td>\n",
       "      <td>PixelPhase1/Tracks/PXBarrel/charge_PXLayer_1</td>\n",
       "      <td>-0.5</td>\n",
       "      <td>99.5</td>\n",
       "      <td>100.0</td>\n",
       "      <td>57969</td>\n",
       "      <td>[0.0, 0.0, 0.0, 0.0, 0.0, 0.0, 0.0, 1.0, 1.0, ...</td>\n",
       "      <td>[-0.5, 0.5, 1.5, 2.5, 3.5, 4.5, 5.5, 6.5, 7.5,...</td>\n",
       "    </tr>\n",
       "  </tbody>\n",
       "</table>\n",
       "<p>659 rows × 11 columns</p>\n",
       "</div>"
      ],
      "text/plain": [
       "      hist_id      file_id  run_number        ls_id  \\\n",
       "126  15324550  14182283757      379391  71975404953   \n",
       "127  15324645  14182283757      379391  71975784363   \n",
       "128  15324740  14182283757      379391  71978440261   \n",
       "129  15324835  14182283757      379391  71978819679   \n",
       "130  15324930  14182283757      379391  72013350903   \n",
       "..        ...          ...         ...          ...   \n",
       "780  15390765  14184090157      379391  72139783011   \n",
       "781  15390860  14184090157      379391  72183471511   \n",
       "782  15390955  14184090157      379391  72183851469   \n",
       "783  15391050  14184090157      379391  72219952039   \n",
       "784  15391145  14184090157      379391  72220332093   \n",
       "\n",
       "                                            title  x_min  x_max  x_bin  \\\n",
       "126  PixelPhase1/Tracks/PXBarrel/charge_PXLayer_1   -0.5   99.5  100.0   \n",
       "127  PixelPhase1/Tracks/PXBarrel/charge_PXLayer_1   -0.5   99.5  100.0   \n",
       "128  PixelPhase1/Tracks/PXBarrel/charge_PXLayer_1   -0.5   99.5  100.0   \n",
       "129  PixelPhase1/Tracks/PXBarrel/charge_PXLayer_1   -0.5   99.5  100.0   \n",
       "130  PixelPhase1/Tracks/PXBarrel/charge_PXLayer_1   -0.5   99.5  100.0   \n",
       "..                                            ...    ...    ...    ...   \n",
       "780  PixelPhase1/Tracks/PXBarrel/charge_PXLayer_1   -0.5   99.5  100.0   \n",
       "781  PixelPhase1/Tracks/PXBarrel/charge_PXLayer_1   -0.5   99.5  100.0   \n",
       "782  PixelPhase1/Tracks/PXBarrel/charge_PXLayer_1   -0.5   99.5  100.0   \n",
       "783  PixelPhase1/Tracks/PXBarrel/charge_PXLayer_1   -0.5   99.5  100.0   \n",
       "784  PixelPhase1/Tracks/PXBarrel/charge_PXLayer_1   -0.5   99.5  100.0   \n",
       "\n",
       "     entries                                               data  \\\n",
       "126    80500  [0.0, 0.0, 0.0, 2.0, 0.0, 1.0, 1.0, 3.0, 5.0, ...   \n",
       "127    84771  [0.0, 0.0, 0.0, 0.0, 1.0, 2.0, 2.0, 2.0, 8.0, ...   \n",
       "128    85231  [0.0, 0.0, 0.0, 0.0, 1.0, 1.0, 2.0, 5.0, 4.0, ...   \n",
       "129    86828  [0.0, 0.0, 0.0, 0.0, 0.0, 0.0, 1.0, 1.0, 5.0, ...   \n",
       "130    81557  [0.0, 0.0, 0.0, 0.0, 0.0, 0.0, 0.0, 0.0, 5.0, ...   \n",
       "..       ...                                                ...   \n",
       "780    66857  [0.0, 0.0, 0.0, 0.0, 0.0, 0.0, 0.0, 3.0, 4.0, ...   \n",
       "781    65234  [0.0, 0.0, 0.0, 0.0, 0.0, 0.0, 0.0, 0.0, 0.0, ...   \n",
       "782    63664  [0.0, 0.0, 0.0, 0.0, 0.0, 0.0, 1.0, 2.0, 4.0, ...   \n",
       "783    63166  [0.0, 0.0, 0.0, 1.0, 0.0, 2.0, 2.0, 1.0, 2.0, ...   \n",
       "784    57969  [0.0, 0.0, 0.0, 0.0, 0.0, 0.0, 0.0, 1.0, 1.0, ...   \n",
       "\n",
       "                                                 edges  \n",
       "126  [-0.5, 0.5, 1.5, 2.5, 3.5, 4.5, 5.5, 6.5, 7.5,...  \n",
       "127  [-0.5, 0.5, 1.5, 2.5, 3.5, 4.5, 5.5, 6.5, 7.5,...  \n",
       "128  [-0.5, 0.5, 1.5, 2.5, 3.5, 4.5, 5.5, 6.5, 7.5,...  \n",
       "129  [-0.5, 0.5, 1.5, 2.5, 3.5, 4.5, 5.5, 6.5, 7.5,...  \n",
       "130  [-0.5, 0.5, 1.5, 2.5, 3.5, 4.5, 5.5, 6.5, 7.5,...  \n",
       "..                                                 ...  \n",
       "780  [-0.5, 0.5, 1.5, 2.5, 3.5, 4.5, 5.5, 6.5, 7.5,...  \n",
       "781  [-0.5, 0.5, 1.5, 2.5, 3.5, 4.5, 5.5, 6.5, 7.5,...  \n",
       "782  [-0.5, 0.5, 1.5, 2.5, 3.5, 4.5, 5.5, 6.5, 7.5,...  \n",
       "783  [-0.5, 0.5, 1.5, 2.5, 3.5, 4.5, 5.5, 6.5, 7.5,...  \n",
       "784  [-0.5, 0.5, 1.5, 2.5, 3.5, 4.5, 5.5, 6.5, 7.5,...  \n",
       "\n",
       "[659 rows x 11 columns]"
      ]
     },
     "execution_count": 12,
     "metadata": {},
     "output_type": "execute_result"
    }
   ],
   "source": [
    "import numpy as np\n",
    "edges = np.linspace(df.x_min,df.x_max,101).T\n",
    "df.loc[:,'edges'] = list(edges)\n",
    "df_run = df[df.run_number == 379391]\n",
    "df_run"
   ]
  },
  {
   "cell_type": "code",
   "execution_count": 14,
   "id": "38db06d4",
   "metadata": {
    "scrolled": false
   },
   "outputs": [
    {
     "data": {
      "image/png": "[encoded data removed]",
      "text/plain": [
       "<Figure size 432x288 with 1 Axes>"
      ]
     },
     "metadata": {
      "needs_background": "light"
     },
     "output_type": "display_data"
    }
   ],
   "source": [
    "fig,ax = plt.subplots()\n",
    "make_histo(df.iloc[::20].reset_index(),ax,\n",
    "           title = \"Pixel Barrel Layer 1\", xlabel= \"Charge [Electrons]\")\n",
    "\n",
    "    "
   ]
  },
  {
   "cell_type": "code",
   "execution_count": null,
   "id": "c9128221",
   "metadata": {},
   "outputs": [],
   "source": []
  }
 ],
 "metadata": {
  "@webio": {
   "lastCommId": null,
   "lastKernelId": null
  },
  "kernelspec": {
   "display_name": "Python 3",
   "language": "python",
   "name": "python3"
  },
  "language_info": {
   "codemirror_mode": {
    "name": "ipython",
    "version": 3
   },
   "file_extension": ".py",
   "mimetype": "text/x-python",
   "name": "python",
   "nbconvert_exporter": "python",
   "pygments_lexer": "ipython3",
   "version": "3.9.12"
  }
 },
 "nbformat": 4,
 "nbformat_minor": 5
}
