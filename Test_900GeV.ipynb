{
 "cells": [
  {
   "cell_type": "code",
   "execution_count": 1,
   "id": "5562adc9-432a-40e5-8550-4edb84f72f68",
   "metadata": {
    "scrolled": true
   },
   "outputs": [],
   "source": [
    "import pandas as pd\n",
    "import numpy as np\n",
    "\n",
    "import cmsdials\n",
    "from cmsdials import Dials\n",
    "from cmsdials.auth.bearer import Credentials\n",
    "from cmsdials.filters import (\n",
    "    FileIndexFilters,\n",
    "    LumisectionHistogram1DFilters,\n",
    "    LumisectionHistogram2DFilters,\n",
    "    LumisectionFilters,\n",
    "    RunFilters\n",
    ")\n",
    "\n",
    "creds = Credentials.from_creds_file()\n",
    "dials = Dials(creds, nthreads=2)"
   ]
  },
  {
   "cell_type": "code",
   "execution_count": 2,
   "id": "4441b20f",
   "metadata": {},
   "outputs": [],
   "source": [
    "import matplotlib.pyplot as plt\n",
    "import mplhep as hep\n",
    "import awkward as ak"
   ]
  },
  {
   "cell_type": "code",
   "execution_count": 3,
   "id": "aed5a2f6",
   "metadata": {},
   "outputs": [],
   "source": [
    "hep.style.use(\"CMS\")"
   ]
  },
  {
   "cell_type": "code",
   "execution_count": 4,
   "id": "3d2d97b2-870d-4a05-8445-de3f5fe9a652",
   "metadata": {
    "scrolled": true
   },
   "outputs": [
    {
     "data": {
      "text/plain": [
       "PaginatedRunList(count=12, next=None, previous=None, results=[Run(run_number=379390, ls_count=238), Run(run_number=379391, ls_count=670), Run(run_number=379413, ls_count=8), Run(run_number=379415, ls_count=61), Run(run_number=379416, ls_count=233), Run(run_number=379420, ls_count=466), Run(run_number=379425, ls_count=235), Run(run_number=379433, ls_count=53), Run(run_number=379441, ls_count=1), Run(run_number=379442, ls_count=291), Run(run_number=379443, ls_count=11), Run(run_number=379454, ls_count=446)])"
      ]
     },
     "execution_count": 4,
     "metadata": {},
     "output_type": "execute_result"
    }
   ],
   "source": [
    "# dials.run.list_all(RunFilters(min_run_number=360392, max_run_number=365000), max_pages=5)\n",
    "dials.run.list_all(RunFilters(min_run_number=379390, max_run_number=399000),max_pages=10)"
   ]
  },
  {
   "cell_type": "code",
   "execution_count": null,
   "id": "aac382ba",
   "metadata": {
    "scrolled": true
   },
   "outputs": [],
   "source": [
    "Ls1Dhist = LumisectionHistogram1DFilters(title=\"PixelPhase1/Tracks/PXBarrel/charge_PXLayer_1\",min_entries= 1000,min_run_number=379_390)\n",
    "\n",
    "data = dials.h1d.list_all(Ls1Dhist,max_pages=100)\n"
   ]
  },
  {
   "cell_type": "markdown",
   "id": "eced6978",
   "metadata": {},
   "source": [
    "# Using Awkward Arrays"
   ]
  },
  {
   "cell_type": "code",
   "execution_count": null,
   "id": "de022859",
   "metadata": {
    "scrolled": true
   },
   "outputs": [],
   "source": [
    "# For plotting I think using this library might be better\n",
    "a1 = ak.Array([i.dict() for i in data.results])"
   ]
  },
  {
   "cell_type": "code",
   "execution_count": null,
   "id": "63903ae8",
   "metadata": {
    "scrolled": true
   },
   "outputs": [],
   "source": [
    "a1.type"
   ]
  },
  {
   "cell_type": "code",
   "execution_count": null,
   "id": "7e61d078",
   "metadata": {
    "scrolled": true
   },
   "outputs": [],
   "source": [
    "a1['edges'] = np.linspace(a1.x_min,a1.x_max,num=101).to_numpy().T\n",
    "\n",
    "run = a1[a1.run_number == 379391]"
   ]
  },
  {
   "cell_type": "code",
   "execution_count": null,
   "id": "534d2405",
   "metadata": {
    "scrolled": true
   },
   "outputs": [],
   "source": [
    "def make_histo(data , ax, **kwargs) -> None:\n",
    "    ax.set_title(kwargs.pop(\"title\",None))\n",
    "    ax.set_xlabel(kwargs.pop(\"xlabel\",None))\n",
    "    ax.set_ylabel(kwargs.pop(\"ylabel\",None))\n",
    "    for i in range(len(data)):\n",
    "        ax.stairs(values = data.data[i], edges = data.edges[i] , **kwargs)\n"
   ]
  },
  {
   "cell_type": "code",
   "execution_count": null,
   "id": "8078095d",
   "metadata": {
    "scrolled": false
   },
   "outputs": [],
   "source": [
    "fig,ax = plt.subplots()\n",
    "make_histo(run[::20],ax,\n",
    "           title = \"Pixel Barrel Layer 1\", xlabel= \"Charge [Electrons]\")"
   ]
  },
  {
   "cell_type": "markdown",
   "id": "6eceb0bb",
   "metadata": {},
   "source": [
    "# Trying with Pandas"
   ]
  },
  {
   "cell_type": "code",
   "execution_count": null,
   "id": "b2e004c7",
   "metadata": {
    "scrolled": true
   },
   "outputs": [],
   "source": [
    "# We can convert it to a table using pandas\n",
    "\n",
    "df = pd.DataFrame([x.__dict__ for x in data.results])\n",
    "df\n"
   ]
  },
  {
   "cell_type": "code",
   "execution_count": null,
   "id": "7cc2c9e3",
   "metadata": {
    "scrolled": true
   },
   "outputs": [],
   "source": [
    "import numpy as np\n",
    "edges = np.linspace(df.x_min,df.x_max,101).T\n",
    "df.loc[:,'edges'] = list(edges)\n",
    "df_run = df[df.run_number == 379391]\n",
    "df_run"
   ]
  },
  {
   "cell_type": "code",
   "execution_count": null,
   "id": "38db06d4",
   "metadata": {
    "scrolled": false
   },
   "outputs": [],
   "source": [
    "fig,ax = plt.subplots()\n",
    "make_histo(df.iloc[::20].reset_index(),ax,\n",
    "           title = \"Pixel Barrel Layer 1\", xlabel= \"Charge [Electrons]\")\n",
    "\n",
    "    "
   ]
  },
  {
   "cell_type": "code",
   "execution_count": null,
   "id": "c9128221",
   "metadata": {},
   "outputs": [],
   "source": []
  }
 ],
 "metadata": {
  "@webio": {
   "lastCommId": null,
   "lastKernelId": null
  },
  "kernelspec": {
   "display_name": "Python 3",
   "language": "python",
   "name": "python3"
  },
  "language_info": {
   "codemirror_mode": {
    "name": "ipython",
    "version": 3
   },
   "file_extension": ".py",
   "mimetype": "text/x-python",
   "name": "python",
   "nbconvert_exporter": "python",
   "pygments_lexer": "ipython3",
   "version": "3.9.12"
  }
 },
 "nbformat": 4,
 "nbformat_minor": 5
}
