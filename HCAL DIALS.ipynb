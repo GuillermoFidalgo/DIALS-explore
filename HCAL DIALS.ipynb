{
 "cells": [
  {
   "cell_type": "markdown",
   "id": "8879babd-ae10-4068-8d00-a3efc50fc11e",
   "metadata": {},
   "source": [
    "# Gather HCAL histos"
   ]
  },
  {
   "cell_type": "code",
   "execution_count": null,
   "id": "8cf4784a-95e2-453e-ab53-706e6b98e47e",
   "metadata": {},
   "outputs": [],
   "source": [
    "import pandas as pd\n",
    "import numpy as np\n",
    "\n",
    "# import cmsdials\n",
    "from cmsdials import Dials\n",
    "from cmsdials.auth.bearer import Credentials\n",
    "from cmsdials.filters import (\n",
    "    FileIndexFilters,\n",
    "    LumisectionHistogram1DFilters,\n",
    "    LumisectionHistogram2DFilters,\n",
    "    LumisectionFilters,\n",
    "    RunFilters,\n",
    "    MEFilters\n",
    ")"
   ]
  },
  {
   "cell_type": "code",
   "execution_count": null,
   "id": "70cbfb1f-96fd-41f0-b2e1-b5906c61da18",
   "metadata": {},
   "outputs": [],
   "source": [
    "creds = Credentials.from_creds_file()\n",
    "\n",
    "dials = Dials(creds,workspace=\"hcal\") # this will load into a DQM workspace by default (i.e. Tracker,HCAL,ECAL,etc.)"
   ]
  },
  {
   "cell_type": "code",
   "execution_count": null,
   "id": "4c9434cd-de70-442e-b40f-d40e3f9a6df3",
   "metadata": {},
   "outputs": [],
   "source": [
    "kwargs= dict(\n",
    "    status=\"FINISHED\",\n",
    "    dataset__regex=\"ZeroBias/Run2024[A-Z]-PromptReco/*\",\n",
    "    dim = 2,\n",
    "    page_size = 500\n",
    "            )"
   ]
  },
  {
   "cell_type": "code",
   "execution_count": null,
   "id": "c2dde9a9-f552-4dcb-9e5a-1b4a562908bd",
   "metadata": {
    "editable": true,
    "slideshow": {
     "slide_type": ""
    },
    "tags": []
   },
   "outputs": [],
   "source": [
    "allMEs= dials.mes.list_all(MEFilters(**kwargs))\n",
    "allMEs"
   ]
  },
  {
   "cell_type": "code",
   "execution_count": null,
   "id": "a9f9c7ae-50f2-41b2-a02f-102ab7498fc9",
   "metadata": {},
   "outputs": [],
   "source": [
    "RunsDF = dials.run.list_all(\n",
    "                    RunFilters(**kwargs),\n",
    "                    enable_progress = True\n",
    ").to_pandas()\n",
    "\n",
    "ls_mask = RunsDF.loc[:,\"ls_count\"] > 1000\n",
    "selected_runs = RunsDF.loc[ls_mask].reset_index()\n",
    "del RunsDF"
   ]
  },
  {
   "cell_type": "code",
   "execution_count": null,
   "id": "c205021f-81ec-4448-a958-2bc2dcd4f0f3",
   "metadata": {},
   "outputs": [],
   "source": [
    "selected_runs.loc[::7].info()"
   ]
  },
  {
   "cell_type": "code",
   "execution_count": null,
   "id": "2053791b-38b9-4da8-b446-9c81e6405f54",
   "metadata": {},
   "outputs": [],
   "source": [
    "testDF = dials.h2d.list(LumisectionHistogram2DFilters(run_number=383687)\n",
    "                       ).to_pandas()\n",
    "testDF"
   ]
  },
  {
   "cell_type": "markdown",
   "id": "c71d2d91-c7d6-435a-927f-ca281f0d8903",
   "metadata": {},
   "source": [
    "# Now downloading all the data and making the files"
   ]
  },
  {
   "cell_type": "code",
   "execution_count": null,
   "id": "885c2ee0-5399-44c7-ae80-6e5154c4df01",
   "metadata": {},
   "outputs": [],
   "source": [
    "selected_runs"
   ]
  },
  {
   "cell_type": "code",
   "execution_count": null,
   "id": "8c8139ac-5173-4812-91a2-e58e0389b4ac",
   "metadata": {},
   "outputs": [],
   "source": [
    "import os\n",
    "\n",
    "finished = [file for file in os.listdir() if \"run\" in file]\n",
    "for run in selected_runs.run_number:\n",
    "    for fin in finished:\n",
    "        if f\"{run:_}\" in fin:\n",
    "            print(f\"skipping {run:_}\")\n",
    "        \n",
    "    \n",
    "# os.path.exists(\"run-378_239.parquet\")"
   ]
  },
  {
   "cell_type": "code",
   "execution_count": null,
   "id": "b3bcb105-9124-4f37-99b2-05c72e525151",
   "metadata": {
    "editable": true,
    "slideshow": {
     "slide_type": ""
    },
    "tags": []
   },
   "outputs": [],
   "source": [
    "for run in selected_runs.run_number:\n",
    "    skip=False\n",
    "    \n",
    "    for fin in finished:\n",
    "        if f\"{run:_}\" in fin:\n",
    "            print(f\"skipping {run:_}\")\n",
    "            skip=True\n",
    "    \n",
    "    if not skip:\n",
    "        print(f\"Starting download of {run:_}\")\n",
    "        irun_df = dials.h2d.list_all(\n",
    "                                    LumisectionHistogram2DFilters(run_number=run,page_size=500),\n",
    "                                     enable_progress=True\n",
    "        ).to_pandas()\n",
    "        \n",
    "        irun_df.to_parquet(f\"run-{run:_}.parquet\")\n",
    "        print(f\"Done with {run = :,}.\") \n",
    "        del irun_df"
   ]
  },
  {
   "cell_type": "code",
   "execution_count": null,
   "id": "d5a2c995-d638-4ba9-9b51-8bb4f568d5f2",
   "metadata": {},
   "outputs": [],
   "source": []
  }
 ],
 "metadata": {
  "kernelspec": {
   "display_name": "DIALS",
   "language": "python",
   "name": "python3"
  },
  "language_info": {
   "codemirror_mode": {
    "name": "ipython",
    "version": 3
   },
   "file_extension": ".py",
   "mimetype": "text/x-python",
   "name": "python",
   "nbconvert_exporter": "python",
   "pygments_lexer": "ipython3",
   "version": "3.11.8"
  }
 },
 "nbformat": 4,
 "nbformat_minor": 5
}
