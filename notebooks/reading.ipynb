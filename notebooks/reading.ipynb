{
 "cells": [
  {
   "cell_type": "code",
   "execution_count": 2,
   "id": "740a7695-2652-4ceb-9ef8-6ff4254dd561",
   "metadata": {},
   "outputs": [],
   "source": [
    "import pandas as pd"
   ]
  },
  {
   "cell_type": "code",
   "execution_count": 10,
   "id": "fd065e0b-06cd-41a6-bbe7-e11439871638",
   "metadata": {},
   "outputs": [
    {
     "name": "stdout",
     "output_type": "stream",
     "text": [
      "drwxr-xr-x. 2 gfidalgo 1399 4.0K May  9 11:44  parquet_files500\n",
      "-rw-r--r--. 1 gfidalgo 1399  31K May 23 21:20 'HCAL DIALS.ipynb'\n",
      "-rw-r--r--. 1 gfidalgo 1399 854K May 26 05:00  all2024files.csv\n",
      "drwxr-xr-x. 2 gfidalgo 1399 4.0K May 26 09:42  root_files\n",
      "-rw-r--r--. 1 gfidalgo 1399 398K May 26 19:34  long_runs.csv\n",
      "-rw-r--r--. 1 gfidalgo 1399 190K May 27 18:54  Testing_Dials-py.ipynb\n",
      "-rw-r--r--. 1 gfidalgo 1399 162K May 31 00:49  Root_files.ipynb\n",
      "-rw-r--r--. 1 gfidalgo 1399 8.9K May 31 00:49  reading.ipynb\n"
     ]
    }
   ],
   "source": [
    "!ls -Alhtdr *"
   ]
  },
  {
   "cell_type": "code",
   "execution_count": 11,
   "id": "44537c1a-6b6a-482c-bca7-e3f7a90c979a",
   "metadata": {},
   "outputs": [],
   "source": [
    "df = pd.read_parquet(\"parquet_files500/run-378_239.parquet\")"
   ]
  },
  {
   "cell_type": "code",
   "execution_count": 12,
   "id": "0fba94f3-dcc1-4229-8640-a559bb344616",
   "metadata": {
    "scrolled": true
   },
   "outputs": [
    {
     "name": "stdout",
     "output_type": "stream",
     "text": [
      "<class 'pandas.core.frame.DataFrame'>\n",
      "RangeIndex: 15568 entries, 0 to 15567\n",
      "Data columns (total 15 columns):\n",
      " #   Column      Non-Null Count  Dtype  \n",
      "---  ------      --------------  -----  \n",
      " 0   dataset     15568 non-null  object \n",
      " 1   me          15568 non-null  object \n",
      " 2   dataset_id  15568 non-null  int64  \n",
      " 3   file_id     15568 non-null  int64  \n",
      " 4   run_number  15568 non-null  int64  \n",
      " 5   ls_number   15568 non-null  int64  \n",
      " 6   me_id       15568 non-null  int64  \n",
      " 7   x_min       15568 non-null  float64\n",
      " 8   x_max       15568 non-null  float64\n",
      " 9   x_bin       15568 non-null  float64\n",
      " 10  y_min       15568 non-null  float64\n",
      " 11  y_max       15568 non-null  float64\n",
      " 12  y_bin       15568 non-null  float64\n",
      " 13  entries     15568 non-null  int64  \n",
      " 14  data        15568 non-null  object \n",
      "dtypes: float64(6), int64(6), object(3)\n",
      "memory usage: 1.8+ MB\n"
     ]
    }
   ],
   "source": [
    "df.info()"
   ]
  },
  {
   "cell_type": "markdown",
   "id": "5eb95462-e4e9-4f12-b9c3-14f633744a01",
   "metadata": {},
   "source": [
    "# Reading"
   ]
  },
  {
   "cell_type": "code",
   "execution_count": 13,
   "id": "a7d54ffb-132a-4022-8351-3c610ecfc9f9",
   "metadata": {},
   "outputs": [
    {
     "data": {
      "text/html": [
       "<div>\n",
       "<style scoped>\n",
       "    .dataframe tbody tr th:only-of-type {\n",
       "        vertical-align: middle;\n",
       "    }\n",
       "\n",
       "    .dataframe tbody tr th {\n",
       "        vertical-align: top;\n",
       "    }\n",
       "\n",
       "    .dataframe thead th {\n",
       "        text-align: right;\n",
       "    }\n",
       "</style>\n",
       "<table border=\"1\" class=\"dataframe\">\n",
       "  <thead>\n",
       "    <tr style=\"text-align: right;\">\n",
       "      <th></th>\n",
       "      <th>logical_file_name</th>\n",
       "    </tr>\n",
       "  </thead>\n",
       "  <tbody>\n",
       "    <tr>\n",
       "      <th>0</th>\n",
       "      <td>root://eoscms.cern.ch//eos/cms/store/data/Run2...</td>\n",
       "    </tr>\n",
       "    <tr>\n",
       "      <th>1</th>\n",
       "      <td>root://eoscms.cern.ch//eos/cms/store/data/Run2...</td>\n",
       "    </tr>\n",
       "    <tr>\n",
       "      <th>2</th>\n",
       "      <td>root://eoscms.cern.ch//eos/cms/store/data/Run2...</td>\n",
       "    </tr>\n",
       "    <tr>\n",
       "      <th>3</th>\n",
       "      <td>root://eoscms.cern.ch//eos/cms/store/data/Run2...</td>\n",
       "    </tr>\n",
       "    <tr>\n",
       "      <th>4</th>\n",
       "      <td>root://eoscms.cern.ch//eos/cms/store/data/Run2...</td>\n",
       "    </tr>\n",
       "    <tr>\n",
       "      <th>...</th>\n",
       "      <td>...</td>\n",
       "    </tr>\n",
       "    <tr>\n",
       "      <th>6238</th>\n",
       "      <td>root://eoscms.cern.ch//eos/cms/store/data/Run2...</td>\n",
       "    </tr>\n",
       "    <tr>\n",
       "      <th>6239</th>\n",
       "      <td>root://eoscms.cern.ch//eos/cms/store/data/Run2...</td>\n",
       "    </tr>\n",
       "    <tr>\n",
       "      <th>6240</th>\n",
       "      <td>root://eoscms.cern.ch//eos/cms/store/data/Run2...</td>\n",
       "    </tr>\n",
       "    <tr>\n",
       "      <th>6241</th>\n",
       "      <td>root://eoscms.cern.ch//eos/cms/store/data/Run2...</td>\n",
       "    </tr>\n",
       "    <tr>\n",
       "      <th>6242</th>\n",
       "      <td>root://eoscms.cern.ch//eos/cms/store/data/Run2...</td>\n",
       "    </tr>\n",
       "  </tbody>\n",
       "</table>\n",
       "<p>6243 rows × 1 columns</p>\n",
       "</div>"
      ],
      "text/plain": [
       "                                      logical_file_name\n",
       "0     root://eoscms.cern.ch//eos/cms/store/data/Run2...\n",
       "1     root://eoscms.cern.ch//eos/cms/store/data/Run2...\n",
       "2     root://eoscms.cern.ch//eos/cms/store/data/Run2...\n",
       "3     root://eoscms.cern.ch//eos/cms/store/data/Run2...\n",
       "4     root://eoscms.cern.ch//eos/cms/store/data/Run2...\n",
       "...                                                 ...\n",
       "6238  root://eoscms.cern.ch//eos/cms/store/data/Run2...\n",
       "6239  root://eoscms.cern.ch//eos/cms/store/data/Run2...\n",
       "6240  root://eoscms.cern.ch//eos/cms/store/data/Run2...\n",
       "6241  root://eoscms.cern.ch//eos/cms/store/data/Run2...\n",
       "6242  root://eoscms.cern.ch//eos/cms/store/data/Run2...\n",
       "\n",
       "[6243 rows x 1 columns]"
      ]
     },
     "execution_count": 13,
     "metadata": {},
     "output_type": "execute_result"
    }
   ],
   "source": [
    "pd.read_csv(\"all2024files.csv\")"
   ]
  },
  {
   "cell_type": "code",
   "execution_count": 14,
   "id": "6452da21-d2da-4b59-a381-086d492af757",
   "metadata": {
    "scrolled": true
   },
   "outputs": [],
   "source": [
    "df = pd.read_csv(\"long_runs.csv\")"
   ]
  },
  {
   "cell_type": "code",
   "execution_count": 29,
   "id": "b53bb149-b5be-4c7e-bda5-7cdc3bd7bfd2",
   "metadata": {},
   "outputs": [
    {
     "data": {
      "text/plain": [
       "0       /ZeroBias/Run2024B-PromptReco-v1/DQMIO\n",
       "1       /ZeroBias/Run2024B-PromptReco-v1/DQMIO\n",
       "2       /ZeroBias/Run2024B-PromptReco-v1/DQMIO\n",
       "3       /ZeroBias/Run2024B-PromptReco-v1/DQMIO\n",
       "4       /ZeroBias/Run2024B-PromptReco-v1/DQMIO\n",
       "                         ...                  \n",
       "1418    /ZeroBias/Run2024I-PromptReco-v2/DQMIO\n",
       "1419    /ZeroBias/Run2024I-PromptReco-v2/DQMIO\n",
       "1420    /ZeroBias/Run2024I-PromptReco-v2/DQMIO\n",
       "1421    /ZeroBias/Run2024I-PromptReco-v2/DQMIO\n",
       "1422    /ZeroBias/Run2024I-PromptReco-v2/DQMIO\n",
       "Name: dataset, Length: 1423, dtype: object"
      ]
     },
     "execution_count": 29,
     "metadata": {},
     "output_type": "execute_result"
    }
   ],
   "source": [
    "df.dataset"
   ]
  },
  {
   "cell_type": "code",
   "execution_count": 39,
   "id": "29794714-a58e-4d23-a624-c69c3f3cd90a",
   "metadata": {},
   "outputs": [
    {
     "data": {
      "text/plain": [
       "'root://eoscms.cern.ch//eos/cms/store/data/Run2024I/ZeroBias/DQMIO/PromptReco-v1/000/386/509/00000/4B403309-48F7-4BD6-89FC-9743CB779F08.root'"
      ]
     },
     "execution_count": 39,
     "metadata": {},
     "output_type": "execute_result"
    }
   ],
   "source": [
    "df[df.dataset.str.contains('Run2024I', case=False)].logical_file_name.iloc[3]"
   ]
  },
  {
   "cell_type": "code",
   "execution_count": 40,
   "id": "87a75678-aad5-4102-89e4-00c0fb9c241a",
   "metadata": {},
   "outputs": [],
   "source": [
    "import uproot \n",
    "file = uproot.open('root://eoscms.cern.ch//eos/cms/store/data/Run2024I/ZeroBias/DQMIO/PromptReco-v1/000/386/509/00000/4B403309-48F7-4BD6-89FC-9743CB779F08.root')"
   ]
  },
  {
   "cell_type": "code",
   "execution_count": 43,
   "id": "90fce18b-4422-481c-9a22-f6991b5476d6",
   "metadata": {},
   "outputs": [
    {
     "data": {
      "text/plain": [
       "['cms::edm::GUID;1',\n",
       " 'TProfile2Ds;4',\n",
       " 'TProfile2Ds;3',\n",
       " 'TH1Fs;3',\n",
       " 'TH1Fs;2',\n",
       " 'TH2Fs;4',\n",
       " 'TH2Fs;3',\n",
       " 'TProfiles;2',\n",
       " 'TProfiles;1',\n",
       " 'MetaData;1',\n",
       " 'MetaData/ProcessHistories;1',\n",
       " 'MetaData/ParameterSets;1',\n",
       " 'Indices;1',\n",
       " 'Ints;1',\n",
       " 'Floats;1',\n",
       " 'Strings;1',\n",
       " 'TH1Ss;1',\n",
       " 'TH1Ds;1',\n",
       " 'TH2Ss;1',\n",
       " 'TH2Ds;1',\n",
       " 'TH3Fs;1',\n",
       " 'TH1Is;1',\n",
       " 'TH2Is;1']"
      ]
     },
     "execution_count": 43,
     "metadata": {},
     "output_type": "execute_result"
    }
   ],
   "source": [
    "file.keys()"
   ]
  },
  {
   "cell_type": "code",
   "execution_count": 50,
   "id": "b13669f5-5b2a-4560-bbf8-327dc08986cf",
   "metadata": {},
   "outputs": [
    {
     "data": {
      "text/plain": [
       "[<TBranchElement 'FullName' at 0x7f8c52aa5590>,\n",
       " <TBranch 'Flags' at 0x7f8c52aa7c10>,\n",
       " <TBranchElement 'Value' at 0x7f8c52aa5650>]"
      ]
     },
     "execution_count": 50,
     "metadata": {},
     "output_type": "execute_result"
    }
   ],
   "source": [
    "file['TH1Is'].values()"
   ]
  }
 ],
 "metadata": {
  "kernelspec": {
   "display_name": "Python 3",
   "language": "python",
   "name": "python3"
  },
  "language_info": {
   "codemirror_mode": {
    "name": "ipython",
    "version": 3
   },
   "file_extension": ".py",
   "mimetype": "text/x-python",
   "name": "python",
   "nbconvert_exporter": "python",
   "pygments_lexer": "ipython3",
   "version": "3.11.9"
  }
 },
 "nbformat": 4,
 "nbformat_minor": 5
}
