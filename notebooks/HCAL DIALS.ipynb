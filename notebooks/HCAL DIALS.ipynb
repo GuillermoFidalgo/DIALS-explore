{
 "cells": [
  {
   "cell_type": "markdown",
   "id": "8879babd-ae10-4068-8d00-a3efc50fc11e",
   "metadata": {},
   "source": [
    "# Gather HCAL histos"
   ]
  },
  {
   "cell_type": "code",
   "execution_count": null,
   "id": "8cf4784a-95e2-453e-ab53-706e6b98e47e",
   "metadata": {},
   "outputs": [],
   "source": [
    "import pandas as pd\n",
    "import numpy as np\n",
    "\n",
    "# import cmsdials\n",
    "from cmsdials import Dials\n",
    "from cmsdials.auth.bearer import Credentials\n",
    "from cmsdials.filters import (\n",
    "    FileIndexFilters,\n",
    "    LumisectionHistogram1DFilters,\n",
    "    LumisectionHistogram2DFilters,\n",
    "    LumisectionFilters,\n",
    "    RunFilters,\n",
    "    MEFilters\n",
    ")"
   ]
  },
  {
   "cell_type": "code",
   "execution_count": null,
   "id": "70cbfb1f-96fd-41f0-b2e1-b5906c61da18",
   "metadata": {},
   "outputs": [],
   "source": [
    "creds = Credentials.from_creds_file()\n",
    "\n",
    "dials = Dials(creds,workspace=\"hcal\") # this will load into a DQM workspace by default (i.e. Tracker,HCAL,ECAL,etc.)"
   ]
  },
  {
   "cell_type": "code",
   "execution_count": null,
   "id": "4c9434cd-de70-442e-b40f-d40e3f9a6df3",
   "metadata": {},
   "outputs": [],
   "source": [
    "kwargs= dict(\n",
    "    status=\"FINISHED\",\n",
    "    dataset__regex=\"ZeroBias/Run2024[A-Z]-PromptReco/*\",\n",
    "    dim = 2,\n",
    "    page_size = 500,\n",
    "    me__regex = \"OccupancyCut\"\n",
    "            )"
   ]
  },
  {
   "cell_type": "code",
   "execution_count": null,
   "id": "c2dde9a9-f552-4dcb-9e5a-1b4a562908bd",
   "metadata": {
    "editable": true,
    "slideshow": {
     "slide_type": ""
    },
    "tags": []
   },
   "outputs": [],
   "source": [
    "allMEs= dials.mes.list(MEFilters(**kwargs))\n",
    "allMEs"
   ]
  },
  {
   "cell_type": "code",
   "execution_count": null,
   "id": "a9f9c7ae-50f2-41b2-a02f-102ab7498fc9",
   "metadata": {},
   "outputs": [],
   "source": [
    "RunsDF = dials.run.list_all(\n",
    "                    RunFilters(**kwargs),\n",
    "                    enable_progress = True\n",
    ").to_pandas()\n",
    "\n",
    "ls_mask = RunsDF.loc[:,\"ls_count\"] > 1000\n",
    "long_runs = RunsDF.loc[ls_mask].reset_index()\n",
    "del RunsDF"
   ]
  },
  {
   "cell_type": "markdown",
   "id": "76cb79d4",
   "metadata": {},
   "source": [
    "Now selecting only the Golden Json runs that are over 1000 Ls"
   ]
  },
  {
   "cell_type": "code",
   "execution_count": null,
   "id": "f67480e1",
   "metadata": {},
   "outputs": [],
   "source": [
    "import requests, json\n",
    "# getting the 2024 Golden Json\n",
    "url = \"https://cms-service-dqmdc.web.cern.ch/CAF/certification/Collisions24/Cert_Collisions2024_378981_386951_Golden.json\"\n",
    "res = requests.get(url)\n",
    "\n",
    "golden2024json=json.loads(res.content)\n",
    "golden_numbers = [int(i) for i in golden2024json]"
   ]
  },
  {
   "cell_type": "code",
   "execution_count": null,
   "id": "a2ab423d",
   "metadata": {},
   "outputs": [],
   "source": [
    "df_golden = long_runs[long_runs.run_number.isin(golden_numbers)].drop(columns='index')\n",
    "df_golden"
   ]
  },
  {
   "cell_type": "code",
   "execution_count": null,
   "id": "a8471808",
   "metadata": {},
   "outputs": [],
   "source": [
    "df_golden.nunique()"
   ]
  },
  {
   "cell_type": "markdown",
   "id": "c71d2d91-c7d6-435a-927f-ca281f0d8903",
   "metadata": {},
   "source": [
    "# Now downloading all the data and making the files\n",
    "Let's make parque files of Golden Json runs"
   ]
  },
  {
   "cell_type": "code",
   "execution_count": null,
   "id": "a340a715",
   "metadata": {},
   "outputs": [],
   "source": [
    "kwargs"
   ]
  },
  {
   "cell_type": "code",
   "execution_count": null,
   "id": "8c8139ac-5173-4812-91a2-e58e0389b4ac",
   "metadata": {},
   "outputs": [],
   "source": [
    "base_path = '../files/Ls_ge_1k'\n",
    "os.makedirs(base_path,exist_ok=True)\n",
    "finished = [file for file in os.listdir(base_path) if \"run\" in file]\n",
    "for run in df_golden.run_number:\n",
    "    for fin in finished:\n",
    "        if f\"{run:_}\" in fin:\n",
    "            print(f\"skipping {run:_}\")\n",
    "        \n",
    "    \n",
    "# os.path.exists(\"run-378_239.parquet\")\n",
    "finished\n"
   ]
  },
  {
   "cell_type": "code",
   "execution_count": null,
   "id": "97481e40",
   "metadata": {},
   "outputs": [],
   "source": [
    "len(finished)"
   ]
  },
  {
   "cell_type": "code",
   "execution_count": null,
   "id": "c26f1096",
   "metadata": {},
   "outputs": [],
   "source": [
    "from urllib3 import Retry"
   ]
  },
  {
   "cell_type": "code",
   "execution_count": null,
   "id": "b3bcb105-9124-4f37-99b2-05c72e525151",
   "metadata": {
    "editable": true,
    "slideshow": {
     "slide_type": ""
    },
    "tags": []
   },
   "outputs": [],
   "source": [
    "for run in df_golden.run_number:\n",
    "    skip=False\n",
    "    \n",
    "    for fin in finished:\n",
    "        if f\"{run:_}\" in fin:\n",
    "            print(f\"skipping {run:_}\")\n",
    "            skip=True\n",
    "    \n",
    "    if not skip:\n",
    "        print(f\"Starting download of {run:_}\")\n",
    "        irun_df = dials.h2d.list_all(\n",
    "                                    LumisectionHistogram2DFilters(**kwargs,run_number=run),\n",
    "                                    enable_progress=True,\n",
    "                                    retries=Retry(total=3, backoff_factor=0.1)\n",
    "        ).to_pandas()\n",
    "        \n",
    "        irun_df.to_parquet(f\"{base_path}/run-{run:_}.parquet\")\n",
    "        print(f\"Done with {run = :,}.\") \n",
    "        del irun_df"
   ]
  },
  {
   "cell_type": "code",
   "execution_count": null,
   "id": "d5a2c995-d638-4ba9-9b51-8bb4f568d5f2",
   "metadata": {},
   "outputs": [],
   "source": [
    "print(f\"{base_path} has been populated with {len(os.listdir(base_path))} runs.\")"
   ]
  }
 ],
 "metadata": {
  "kernelspec": {
   "display_name": "DIALS",
   "language": "python",
   "name": "python3"
  },
  "language_info": {
   "codemirror_mode": {
    "name": "ipython",
    "version": 3
   },
   "file_extension": ".py",
   "mimetype": "text/x-python",
   "name": "python",
   "nbconvert_exporter": "python",
   "pygments_lexer": "ipython3",
   "version": "3.13.5"
  }
 },
 "nbformat": 4,
 "nbformat_minor": 5
}
