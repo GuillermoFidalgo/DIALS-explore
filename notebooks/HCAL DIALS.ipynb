{
 "cells": [
  {
   "cell_type": "markdown",
   "id": "8879babd-ae10-4068-8d00-a3efc50fc11e",
   "metadata": {},
   "source": [
    "# Gather HCAL histos"
   ]
  },
  {
   "cell_type": "code",
   "execution_count": 1,
   "id": "8cf4784a-95e2-453e-ab53-706e6b98e47e",
   "metadata": {},
   "outputs": [],
   "source": [
    "import pandas as pd\n",
    "import numpy as np\n",
    "\n",
    "# import cmsdials\n",
    "from cmsdials import Dials\n",
    "from cmsdials.auth.bearer import Credentials\n",
    "from cmsdials.filters import (\n",
    "    FileIndexFilters,\n",
    "    LumisectionHistogram1DFilters,\n",
    "    LumisectionHistogram2DFilters,\n",
    "    LumisectionFilters,\n",
    "    RunFilters,\n",
    "    MEFilters\n",
    ")"
   ]
  },
  {
   "cell_type": "code",
   "execution_count": 2,
   "id": "70cbfb1f-96fd-41f0-b2e1-b5906c61da18",
   "metadata": {},
   "outputs": [
    {
     "name": "stderr",
     "output_type": "stream",
     "text": [
      "[2025-05-22 13:49:09,313] INFO: Access token and refresh token are expired, triggering device authentication flow...\n",
      "[2025-05-22 13:49:10,122] INFO: This device will expire in 600 seconds.\n",
      "[2025-05-22 13:49:10,123] INFO: Go to the following url and authenticate: https://auth.cern.ch/auth/realms/cern/device?user_code=RAHF-SYWQ\n",
      "[2025-05-22 13:49:10,123] INFO: Checking authorization status every 5 seconds...\n",
      "[2025-05-22 13:49:15,787] INFO: Device not authorized yet.\n",
      "[2025-05-22 13:49:21,400] INFO: Device not authorized yet.\n",
      "[2025-05-22 13:49:27,014] INFO: Device not authorized yet.\n",
      "[2025-05-22 13:49:33,227] INFO: Device not authorized yet.\n",
      "[2025-05-22 13:49:38,887] INFO: Device not authorized yet.\n",
      "[2025-05-22 13:49:44,637] INFO: Device authorized, authentication finished successfully!\n"
     ]
    }
   ],
   "source": [
    "creds = Credentials.from_creds_file()\n",
    "\n",
    "dials = Dials(creds,workspace=\"hcal\") # this will load into a DQM workspace by default (i.e. Tracker,HCAL,ECAL,etc.)"
   ]
  },
  {
   "cell_type": "code",
   "execution_count": 3,
   "id": "4c9434cd-de70-442e-b40f-d40e3f9a6df3",
   "metadata": {},
   "outputs": [],
   "source": [
    "kwargs= dict(\n",
    "    status=\"FINISHED\",\n",
    "    dataset__regex=\"ZeroBias/Run2024[A-Z]-PromptReco/*\",\n",
    "    dim = 2,\n",
    "    page_size = 500,\n",
    "            )"
   ]
  },
  {
   "cell_type": "code",
   "execution_count": 4,
   "id": "c2dde9a9-f552-4dcb-9e5a-1b4a562908bd",
   "metadata": {
    "editable": true,
    "slideshow": {
     "slide_type": ""
    },
    "tags": []
   },
   "outputs": [
    {
     "data": {
      "text/plain": [
       "[MonitoringElement(me_id=18, me='Hcal/DigiTask/Occupancy/depth/depth1', count=1310900, dim=2),\n",
       " MonitoringElement(me_id=19, me='Hcal/DigiTask/Occupancy/depth/depth2', count=1310900, dim=2),\n",
       " MonitoringElement(me_id=20, me='Hcal/DigiTask/Occupancy/depth/depth3', count=1310900, dim=2),\n",
       " MonitoringElement(me_id=21, me='Hcal/DigiTask/Occupancy/depth/depth4', count=1310900, dim=2),\n",
       " MonitoringElement(me_id=22, me='Hcal/DigiTask/Occupancy/depth/depth5', count=1310900, dim=2),\n",
       " MonitoringElement(me_id=23, me='Hcal/DigiTask/Occupancy/depth/depth6', count=1310900, dim=2),\n",
       " MonitoringElement(me_id=24, me='Hcal/DigiTask/Occupancy/depth/depth7', count=1310900, dim=2),\n",
       " MonitoringElement(me_id=25, me='Hcal/DigiTask/Occupancy/depth/depthHO', count=1310900, dim=2),\n",
       " MonitoringElement(me_id=102, me='Hcal/DigiTask/OccupancyCut/depth/depth1', count=1024239, dim=2),\n",
       " MonitoringElement(me_id=103, me='Hcal/DigiTask/OccupancyCut/depth/depth2', count=1024239, dim=2),\n",
       " MonitoringElement(me_id=104, me='Hcal/DigiTask/OccupancyCut/depth/depth3', count=1024239, dim=2),\n",
       " MonitoringElement(me_id=105, me='Hcal/DigiTask/OccupancyCut/depth/depth4', count=1024239, dim=2),\n",
       " MonitoringElement(me_id=106, me='Hcal/DigiTask/OccupancyCut/depth/depth5', count=1024239, dim=2),\n",
       " MonitoringElement(me_id=107, me='Hcal/DigiTask/OccupancyCut/depth/depth6', count=1024239, dim=2),\n",
       " MonitoringElement(me_id=108, me='Hcal/DigiTask/OccupancyCut/depth/depth7', count=1024239, dim=2),\n",
       " MonitoringElement(me_id=109, me='Hcal/DigiTask/OccupancyCut/depth/depthHO', count=1024239, dim=2)]"
      ]
     },
     "execution_count": 4,
     "metadata": {},
     "output_type": "execute_result"
    }
   ],
   "source": [
    "allMEs= dials.mes.list_all(MEFilters(**kwargs))\n",
    "allMEs"
   ]
  },
  {
   "cell_type": "code",
   "execution_count": 22,
   "id": "a9f9c7ae-50f2-41b2-a02f-102ab7498fc9",
   "metadata": {},
   "outputs": [
    {
     "data": {
      "application/vnd.jupyter.widget-view+json": {
       "model_id": "48f28eed439d4e0bb99dc75870efc406",
       "version_major": 2,
       "version_minor": 0
      },
      "text/plain": [
       "Progress:   0%|          | 0/1 [00:00<?, ?it/s]"
      ]
     },
     "metadata": {},
     "output_type": "display_data"
    }
   ],
   "source": [
    "RunsDF = dials.run.list_all(\n",
    "                    RunFilters(**kwargs),\n",
    "                    enable_progress = True\n",
    ").to_pandas()\n",
    "\n",
    "ls_mask = RunsDF.loc[:,\"ls_count\"] > 1000\n",
    "long_runs = RunsDF.loc[ls_mask].reset_index()\n",
    "del RunsDF"
   ]
  },
  {
   "cell_type": "code",
   "execution_count": 23,
   "id": "c205021f-81ec-4448-a958-2bc2dcd4f0f3",
   "metadata": {},
   "outputs": [],
   "source": [
    "# selected_runs.loc[::7].info()\n",
    "selected_runs = long_runs.loc[::7]"
   ]
  },
  {
   "cell_type": "markdown",
   "id": "b5fbd562",
   "metadata": {},
   "source": [
    "## Looking for the rootfiles that contain these runs"
   ]
  },
  {
   "cell_type": "code",
   "execution_count": 28,
   "id": "7bc1c574",
   "metadata": {},
   "outputs": [
    {
     "data": {
      "text/html": [
       "<div>\n",
       "<style scoped>\n",
       "    .dataframe tbody tr th:only-of-type {\n",
       "        vertical-align: middle;\n",
       "    }\n",
       "\n",
       "    .dataframe tbody tr th {\n",
       "        vertical-align: top;\n",
       "    }\n",
       "\n",
       "    .dataframe thead th {\n",
       "        text-align: right;\n",
       "    }\n",
       "</style>\n",
       "<table border=\"1\" class=\"dataframe\">\n",
       "  <thead>\n",
       "    <tr style=\"text-align: right;\">\n",
       "      <th></th>\n",
       "      <th>dataset_id</th>\n",
       "      <th>dataset</th>\n",
       "      <th>run_number</th>\n",
       "      <th>ls_count</th>\n",
       "    </tr>\n",
       "  </thead>\n",
       "  <tbody>\n",
       "    <tr>\n",
       "      <th>0</th>\n",
       "      <td>14944573</td>\n",
       "      <td>/ZeroBias/Run2024B-PromptReco-v1/DQMIO</td>\n",
       "      <td>379154</td>\n",
       "      <td>1075</td>\n",
       "    </tr>\n",
       "    <tr>\n",
       "      <th>1</th>\n",
       "      <td>14949731</td>\n",
       "      <td>/ZeroBias/Run2024C-PromptReco-v1/DQMIO</td>\n",
       "      <td>380005</td>\n",
       "      <td>1101</td>\n",
       "    </tr>\n",
       "    <tr>\n",
       "      <th>2</th>\n",
       "      <td>14959583</td>\n",
       "      <td>/ZeroBias/Run2024D-PromptReco-v1/DQMIO</td>\n",
       "      <td>380470</td>\n",
       "      <td>1642</td>\n",
       "    </tr>\n",
       "    <tr>\n",
       "      <th>3</th>\n",
       "      <td>14959583</td>\n",
       "      <td>/ZeroBias/Run2024D-PromptReco-v1/DQMIO</td>\n",
       "      <td>380644</td>\n",
       "      <td>1010</td>\n",
       "    </tr>\n",
       "    <tr>\n",
       "      <th>4</th>\n",
       "      <td>14965177</td>\n",
       "      <td>/ZeroBias/Run2024E-PromptReco-v1/DQMIO</td>\n",
       "      <td>381190</td>\n",
       "      <td>1093</td>\n",
       "    </tr>\n",
       "    <tr>\n",
       "      <th>5</th>\n",
       "      <td>14972620</td>\n",
       "      <td>/ZeroBias/Run2024E-PromptReco-v2/DQMIO</td>\n",
       "      <td>381480</td>\n",
       "      <td>1287</td>\n",
       "    </tr>\n",
       "    <tr>\n",
       "      <th>6</th>\n",
       "      <td>14972620</td>\n",
       "      <td>/ZeroBias/Run2024E-PromptReco-v2/DQMIO</td>\n",
       "      <td>381793</td>\n",
       "      <td>1055</td>\n",
       "    </tr>\n",
       "    <tr>\n",
       "      <th>7</th>\n",
       "      <td>14986300</td>\n",
       "      <td>/ZeroBias/Run2024F-PromptReco-v1/DQMIO</td>\n",
       "      <td>382343</td>\n",
       "      <td>2238</td>\n",
       "    </tr>\n",
       "    <tr>\n",
       "      <th>8</th>\n",
       "      <td>14986300</td>\n",
       "      <td>/ZeroBias/Run2024F-PromptReco-v1/DQMIO</td>\n",
       "      <td>382769</td>\n",
       "      <td>1565</td>\n",
       "    </tr>\n",
       "    <tr>\n",
       "      <th>9</th>\n",
       "      <td>14986300</td>\n",
       "      <td>/ZeroBias/Run2024F-PromptReco-v1/DQMIO</td>\n",
       "      <td>383254</td>\n",
       "      <td>1255</td>\n",
       "    </tr>\n",
       "    <tr>\n",
       "      <th>10</th>\n",
       "      <td>14986300</td>\n",
       "      <td>/ZeroBias/Run2024F-PromptReco-v1/DQMIO</td>\n",
       "      <td>383615</td>\n",
       "      <td>1449</td>\n",
       "    </tr>\n",
       "    <tr>\n",
       "      <th>11</th>\n",
       "      <td>15042470</td>\n",
       "      <td>/ZeroBias/Run2024G-PromptReco-v1/DQMIO</td>\n",
       "      <td>383903</td>\n",
       "      <td>1123</td>\n",
       "    </tr>\n",
       "    <tr>\n",
       "      <th>12</th>\n",
       "      <td>15042470</td>\n",
       "      <td>/ZeroBias/Run2024G-PromptReco-v1/DQMIO</td>\n",
       "      <td>384239</td>\n",
       "      <td>1325</td>\n",
       "    </tr>\n",
       "    <tr>\n",
       "      <th>13</th>\n",
       "      <td>15042470</td>\n",
       "      <td>/ZeroBias/Run2024G-PromptReco-v1/DQMIO</td>\n",
       "      <td>384614</td>\n",
       "      <td>1290</td>\n",
       "    </tr>\n",
       "    <tr>\n",
       "      <th>14</th>\n",
       "      <td>15042470</td>\n",
       "      <td>/ZeroBias/Run2024G-PromptReco-v1/DQMIO</td>\n",
       "      <td>385127</td>\n",
       "      <td>2079</td>\n",
       "    </tr>\n",
       "    <tr>\n",
       "      <th>15</th>\n",
       "      <td>15042470</td>\n",
       "      <td>/ZeroBias/Run2024G-PromptReco-v1/DQMIO</td>\n",
       "      <td>385324</td>\n",
       "      <td>1878</td>\n",
       "    </tr>\n",
       "    <tr>\n",
       "      <th>16</th>\n",
       "      <td>15042470</td>\n",
       "      <td>/ZeroBias/Run2024G-PromptReco-v1/DQMIO</td>\n",
       "      <td>385728</td>\n",
       "      <td>1112</td>\n",
       "    </tr>\n",
       "    <tr>\n",
       "      <th>17</th>\n",
       "      <td>15074738</td>\n",
       "      <td>/ZeroBias/Run2024H-PromptReco-v1/DQMIO</td>\n",
       "      <td>386025</td>\n",
       "      <td>1903</td>\n",
       "    </tr>\n",
       "    <tr>\n",
       "      <th>18</th>\n",
       "      <td>15099576</td>\n",
       "      <td>/ZeroBias/Run2024I-PromptReco-v2/DQMIO</td>\n",
       "      <td>386694</td>\n",
       "      <td>1336</td>\n",
       "    </tr>\n",
       "    <tr>\n",
       "      <th>19</th>\n",
       "      <td>15139648</td>\n",
       "      <td>/ZeroBias/Run2024J-PromptReco-v1/DQMIO</td>\n",
       "      <td>387574</td>\n",
       "      <td>1084</td>\n",
       "    </tr>\n",
       "  </tbody>\n",
       "</table>\n",
       "</div>"
      ],
      "text/plain": [
       "    dataset_id                                 dataset  run_number  ls_count\n",
       "0     14944573  /ZeroBias/Run2024B-PromptReco-v1/DQMIO      379154      1075\n",
       "1     14949731  /ZeroBias/Run2024C-PromptReco-v1/DQMIO      380005      1101\n",
       "2     14959583  /ZeroBias/Run2024D-PromptReco-v1/DQMIO      380470      1642\n",
       "3     14959583  /ZeroBias/Run2024D-PromptReco-v1/DQMIO      380644      1010\n",
       "4     14965177  /ZeroBias/Run2024E-PromptReco-v1/DQMIO      381190      1093\n",
       "5     14972620  /ZeroBias/Run2024E-PromptReco-v2/DQMIO      381480      1287\n",
       "6     14972620  /ZeroBias/Run2024E-PromptReco-v2/DQMIO      381793      1055\n",
       "7     14986300  /ZeroBias/Run2024F-PromptReco-v1/DQMIO      382343      2238\n",
       "8     14986300  /ZeroBias/Run2024F-PromptReco-v1/DQMIO      382769      1565\n",
       "9     14986300  /ZeroBias/Run2024F-PromptReco-v1/DQMIO      383254      1255\n",
       "10    14986300  /ZeroBias/Run2024F-PromptReco-v1/DQMIO      383615      1449\n",
       "11    15042470  /ZeroBias/Run2024G-PromptReco-v1/DQMIO      383903      1123\n",
       "12    15042470  /ZeroBias/Run2024G-PromptReco-v1/DQMIO      384239      1325\n",
       "13    15042470  /ZeroBias/Run2024G-PromptReco-v1/DQMIO      384614      1290\n",
       "14    15042470  /ZeroBias/Run2024G-PromptReco-v1/DQMIO      385127      2079\n",
       "15    15042470  /ZeroBias/Run2024G-PromptReco-v1/DQMIO      385324      1878\n",
       "16    15042470  /ZeroBias/Run2024G-PromptReco-v1/DQMIO      385728      1112\n",
       "17    15074738  /ZeroBias/Run2024H-PromptReco-v1/DQMIO      386025      1903\n",
       "18    15099576  /ZeroBias/Run2024I-PromptReco-v2/DQMIO      386694      1336\n",
       "19    15139648  /ZeroBias/Run2024J-PromptReco-v1/DQMIO      387574      1084"
      ]
     },
     "execution_count": 28,
     "metadata": {},
     "output_type": "execute_result"
    }
   ],
   "source": [
    "# selected_runs.drop(columns=[\"index\"]).to_csv(\"selected_runs.csv\",index=False)\n",
    "selected_runs = pd.read_csv(\"selected_runs.csv\")\n",
    "selected_runs"
   ]
  },
  {
   "cell_type": "code",
   "execution_count": 29,
   "id": "2053791b-38b9-4da8-b446-9c81e6405f54",
   "metadata": {},
   "outputs": [
    {
     "data": {
      "application/vnd.jupyter.widget-view+json": {
       "model_id": "5d6753b1c6a0489ab3e793ca4f4fc9fd",
       "version_major": 2,
       "version_minor": 0
      },
      "text/plain": [
       "Progress:   0%|          | 0/1 [00:00<?, ?it/s]"
      ]
     },
     "metadata": {},
     "output_type": "display_data"
    },
    {
     "data": {
      "text/html": [
       "<div>\n",
       "<style scoped>\n",
       "    .dataframe tbody tr th:only-of-type {\n",
       "        vertical-align: middle;\n",
       "    }\n",
       "\n",
       "    .dataframe tbody tr th {\n",
       "        vertical-align: top;\n",
       "    }\n",
       "\n",
       "    .dataframe thead th {\n",
       "        text-align: right;\n",
       "    }\n",
       "</style>\n",
       "<table border=\"1\" class=\"dataframe\">\n",
       "  <thead>\n",
       "    <tr style=\"text-align: right;\">\n",
       "      <th></th>\n",
       "      <th>dataset_id</th>\n",
       "      <th>dataset</th>\n",
       "      <th>file_id</th>\n",
       "      <th>file_size</th>\n",
       "      <th>creation_date</th>\n",
       "      <th>last_modification_date</th>\n",
       "      <th>logical_file_name</th>\n",
       "      <th>status</th>\n",
       "      <th>err_trace</th>\n",
       "    </tr>\n",
       "  </thead>\n",
       "  <tbody>\n",
       "    <tr>\n",
       "      <th>0</th>\n",
       "      <td>14944573</td>\n",
       "      <td>/ZeroBias/Run2024B-PromptReco-v1/DQMIO</td>\n",
       "      <td>14005951477</td>\n",
       "      <td>309723126</td>\n",
       "      <td>2024-04-09 07:45:28+00:00</td>\n",
       "      <td>2024-04-09 07:45:28+00:00</td>\n",
       "      <td>/store/data/Run2024B/ZeroBias/DQMIO/PromptReco...</td>\n",
       "      <td>FINISHED</td>\n",
       "      <td>None</td>\n",
       "    </tr>\n",
       "    <tr>\n",
       "      <th>1</th>\n",
       "      <td>14944573</td>\n",
       "      <td>/ZeroBias/Run2024B-PromptReco-v1/DQMIO</td>\n",
       "      <td>14005951517</td>\n",
       "      <td>331788679</td>\n",
       "      <td>2024-04-09 07:45:28+00:00</td>\n",
       "      <td>2024-04-09 07:45:28+00:00</td>\n",
       "      <td>/store/data/Run2024B/ZeroBias/DQMIO/PromptReco...</td>\n",
       "      <td>FINISHED</td>\n",
       "      <td>None</td>\n",
       "    </tr>\n",
       "    <tr>\n",
       "      <th>2</th>\n",
       "      <td>14944573</td>\n",
       "      <td>/ZeroBias/Run2024B-PromptReco-v1/DQMIO</td>\n",
       "      <td>14005951557</td>\n",
       "      <td>342074540</td>\n",
       "      <td>2024-04-09 07:45:28+00:00</td>\n",
       "      <td>2024-04-09 07:45:28+00:00</td>\n",
       "      <td>/store/data/Run2024B/ZeroBias/DQMIO/PromptReco...</td>\n",
       "      <td>FINISHED</td>\n",
       "      <td>None</td>\n",
       "    </tr>\n",
       "    <tr>\n",
       "      <th>3</th>\n",
       "      <td>14944573</td>\n",
       "      <td>/ZeroBias/Run2024B-PromptReco-v1/DQMIO</td>\n",
       "      <td>14005951597</td>\n",
       "      <td>431616039</td>\n",
       "      <td>2024-04-09 07:45:28+00:00</td>\n",
       "      <td>2024-04-09 07:45:28+00:00</td>\n",
       "      <td>/store/data/Run2024B/ZeroBias/DQMIO/PromptReco...</td>\n",
       "      <td>FINISHED</td>\n",
       "      <td>None</td>\n",
       "    </tr>\n",
       "    <tr>\n",
       "      <th>4</th>\n",
       "      <td>14944573</td>\n",
       "      <td>/ZeroBias/Run2024B-PromptReco-v1/DQMIO</td>\n",
       "      <td>14005951637</td>\n",
       "      <td>424164092</td>\n",
       "      <td>2024-04-09 07:45:28+00:00</td>\n",
       "      <td>2024-04-09 07:45:28+00:00</td>\n",
       "      <td>/store/data/Run2024B/ZeroBias/DQMIO/PromptReco...</td>\n",
       "      <td>FINISHED</td>\n",
       "      <td>None</td>\n",
       "    </tr>\n",
       "    <tr>\n",
       "      <th>...</th>\n",
       "      <td>...</td>\n",
       "      <td>...</td>\n",
       "      <td>...</td>\n",
       "      <td>...</td>\n",
       "      <td>...</td>\n",
       "      <td>...</td>\n",
       "      <td>...</td>\n",
       "      <td>...</td>\n",
       "      <td>...</td>\n",
       "    </tr>\n",
       "    <tr>\n",
       "      <th>151</th>\n",
       "      <td>14944573</td>\n",
       "      <td>/ZeroBias/Run2024B-PromptReco-v1/DQMIO</td>\n",
       "      <td>14184090277</td>\n",
       "      <td>42200426</td>\n",
       "      <td>2024-04-16 22:43:35+00:00</td>\n",
       "      <td>2024-04-16 22:43:35+00:00</td>\n",
       "      <td>/store/data/Run2024B/ZeroBias/DQMIO/PromptReco...</td>\n",
       "      <td>FINISHED</td>\n",
       "      <td>None</td>\n",
       "    </tr>\n",
       "    <tr>\n",
       "      <th>152</th>\n",
       "      <td>14944573</td>\n",
       "      <td>/ZeroBias/Run2024B-PromptReco-v1/DQMIO</td>\n",
       "      <td>14184090317</td>\n",
       "      <td>46041386</td>\n",
       "      <td>2024-04-16 22:43:35+00:00</td>\n",
       "      <td>2024-04-16 22:43:35+00:00</td>\n",
       "      <td>/store/data/Run2024B/ZeroBias/DQMIO/PromptReco...</td>\n",
       "      <td>FINISHED</td>\n",
       "      <td>None</td>\n",
       "    </tr>\n",
       "    <tr>\n",
       "      <th>153</th>\n",
       "      <td>14944573</td>\n",
       "      <td>/ZeroBias/Run2024B-PromptReco-v1/DQMIO</td>\n",
       "      <td>14184975157</td>\n",
       "      <td>110725631</td>\n",
       "      <td>2024-04-17 03:23:56+00:00</td>\n",
       "      <td>2024-04-17 03:23:56+00:00</td>\n",
       "      <td>/store/data/Run2024B/ZeroBias/DQMIO/PromptReco...</td>\n",
       "      <td>FINISHED</td>\n",
       "      <td>None</td>\n",
       "    </tr>\n",
       "    <tr>\n",
       "      <th>154</th>\n",
       "      <td>14944573</td>\n",
       "      <td>/ZeroBias/Run2024B-PromptReco-v1/DQMIO</td>\n",
       "      <td>14184975197</td>\n",
       "      <td>64900890</td>\n",
       "      <td>2024-04-17 03:23:56+00:00</td>\n",
       "      <td>2024-04-17 03:23:56+00:00</td>\n",
       "      <td>/store/data/Run2024B/ZeroBias/DQMIO/PromptReco...</td>\n",
       "      <td>FINISHED</td>\n",
       "      <td>None</td>\n",
       "    </tr>\n",
       "    <tr>\n",
       "      <th>155</th>\n",
       "      <td>14944573</td>\n",
       "      <td>/ZeroBias/Run2024B-PromptReco-v1/DQMIO</td>\n",
       "      <td>14187437677</td>\n",
       "      <td>31389145</td>\n",
       "      <td>2024-04-17 09:44:41+00:00</td>\n",
       "      <td>2024-04-17 09:44:41+00:00</td>\n",
       "      <td>/store/data/Run2024B/ZeroBias/DQMIO/PromptReco...</td>\n",
       "      <td>FINISHED</td>\n",
       "      <td>None</td>\n",
       "    </tr>\n",
       "  </tbody>\n",
       "</table>\n",
       "<p>156 rows × 9 columns</p>\n",
       "</div>"
      ],
      "text/plain": [
       "     dataset_id                                 dataset      file_id  \\\n",
       "0      14944573  /ZeroBias/Run2024B-PromptReco-v1/DQMIO  14005951477   \n",
       "1      14944573  /ZeroBias/Run2024B-PromptReco-v1/DQMIO  14005951517   \n",
       "2      14944573  /ZeroBias/Run2024B-PromptReco-v1/DQMIO  14005951557   \n",
       "3      14944573  /ZeroBias/Run2024B-PromptReco-v1/DQMIO  14005951597   \n",
       "4      14944573  /ZeroBias/Run2024B-PromptReco-v1/DQMIO  14005951637   \n",
       "..          ...                                     ...          ...   \n",
       "151    14944573  /ZeroBias/Run2024B-PromptReco-v1/DQMIO  14184090277   \n",
       "152    14944573  /ZeroBias/Run2024B-PromptReco-v1/DQMIO  14184090317   \n",
       "153    14944573  /ZeroBias/Run2024B-PromptReco-v1/DQMIO  14184975157   \n",
       "154    14944573  /ZeroBias/Run2024B-PromptReco-v1/DQMIO  14184975197   \n",
       "155    14944573  /ZeroBias/Run2024B-PromptReco-v1/DQMIO  14187437677   \n",
       "\n",
       "     file_size             creation_date    last_modification_date  \\\n",
       "0    309723126 2024-04-09 07:45:28+00:00 2024-04-09 07:45:28+00:00   \n",
       "1    331788679 2024-04-09 07:45:28+00:00 2024-04-09 07:45:28+00:00   \n",
       "2    342074540 2024-04-09 07:45:28+00:00 2024-04-09 07:45:28+00:00   \n",
       "3    431616039 2024-04-09 07:45:28+00:00 2024-04-09 07:45:28+00:00   \n",
       "4    424164092 2024-04-09 07:45:28+00:00 2024-04-09 07:45:28+00:00   \n",
       "..         ...                       ...                       ...   \n",
       "151   42200426 2024-04-16 22:43:35+00:00 2024-04-16 22:43:35+00:00   \n",
       "152   46041386 2024-04-16 22:43:35+00:00 2024-04-16 22:43:35+00:00   \n",
       "153  110725631 2024-04-17 03:23:56+00:00 2024-04-17 03:23:56+00:00   \n",
       "154   64900890 2024-04-17 03:23:56+00:00 2024-04-17 03:23:56+00:00   \n",
       "155   31389145 2024-04-17 09:44:41+00:00 2024-04-17 09:44:41+00:00   \n",
       "\n",
       "                                     logical_file_name    status err_trace  \n",
       "0    /store/data/Run2024B/ZeroBias/DQMIO/PromptReco...  FINISHED      None  \n",
       "1    /store/data/Run2024B/ZeroBias/DQMIO/PromptReco...  FINISHED      None  \n",
       "2    /store/data/Run2024B/ZeroBias/DQMIO/PromptReco...  FINISHED      None  \n",
       "3    /store/data/Run2024B/ZeroBias/DQMIO/PromptReco...  FINISHED      None  \n",
       "4    /store/data/Run2024B/ZeroBias/DQMIO/PromptReco...  FINISHED      None  \n",
       "..                                                 ...       ...       ...  \n",
       "151  /store/data/Run2024B/ZeroBias/DQMIO/PromptReco...  FINISHED      None  \n",
       "152  /store/data/Run2024B/ZeroBias/DQMIO/PromptReco...  FINISHED      None  \n",
       "153  /store/data/Run2024B/ZeroBias/DQMIO/PromptReco...  FINISHED      None  \n",
       "154  /store/data/Run2024B/ZeroBias/DQMIO/PromptReco...  FINISHED      None  \n",
       "155  /store/data/Run2024B/ZeroBias/DQMIO/PromptReco...  FINISHED      None  \n",
       "\n",
       "[156 rows x 9 columns]"
      ]
     },
     "execution_count": 29,
     "metadata": {},
     "output_type": "execute_result"
    }
   ],
   "source": [
    "testDF = dials.file_index.list_all(FileIndexFilters(**kwargs,dataset_id=14944573),\n",
    "                                   enable_progress = True\n",
    "                       ).to_pandas()\n",
    "testDF"
   ]
  },
  {
   "cell_type": "code",
   "execution_count": 40,
   "id": "cb60bdc2",
   "metadata": {},
   "outputs": [
    {
     "data": {
      "text/plain": [
       "33.0394589140625"
      ]
     },
     "execution_count": 40,
     "metadata": {},
     "output_type": "execute_result"
    }
   ],
   "source": [
    "testDF.file_size.sum() / 1024e6"
   ]
  },
  {
   "cell_type": "code",
   "execution_count": 34,
   "id": "ba290710",
   "metadata": {},
   "outputs": [
    {
     "data": {
      "text/plain": [
       "0      309.72 MB\n",
       "1      331.79 MB\n",
       "2      342.07 MB\n",
       "3      431.62 MB\n",
       "4      424.16 MB\n",
       "         ...    \n",
       "151     42.20 MB\n",
       "152     46.04 MB\n",
       "153    110.73 MB\n",
       "154     64.90 MB\n",
       "155     31.39 MB\n",
       "Name: file_size, Length: 156, dtype: object"
      ]
     },
     "execution_count": 34,
     "metadata": {},
     "output_type": "execute_result"
    }
   ],
   "source": [
    "testDF.file_size.transform( lambda x: f\"{x/1e6:.2f} MB\")"
   ]
  },
  {
   "cell_type": "code",
   "execution_count": 33,
   "id": "191263c6",
   "metadata": {},
   "outputs": [
    {
     "name": "stdout",
     "output_type": "stream",
     "text": [
      "424,164,092 bytes\n",
      "424.16 MB\n"
     ]
    }
   ],
   "source": [
    "print(f\"{testDF.file_size[4]:,} bytes\")\n",
    "print(f\"{testDF.file_size[4]/1e6:.2f} MB\")"
   ]
  },
  {
   "cell_type": "markdown",
   "id": "c71d2d91-c7d6-435a-927f-ca281f0d8903",
   "metadata": {},
   "source": [
    "# Now downloading all the data and making the files"
   ]
  },
  {
   "cell_type": "code",
   "execution_count": 8,
   "id": "8c8139ac-5173-4812-91a2-e58e0389b4ac",
   "metadata": {},
   "outputs": [
    {
     "name": "stdout",
     "output_type": "stream",
     "text": [
      "skipping 383_254\n"
     ]
    }
   ],
   "source": [
    "import os\n",
    "\n",
    "finished = [file for file in os.listdir() if \"run\" in file]\n",
    "for run in selected_runs.loc[::7].run_number:\n",
    "    for fin in finished:\n",
    "        if f\"{run:_}\" in fin:\n",
    "            print(f\"skipping {run:_}\")\n",
    "        \n",
    "    \n",
    "# os.path.exists(\"run-378_239.parquet\")"
   ]
  },
  {
   "cell_type": "code",
   "execution_count": 1,
   "id": "d98a94a1",
   "metadata": {},
   "outputs": [
    {
     "ename": "NameError",
     "evalue": "name 'finished' is not defined",
     "output_type": "error",
     "traceback": [
      "\u001b[0;31m---------------------------------------------------------------------------\u001b[0m",
      "\u001b[0;31mNameError\u001b[0m                                 Traceback (most recent call last)",
      "Cell \u001b[0;32mIn[1], line 1\u001b[0m\n\u001b[0;32m----> 1\u001b[0m \u001b[43mfinished\u001b[49m\n",
      "\u001b[0;31mNameError\u001b[0m: name 'finished' is not defined"
     ]
    }
   ],
   "source": [
    "finished"
   ]
  },
  {
   "cell_type": "code",
   "execution_count": 9,
   "id": "130fc467",
   "metadata": {},
   "outputs": [],
   "source": [
    "!mkdir -p Ls_ge_1k"
   ]
  },
  {
   "cell_type": "code",
   "execution_count": 10,
   "id": "fb49d631",
   "metadata": {},
   "outputs": [
    {
     "name": "stdout",
     "output_type": "stream",
     "text": [
      "/home/gfidalgo/Documents/Github/DIALS-explore/Ls_ge_1k\n"
     ]
    }
   ],
   "source": [
    "base_path = os.path.join(os.getcwd(),\"Ls_ge_1k\")\n",
    "print(base_path)"
   ]
  },
  {
   "cell_type": "code",
   "execution_count": null,
   "id": "b3bcb105-9124-4f37-99b2-05c72e525151",
   "metadata": {
    "editable": true,
    "slideshow": {
     "slide_type": ""
    },
    "tags": []
   },
   "outputs": [
    {
     "name": "stdout",
     "output_type": "stream",
     "text": [
      "Starting download of 379_154\n"
     ]
    },
    {
     "data": {
      "application/vnd.jupyter.widget-view+json": {
       "model_id": "92d042a76b4240b4b7cf66643078e845",
       "version_major": 2,
       "version_minor": 0
      },
      "text/plain": [
       "Progress:   0%|          | 0/1 [00:00<?, ?it/s]"
      ]
     },
     "metadata": {},
     "output_type": "display_data"
    },
    {
     "name": "stderr",
     "output_type": "stream",
     "text": [
      "Exception ignored in: <bound method IPythonKernel._clean_thread_parent_frames of <ipykernel.ipkernel.IPythonKernel object at 0x7efff6046510>>\n",
      "Traceback (most recent call last):\n",
      "  File \"/home/gfidalgo/miniforge3/envs/DIALS/lib/python3.11/site-packages/ipykernel/ipkernel.py\", line 775, in _clean_thread_parent_frames\n",
      "    def _clean_thread_parent_frames(\n",
      "\n",
      "KeyboardInterrupt: \n"
     ]
    }
   ],
   "source": [
    "for run in selected_runs.loc[::7].run_number:\n",
    "    skip=False\n",
    "    \n",
    "    for fin in finished:\n",
    "        if f\"{run:_}\" in fin:\n",
    "            print(f\"skipping {run:_}\")\n",
    "            skip=True\n",
    "    \n",
    "    if not skip:\n",
    "        print(f\"Starting download of {run:_}\")\n",
    "        irun_df = dials.h2d.list_all(\n",
    "                                    LumisectionHistogram2DFilters(run_number=run,page_size=500),\n",
    "                                     enable_progress=True\n",
    "        ).to_pandas()\n",
    "        \n",
    "        irun_df.to_parquet(f\"{base_path}/run-{run:_}.parquet\")\n",
    "        print(f\"Done with {run = :,}.\") \n",
    "        del irun_df"
   ]
  },
  {
   "cell_type": "code",
   "execution_count": 20,
   "id": "d5a2c995-d638-4ba9-9b51-8bb4f568d5f2",
   "metadata": {},
   "outputs": [
    {
     "name": "stdout",
     "output_type": "stream",
     "text": [
      "/home/gfidalgo/Documents/Github/DIALS-explore/Ls_ge_1k has been populated with 20 runs.\n"
     ]
    }
   ],
   "source": [
    "print(f\"{base_path} has been populated with {len(selected_runs.loc[::7].run_number)} runs.\")"
   ]
  }
 ],
 "metadata": {
  "kernelspec": {
   "display_name": "Python 3",
   "language": "python",
   "name": "python3"
  },
  "language_info": {
   "codemirror_mode": {
    "name": "ipython",
    "version": 3
   },
   "file_extension": ".py",
   "mimetype": "text/x-python",
   "name": "python",
   "nbconvert_exporter": "python",
   "pygments_lexer": "ipython3",
   "version": "3.11.9"
  }
 },
 "nbformat": 4,
 "nbformat_minor": 5
}
