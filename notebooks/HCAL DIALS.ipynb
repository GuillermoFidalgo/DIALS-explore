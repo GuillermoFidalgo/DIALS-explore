{
 "cells": [
  {
   "cell_type": "markdown",
   "id": "8879babd-ae10-4068-8d00-a3efc50fc11e",
   "metadata": {},
   "source": [
    "# Gather HCAL histos"
   ]
  },
  {
   "cell_type": "code",
   "execution_count": 1,
   "id": "8cf4784a-95e2-453e-ab53-706e6b98e47e",
   "metadata": {},
   "outputs": [],
   "source": [
    "import pandas as pd\n",
    "import numpy as np\n",
    "\n",
    "# import cmsdials\n",
    "from cmsdials import Dials\n",
    "from cmsdials.auth.bearer import Credentials\n",
    "from cmsdials.filters import (\n",
    "    FileIndexFilters,\n",
    "    LumisectionHistogram1DFilters,\n",
    "    LumisectionHistogram2DFilters,\n",
    "    LumisectionFilters,\n",
    "    RunFilters,\n",
    "    MEFilters\n",
    ")"
   ]
  },
  {
   "cell_type": "code",
   "execution_count": 2,
   "id": "70cbfb1f-96fd-41f0-b2e1-b5906c61da18",
   "metadata": {},
   "outputs": [
    {
     "name": "stderr",
     "output_type": "stream",
     "text": [
      "[2025-07-15 13:21:38,460] INFO: Credentials file not found, triggering device authentication flow...\n",
      "[2025-07-15 13:21:39,652] INFO: This device will expire in 600 seconds.\n",
      "[2025-07-15 13:21:39,653] INFO: Go to the following url and authenticate: https://auth.cern.ch/auth/realms/cern/device?user_code=VZXZ-LLRF\n",
      "[2025-07-15 13:21:39,653] INFO: Checking authorization status every 5 seconds...\n",
      "[2025-07-15 13:21:47,373] INFO: Device not authorized yet.\n",
      "[2025-07-15 13:21:53,237] INFO: Device not authorized yet.\n",
      "[2025-07-15 13:21:58,963] INFO: Device not authorized yet.\n",
      "[2025-07-15 13:22:04,739] INFO: Device not authorized yet.\n",
      "[2025-07-15 13:22:10,447] INFO: Device not authorized yet.\n",
      "[2025-07-15 13:22:16,183] INFO: Device not authorized yet.\n",
      "[2025-07-15 13:22:21,891] INFO: Device not authorized yet.\n",
      "[2025-07-15 13:22:27,625] INFO: Device not authorized yet.\n",
      "[2025-07-15 13:22:34,202] INFO: Device not authorized yet.\n",
      "[2025-07-15 13:22:40,163] INFO: Device authorized, authentication finished successfully!\n"
     ]
    }
   ],
   "source": [
    "creds = Credentials.from_creds_file()\n",
    "\n",
    "dials = Dials(creds,workspace=\"hcal\") # this will load into a DQM workspace by default (i.e. Tracker,HCAL,ECAL,etc.)"
   ]
  },
  {
   "cell_type": "code",
   "execution_count": 5,
   "id": "4c9434cd-de70-442e-b40f-d40e3f9a6df3",
   "metadata": {},
   "outputs": [],
   "source": [
    "kwargs= dict(\n",
    "    status=\"FINISHED\",\n",
    "    dataset__regex=\"ZeroBias/Run2024[A-Z]-PromptReco/*\",\n",
    "    dim = 2,\n",
    "    page_size = 500,\n",
    "    me__regex = \"OccupancyCut\"\n",
    "            )"
   ]
  },
  {
   "cell_type": "code",
   "execution_count": 7,
   "id": "c2dde9a9-f552-4dcb-9e5a-1b4a562908bd",
   "metadata": {
    "editable": true,
    "slideshow": {
     "slide_type": ""
    },
    "tags": []
   },
   "outputs": [
    {
     "data": {
      "text/plain": [
       "[MonitoringElement(me_id=102, me='Hcal/DigiTask/OccupancyCut/depth/depth1', count=1174143, dim=2),\n",
       " MonitoringElement(me_id=103, me='Hcal/DigiTask/OccupancyCut/depth/depth2', count=1174143, dim=2),\n",
       " MonitoringElement(me_id=104, me='Hcal/DigiTask/OccupancyCut/depth/depth3', count=1174143, dim=2),\n",
       " MonitoringElement(me_id=105, me='Hcal/DigiTask/OccupancyCut/depth/depth4', count=1174143, dim=2),\n",
       " MonitoringElement(me_id=106, me='Hcal/DigiTask/OccupancyCut/depth/depth5', count=1174143, dim=2),\n",
       " MonitoringElement(me_id=107, me='Hcal/DigiTask/OccupancyCut/depth/depth6', count=1174143, dim=2),\n",
       " MonitoringElement(me_id=108, me='Hcal/DigiTask/OccupancyCut/depth/depth7', count=1174143, dim=2),\n",
       " MonitoringElement(me_id=109, me='Hcal/DigiTask/OccupancyCut/depth/depthHO', count=1174143, dim=2)]"
      ]
     },
     "execution_count": 7,
     "metadata": {},
     "output_type": "execute_result"
    }
   ],
   "source": [
    "allMEs= dials.mes.list(MEFilters(**kwargs))\n",
    "allMEs"
   ]
  },
  {
   "cell_type": "code",
   "execution_count": 8,
   "id": "a9f9c7ae-50f2-41b2-a02f-102ab7498fc9",
   "metadata": {},
   "outputs": [
    {
     "data": {
      "application/vnd.jupyter.widget-view+json": {
       "model_id": "fea1548706ba477b98ff94dab4543246",
       "version_major": 2,
       "version_minor": 0
      },
      "text/plain": [
       "Progress:   0%|          | 0/1 [00:00<?, ?it/s]"
      ]
     },
     "metadata": {},
     "output_type": "display_data"
    }
   ],
   "source": [
    "RunsDF = dials.run.list_all(\n",
    "                    RunFilters(**kwargs),\n",
    "                    enable_progress = True\n",
    ").to_pandas()\n",
    "\n",
    "ls_mask = RunsDF.loc[:,\"ls_count\"] > 1000\n",
    "long_runs = RunsDF.loc[ls_mask].reset_index()\n",
    "del RunsDF"
   ]
  },
  {
   "cell_type": "markdown",
   "id": "76cb79d4",
   "metadata": {},
   "source": [
    "Now selecting only the Golden Json runs that are over 1000 Ls"
   ]
  },
  {
   "cell_type": "code",
   "execution_count": 37,
   "id": "f67480e1",
   "metadata": {},
   "outputs": [],
   "source": [
    "import requests, json\n",
    "# getting the 2024 Golden Json\n",
    "url = \"https://cms-service-dqmdc.web.cern.ch/CAF/certification/Collisions24/Cert_Collisions2024_378981_386951_Golden.json\"\n",
    "res = requests.get(url)\n",
    "\n",
    "golden2024json=json.loads(res.content)\n",
    "golden_numbers = [int(i) for i in golden2024json]"
   ]
  },
  {
   "cell_type": "code",
   "execution_count": 45,
   "id": "a2ab423d",
   "metadata": {},
   "outputs": [
    {
     "data": {
      "text/html": [
       "<div>\n",
       "<style scoped>\n",
       "    .dataframe tbody tr th:only-of-type {\n",
       "        vertical-align: middle;\n",
       "    }\n",
       "\n",
       "    .dataframe tbody tr th {\n",
       "        vertical-align: top;\n",
       "    }\n",
       "\n",
       "    .dataframe thead th {\n",
       "        text-align: right;\n",
       "    }\n",
       "</style>\n",
       "<table border=\"1\" class=\"dataframe\">\n",
       "  <thead>\n",
       "    <tr style=\"text-align: right;\">\n",
       "      <th></th>\n",
       "      <th>dataset_id</th>\n",
       "      <th>dataset</th>\n",
       "      <th>run_number</th>\n",
       "      <th>ls_count</th>\n",
       "    </tr>\n",
       "  </thead>\n",
       "  <tbody>\n",
       "    <tr>\n",
       "      <th>0</th>\n",
       "      <td>14944573</td>\n",
       "      <td>/ZeroBias/Run2024B-PromptReco-v1/DQMIO</td>\n",
       "      <td>379154</td>\n",
       "      <td>1075</td>\n",
       "    </tr>\n",
       "    <tr>\n",
       "      <th>1</th>\n",
       "      <td>14949731</td>\n",
       "      <td>/ZeroBias/Run2024C-PromptReco-v1/DQMIO</td>\n",
       "      <td>379456</td>\n",
       "      <td>1208</td>\n",
       "    </tr>\n",
       "    <tr>\n",
       "      <th>2</th>\n",
       "      <td>14949731</td>\n",
       "      <td>/ZeroBias/Run2024C-PromptReco-v1/DQMIO</td>\n",
       "      <td>379660</td>\n",
       "      <td>1563</td>\n",
       "    </tr>\n",
       "    <tr>\n",
       "      <th>3</th>\n",
       "      <td>14949731</td>\n",
       "      <td>/ZeroBias/Run2024C-PromptReco-v1/DQMIO</td>\n",
       "      <td>379729</td>\n",
       "      <td>1534</td>\n",
       "    </tr>\n",
       "    <tr>\n",
       "      <th>4</th>\n",
       "      <td>14949731</td>\n",
       "      <td>/ZeroBias/Run2024C-PromptReco-v1/DQMIO</td>\n",
       "      <td>379765</td>\n",
       "      <td>1728</td>\n",
       "    </tr>\n",
       "    <tr>\n",
       "      <th>...</th>\n",
       "      <td>...</td>\n",
       "      <td>...</td>\n",
       "      <td>...</td>\n",
       "      <td>...</td>\n",
       "    </tr>\n",
       "    <tr>\n",
       "      <th>126</th>\n",
       "      <td>15099576</td>\n",
       "      <td>/ZeroBias/Run2024I-PromptReco-v2/DQMIO</td>\n",
       "      <td>386694</td>\n",
       "      <td>1336</td>\n",
       "    </tr>\n",
       "    <tr>\n",
       "      <th>127</th>\n",
       "      <td>15099576</td>\n",
       "      <td>/ZeroBias/Run2024I-PromptReco-v2/DQMIO</td>\n",
       "      <td>386704</td>\n",
       "      <td>1098</td>\n",
       "    </tr>\n",
       "    <tr>\n",
       "      <th>130</th>\n",
       "      <td>15099576</td>\n",
       "      <td>/ZeroBias/Run2024I-PromptReco-v2/DQMIO</td>\n",
       "      <td>386864</td>\n",
       "      <td>1496</td>\n",
       "    </tr>\n",
       "    <tr>\n",
       "      <th>131</th>\n",
       "      <td>15099576</td>\n",
       "      <td>/ZeroBias/Run2024I-PromptReco-v2/DQMIO</td>\n",
       "      <td>386885</td>\n",
       "      <td>1409</td>\n",
       "    </tr>\n",
       "    <tr>\n",
       "      <th>132</th>\n",
       "      <td>15099576</td>\n",
       "      <td>/ZeroBias/Run2024I-PromptReco-v2/DQMIO</td>\n",
       "      <td>386924</td>\n",
       "      <td>1818</td>\n",
       "    </tr>\n",
       "  </tbody>\n",
       "</table>\n",
       "<p>105 rows × 4 columns</p>\n",
       "</div>"
      ],
      "text/plain": [
       "     dataset_id                                 dataset  run_number  ls_count\n",
       "0      14944573  /ZeroBias/Run2024B-PromptReco-v1/DQMIO      379154      1075\n",
       "1      14949731  /ZeroBias/Run2024C-PromptReco-v1/DQMIO      379456      1208\n",
       "2      14949731  /ZeroBias/Run2024C-PromptReco-v1/DQMIO      379660      1563\n",
       "3      14949731  /ZeroBias/Run2024C-PromptReco-v1/DQMIO      379729      1534\n",
       "4      14949731  /ZeroBias/Run2024C-PromptReco-v1/DQMIO      379765      1728\n",
       "..          ...                                     ...         ...       ...\n",
       "126    15099576  /ZeroBias/Run2024I-PromptReco-v2/DQMIO      386694      1336\n",
       "127    15099576  /ZeroBias/Run2024I-PromptReco-v2/DQMIO      386704      1098\n",
       "130    15099576  /ZeroBias/Run2024I-PromptReco-v2/DQMIO      386864      1496\n",
       "131    15099576  /ZeroBias/Run2024I-PromptReco-v2/DQMIO      386885      1409\n",
       "132    15099576  /ZeroBias/Run2024I-PromptReco-v2/DQMIO      386924      1818\n",
       "\n",
       "[105 rows x 4 columns]"
      ]
     },
     "execution_count": 45,
     "metadata": {},
     "output_type": "execute_result"
    }
   ],
   "source": [
    "df_golden = long_runs[long_runs.run_number.isin(golden_numbers)].drop(columns='index')\n",
    "df_golden"
   ]
  },
  {
   "cell_type": "code",
   "execution_count": 46,
   "id": "a8471808",
   "metadata": {},
   "outputs": [
    {
     "data": {
      "text/plain": [
       "dataset_id     10\n",
       "dataset        10\n",
       "run_number    105\n",
       "ls_count      100\n",
       "dtype: int64"
      ]
     },
     "execution_count": 46,
     "metadata": {},
     "output_type": "execute_result"
    }
   ],
   "source": [
    "df_golden.nunique()"
   ]
  },
  {
   "cell_type": "markdown",
   "id": "c71d2d91-c7d6-435a-927f-ca281f0d8903",
   "metadata": {},
   "source": [
    "# Now downloading all the data and making the files\n",
    "Let's make parque files of Golden Json runs"
   ]
  },
  {
   "cell_type": "code",
   "execution_count": 54,
   "id": "a340a715",
   "metadata": {},
   "outputs": [
    {
     "data": {
      "text/plain": [
       "{'status': 'FINISHED',\n",
       " 'dataset__regex': 'ZeroBias/Run2024[A-Z]-PromptReco/*',\n",
       " 'dim': 2,\n",
       " 'page_size': 500,\n",
       " 'me__regex': 'OccupancyCut'}"
      ]
     },
     "execution_count": 54,
     "metadata": {},
     "output_type": "execute_result"
    }
   ],
   "source": [
    "kwargs"
   ]
  },
  {
   "cell_type": "code",
   "execution_count": 50,
   "id": "c26f1096",
   "metadata": {},
   "outputs": [],
   "source": [
    "from urllib3 import Retry"
   ]
  },
  {
   "cell_type": "code",
   "execution_count": 102,
   "id": "2827b39f",
   "metadata": {},
   "outputs": [],
   "source": [
    "to_remove = set(finished_runs).difference(df_golden.run_number)\n",
    "remove_files = [f'run-{i:_}.parquet' for i in to_remove]"
   ]
  },
  {
   "cell_type": "code",
   "execution_count": 103,
   "id": "ca2d51dd",
   "metadata": {},
   "outputs": [],
   "source": [
    "from glob import glob"
   ]
  },
  {
   "cell_type": "code",
   "execution_count": 108,
   "id": "6de2409b",
   "metadata": {},
   "outputs": [
    {
     "name": "stdout",
     "output_type": "stream",
     "text": [
      "rm run-380_601.parquet\n",
      "rm run-382_511.parquet\n",
      "rm run-381_208.parquet\n",
      "rm run-383_903.parquet\n",
      "rm run-381_698.parquet\n",
      "rm run-382_435.parquet\n",
      "rm run-380_603.parquet\n",
      "rm run-380_644.parquet\n",
      "rm run-381_968.parquet\n",
      "rm run-381_594.parquet\n",
      "rm run-380_848.parquet\n",
      "rm run-383_067.parquet\n",
      "rm run-381_793.parquet\n",
      "rm run-380_705.parquet\n",
      "rm run-380_614.parquet\n",
      "rm run-380_895.parquet\n",
      "rm run-385_054.parquet\n",
      "rm run-381_778.parquet\n",
      "rm run-382_120.parquet\n",
      "rm run-379_956.parquet\n",
      "rm run-381_900.parquet\n",
      "rm run-380_847.parquet\n",
      "rm run-382_330.parquet\n",
      "rm run-383_615.parquet\n"
     ]
    }
   ],
   "source": [
    "for i in os.listdir('../files/Ls_ge_1k/'):\n",
    "    if i in remove_files:\n",
    "        print(f'rm {i}')"
   ]
  },
  {
   "cell_type": "code",
   "execution_count": 88,
   "id": "aab54a00",
   "metadata": {},
   "outputs": [
    {
     "data": {
      "text/plain": [
       "0      379154\n",
       "1      379456\n",
       "2      379660\n",
       "3      379729\n",
       "4      379765\n",
       "        ...  \n",
       "100    385152\n",
       "101    385168\n",
       "102    385194\n",
       "103    385281\n",
       "104    385286\n",
       "Name: run_number, Length: 81, dtype: int64"
      ]
     },
     "execution_count": 88,
     "metadata": {},
     "output_type": "execute_result"
    }
   ],
   "source": [
    "finished_runs = [int(i.removeprefix(\"run-\").removesuffix(\".parquet\").replace(\"_\",\"\")) for i in finished]\n",
    "df_golden[df_golden.run_number.isin(finished_runs)].run_number"
   ]
  },
  {
   "cell_type": "code",
   "execution_count": 75,
   "id": "49fd7712",
   "metadata": {},
   "outputs": [
    {
     "data": {
      "text/plain": [
       "[383712,\n",
       " 385142,\n",
       " 385094,\n",
       " 383449,\n",
       " 385194,\n",
       " 380601,\n",
       " 385168,\n",
       " 380531,\n",
       " 383767,\n",
       " 384413,\n",
       " 381443,\n",
       " 382511,\n",
       " 381208,\n",
       " 381115,\n",
       " 381417,\n",
       " 383903,\n",
       " 383814,\n",
       " 384202,\n",
       " 383756,\n",
       " 384644,\n",
       " 384935,\n",
       " 385286,\n",
       " 381698,\n",
       " 383323,\n",
       " 382684,\n",
       " 380074,\n",
       " 379456,\n",
       " 380385,\n",
       " 379660,\n",
       " 379765,\n",
       " 382435,\n",
       " 384052,\n",
       " 385127,\n",
       " 380603,\n",
       " 380644,\n",
       " 381968,\n",
       " 381594,\n",
       " 380848,\n",
       " 383996,\n",
       " 380470,\n",
       " 381191,\n",
       " 382258,\n",
       " 384492,\n",
       " 383067,\n",
       " 383512,\n",
       " 380310,\n",
       " 379729,\n",
       " 383368,\n",
       " 381793,\n",
       " 384565,\n",
       " 383174,\n",
       " 384981,\n",
       " 381484,\n",
       " 384069,\n",
       " 384188,\n",
       " 383155,\n",
       " 380567,\n",
       " 381516,\n",
       " 380005,\n",
       " 384128,\n",
       " 379154,\n",
       " 381384,\n",
       " 380513,\n",
       " 385281,\n",
       " 380705,\n",
       " 384468,\n",
       " 382654,\n",
       " 383854,\n",
       " 383162,\n",
       " 380614,\n",
       " 382343,\n",
       " 383631,\n",
       " 381164,\n",
       " 381380,\n",
       " 382769,\n",
       " 380895,\n",
       " 382580,\n",
       " 385054,\n",
       " 379866,\n",
       " 381544,\n",
       " 381778,\n",
       " 384383,\n",
       " 384239,\n",
       " 384963,\n",
       " 383254,\n",
       " 382300,\n",
       " 382594,\n",
       " 381480,\n",
       " 382120,\n",
       " 384614,\n",
       " 379956,\n",
       " 380360,\n",
       " 382921,\n",
       " 381190,\n",
       " 381900,\n",
       " 383487,\n",
       " 384291,\n",
       " 380115,\n",
       " 382913,\n",
       " 380847,\n",
       " 382330,\n",
       " 380446,\n",
       " 385152,\n",
       " 383468,\n",
       " 383615]"
      ]
     },
     "execution_count": 75,
     "metadata": {},
     "output_type": "execute_result"
    }
   ],
   "source": [
    "[int(i.removeprefix(\"run-\").removesuffix(\".parquet\").replace(\"_\",\"\")) for i in finished]"
   ]
  },
  {
   "cell_type": "code",
   "execution_count": 109,
   "id": "8c8139ac-5173-4812-91a2-e58e0389b4ac",
   "metadata": {},
   "outputs": [
    {
     "name": "stdout",
     "output_type": "stream",
     "text": [
      "skipping 379_154\n",
      "skipping 379_456\n",
      "skipping 379_660\n",
      "skipping 379_729\n",
      "skipping 379_765\n",
      "skipping 379_866\n",
      "skipping 380_005\n",
      "skipping 380_074\n",
      "skipping 380_115\n",
      "skipping 380_310\n",
      "skipping 380_360\n",
      "skipping 380_385\n",
      "skipping 380_446\n",
      "skipping 380_470\n",
      "skipping 380_513\n",
      "skipping 380_531\n",
      "skipping 380_567\n",
      "skipping 381_115\n",
      "skipping 381_164\n",
      "skipping 381_190\n",
      "skipping 381_191\n",
      "skipping 381_380\n",
      "skipping 381_384\n",
      "skipping 381_417\n",
      "skipping 381_443\n",
      "skipping 381_480\n",
      "skipping 381_484\n",
      "skipping 381_516\n",
      "skipping 381_544\n",
      "skipping 382_258\n",
      "skipping 382_300\n",
      "skipping 382_343\n",
      "skipping 382_580\n",
      "skipping 382_594\n",
      "skipping 382_654\n",
      "skipping 382_684\n",
      "skipping 382_769\n",
      "skipping 382_913\n",
      "skipping 382_921\n",
      "skipping 383_155\n",
      "skipping 383_162\n",
      "skipping 383_174\n",
      "skipping 383_254\n",
      "skipping 383_323\n",
      "skipping 383_368\n",
      "skipping 383_449\n",
      "skipping 383_468\n",
      "skipping 383_487\n",
      "skipping 383_512\n",
      "skipping 383_631\n",
      "skipping 383_712\n",
      "skipping 383_756\n",
      "skipping 383_767\n",
      "skipping 383_814\n",
      "skipping 383_854\n",
      "skipping 383_996\n",
      "skipping 384_052\n",
      "skipping 384_069\n",
      "skipping 384_128\n",
      "skipping 384_188\n",
      "skipping 384_202\n",
      "skipping 384_239\n",
      "skipping 384_291\n",
      "skipping 384_383\n",
      "skipping 384_413\n",
      "skipping 384_468\n",
      "skipping 384_492\n",
      "skipping 384_565\n",
      "skipping 384_614\n",
      "skipping 384_644\n",
      "skipping 384_935\n",
      "skipping 384_963\n",
      "skipping 384_981\n",
      "skipping 385_094\n",
      "skipping 385_127\n",
      "skipping 385_142\n",
      "skipping 385_152\n",
      "skipping 385_168\n",
      "skipping 385_194\n",
      "skipping 385_281\n",
      "skipping 385_286\n"
     ]
    },
    {
     "data": {
      "text/plain": [
       "['run-383_712.parquet',\n",
       " 'run-385_142.parquet',\n",
       " 'run-385_094.parquet',\n",
       " 'run-383_449.parquet',\n",
       " 'run-385_194.parquet',\n",
       " 'run-385_168.parquet',\n",
       " 'run-380_531.parquet',\n",
       " 'run-383_767.parquet',\n",
       " 'run-384_413.parquet',\n",
       " 'run-381_443.parquet',\n",
       " 'run-381_115.parquet',\n",
       " 'run-381_417.parquet',\n",
       " 'run-383_814.parquet',\n",
       " 'run-384_202.parquet',\n",
       " 'run-383_756.parquet',\n",
       " 'run-384_644.parquet',\n",
       " 'run-384_935.parquet',\n",
       " 'run-385_286.parquet',\n",
       " 'run-383_323.parquet',\n",
       " 'run-382_684.parquet',\n",
       " 'run-380_074.parquet',\n",
       " 'run-379_456.parquet',\n",
       " 'run-380_385.parquet',\n",
       " 'run-379_660.parquet',\n",
       " 'run-379_765.parquet',\n",
       " 'run-384_052.parquet',\n",
       " 'run-385_127.parquet',\n",
       " 'run-383_996.parquet',\n",
       " 'run-380_470.parquet',\n",
       " 'run-381_191.parquet',\n",
       " 'run-382_258.parquet',\n",
       " 'run-384_492.parquet',\n",
       " 'run-383_512.parquet',\n",
       " 'run-380_310.parquet',\n",
       " 'run-379_729.parquet',\n",
       " 'run-383_368.parquet',\n",
       " 'run-384_565.parquet',\n",
       " 'run-383_174.parquet',\n",
       " 'run-384_981.parquet',\n",
       " 'run-381_484.parquet',\n",
       " 'run-384_069.parquet',\n",
       " 'run-384_188.parquet',\n",
       " 'run-383_155.parquet',\n",
       " 'run-380_567.parquet',\n",
       " 'run-381_516.parquet',\n",
       " 'run-380_005.parquet',\n",
       " 'run-384_128.parquet',\n",
       " 'run-379_154.parquet',\n",
       " 'run-381_384.parquet',\n",
       " 'run-380_513.parquet',\n",
       " 'run-385_281.parquet',\n",
       " 'run-384_468.parquet',\n",
       " 'run-382_654.parquet',\n",
       " 'run-383_854.parquet',\n",
       " 'run-383_162.parquet',\n",
       " 'run-382_343.parquet',\n",
       " 'run-383_631.parquet',\n",
       " 'run-381_164.parquet',\n",
       " 'run-381_380.parquet',\n",
       " 'run-382_769.parquet',\n",
       " 'run-382_580.parquet',\n",
       " 'run-379_866.parquet',\n",
       " 'run-381_544.parquet',\n",
       " 'run-384_383.parquet',\n",
       " 'run-384_239.parquet',\n",
       " 'run-384_963.parquet',\n",
       " 'run-383_254.parquet',\n",
       " 'run-382_300.parquet',\n",
       " 'run-382_594.parquet',\n",
       " 'run-381_480.parquet',\n",
       " 'run-384_614.parquet',\n",
       " 'run-380_360.parquet',\n",
       " 'run-382_921.parquet',\n",
       " 'run-381_190.parquet',\n",
       " 'run-383_487.parquet',\n",
       " 'run-384_291.parquet',\n",
       " 'run-380_115.parquet',\n",
       " 'run-382_913.parquet',\n",
       " 'run-380_446.parquet',\n",
       " 'run-385_152.parquet',\n",
       " 'run-383_468.parquet']"
      ]
     },
     "execution_count": 109,
     "metadata": {},
     "output_type": "execute_result"
    }
   ],
   "source": [
    "base_path = '../files/Ls_ge_1k'\n",
    "os.makedirs(base_path,exist_ok=True)\n",
    "finished = [file for file in os.listdir(base_path) if \"run\" in file]\n",
    "for run in df_golden.run_number:\n",
    "    for fin in finished:\n",
    "        if f\"{run:_}\" in fin:\n",
    "            print(f\"skipping {run:_}\")\n",
    "        \n",
    "    \n",
    "# os.path.exists(\"run-378_239.parquet\")\n",
    "finished\n"
   ]
  },
  {
   "cell_type": "code",
   "execution_count": 110,
   "id": "97481e40",
   "metadata": {},
   "outputs": [
    {
     "data": {
      "text/plain": [
       "81"
      ]
     },
     "execution_count": 110,
     "metadata": {},
     "output_type": "execute_result"
    }
   ],
   "source": [
    "len(finished)"
   ]
  },
  {
   "cell_type": "code",
   "execution_count": null,
   "id": "b3bcb105-9124-4f37-99b2-05c72e525151",
   "metadata": {
    "editable": true,
    "slideshow": {
     "slide_type": ""
    },
    "tags": []
   },
   "outputs": [
    {
     "name": "stdout",
     "output_type": "stream",
     "text": [
      "skipping 379_154\n",
      "skipping 379_456\n",
      "skipping 379_660\n",
      "skipping 379_729\n",
      "skipping 379_765\n",
      "skipping 379_866\n",
      "skipping 380_005\n",
      "skipping 380_074\n",
      "skipping 380_115\n",
      "skipping 380_310\n",
      "skipping 380_360\n",
      "skipping 380_385\n",
      "skipping 380_446\n",
      "skipping 380_470\n",
      "skipping 380_513\n",
      "skipping 380_531\n",
      "skipping 380_567\n",
      "skipping 381_115\n",
      "skipping 381_164\n",
      "skipping 381_190\n",
      "skipping 381_191\n",
      "skipping 381_380\n",
      "skipping 381_384\n",
      "skipping 381_417\n",
      "skipping 381_443\n",
      "skipping 381_480\n",
      "skipping 381_484\n",
      "skipping 381_516\n",
      "skipping 381_544\n",
      "skipping 382_258\n",
      "skipping 382_300\n",
      "skipping 382_343\n",
      "skipping 382_580\n",
      "skipping 382_594\n",
      "skipping 382_654\n",
      "skipping 382_684\n",
      "skipping 382_769\n",
      "skipping 382_913\n",
      "skipping 382_921\n",
      "skipping 383_155\n",
      "skipping 383_162\n",
      "skipping 383_174\n",
      "skipping 383_254\n",
      "skipping 383_323\n",
      "skipping 383_368\n",
      "skipping 383_449\n",
      "skipping 383_468\n",
      "skipping 383_487\n",
      "skipping 383_512\n",
      "skipping 383_631\n",
      "skipping 383_712\n",
      "skipping 383_756\n",
      "skipping 383_767\n",
      "skipping 383_814\n",
      "skipping 383_854\n",
      "skipping 383_996\n",
      "skipping 384_052\n",
      "skipping 384_069\n",
      "skipping 384_128\n",
      "skipping 384_188\n",
      "skipping 384_202\n",
      "skipping 384_239\n",
      "skipping 384_291\n",
      "skipping 384_383\n",
      "skipping 384_413\n",
      "skipping 384_468\n",
      "skipping 384_492\n",
      "skipping 384_565\n",
      "skipping 384_614\n",
      "skipping 384_644\n",
      "skipping 384_935\n",
      "skipping 384_963\n",
      "skipping 384_981\n",
      "skipping 385_094\n",
      "skipping 385_127\n",
      "skipping 385_142\n",
      "skipping 385_152\n",
      "skipping 385_168\n",
      "skipping 385_194\n",
      "skipping 385_281\n",
      "skipping 385_286\n",
      "Starting download of 385_324\n"
     ]
    },
    {
     "data": {
      "application/vnd.jupyter.widget-view+json": {
       "model_id": "b9b27b1643c5402ab0282eb6e07838de",
       "version_major": 2,
       "version_minor": 0
      },
      "text/plain": [
       "Progress:   0%|          | 0/1 [00:00<?, ?it/s]"
      ]
     },
     "metadata": {},
     "output_type": "display_data"
    },
    {
     "name": "stdout",
     "output_type": "stream",
     "text": [
      "Done with run = 385,324.\n",
      "Starting download of 385_390\n"
     ]
    },
    {
     "data": {
      "application/vnd.jupyter.widget-view+json": {
       "model_id": "2da32d0d3e1e455fa7d3651cf830eb54",
       "version_major": 2,
       "version_minor": 0
      },
      "text/plain": [
       "Progress:   0%|          | 0/1 [00:00<?, ?it/s]"
      ]
     },
     "metadata": {},
     "output_type": "display_data"
    },
    {
     "name": "stdout",
     "output_type": "stream",
     "text": [
      "Done with run = 385,390.\n",
      "Starting download of 385_422\n"
     ]
    },
    {
     "data": {
      "application/vnd.jupyter.widget-view+json": {
       "model_id": "1b2984847b604968a1e4e325cd9a53e4",
       "version_major": 2,
       "version_minor": 0
      },
      "text/plain": [
       "Progress:   0%|          | 0/1 [00:00<?, ?it/s]"
      ]
     },
     "metadata": {},
     "output_type": "display_data"
    },
    {
     "name": "stdout",
     "output_type": "stream",
     "text": [
      "Done with run = 385,422.\n",
      "Starting download of 385_443\n"
     ]
    },
    {
     "data": {
      "application/vnd.jupyter.widget-view+json": {
       "model_id": "d8d87f9b95b846948791ae2d7713cd27",
       "version_major": 2,
       "version_minor": 0
      },
      "text/plain": [
       "Progress:   0%|          | 0/1 [00:00<?, ?it/s]"
      ]
     },
     "metadata": {},
     "output_type": "display_data"
    },
    {
     "name": "stdout",
     "output_type": "stream",
     "text": [
      "Done with run = 385,443.\n",
      "Starting download of 385_515\n"
     ]
    },
    {
     "data": {
      "application/vnd.jupyter.widget-view+json": {
       "model_id": "4818033a237f4343b9ccadcf522a38b0",
       "version_major": 2,
       "version_minor": 0
      },
      "text/plain": [
       "Progress:   0%|          | 0/1 [00:00<?, ?it/s]"
      ]
     },
     "metadata": {},
     "output_type": "display_data"
    },
    {
     "name": "stdout",
     "output_type": "stream",
     "text": [
      "Done with run = 385,515.\n",
      "Starting download of 385_604\n"
     ]
    },
    {
     "data": {
      "application/vnd.jupyter.widget-view+json": {
       "model_id": "9354c95597874497aa5a7341399237fd",
       "version_major": 2,
       "version_minor": 0
      },
      "text/plain": [
       "Progress:   0%|          | 0/1 [00:00<?, ?it/s]"
      ]
     },
     "metadata": {},
     "output_type": "display_data"
    },
    {
     "name": "stdout",
     "output_type": "stream",
     "text": [
      "Done with run = 385,604.\n",
      "Starting download of 385_620\n"
     ]
    },
    {
     "data": {
      "application/vnd.jupyter.widget-view+json": {
       "model_id": "fc16263ef0df42d59fd21f09eb964e3c",
       "version_major": 2,
       "version_minor": 0
      },
      "text/plain": [
       "Progress:   0%|          | 0/1 [00:00<?, ?it/s]"
      ]
     },
     "metadata": {},
     "output_type": "display_data"
    },
    {
     "name": "stdout",
     "output_type": "stream",
     "text": [
      "Done with run = 385,620.\n",
      "Starting download of 385_728\n"
     ]
    },
    {
     "data": {
      "application/vnd.jupyter.widget-view+json": {
       "model_id": "2aa5c3024c1f4869b25a8812ed7c7e7a",
       "version_major": 2,
       "version_minor": 0
      },
      "text/plain": [
       "Progress:   0%|          | 0/1 [00:00<?, ?it/s]"
      ]
     },
     "metadata": {},
     "output_type": "display_data"
    },
    {
     "name": "stdout",
     "output_type": "stream",
     "text": [
      "Done with run = 385,728.\n",
      "Starting download of 385_738\n"
     ]
    },
    {
     "data": {
      "application/vnd.jupyter.widget-view+json": {
       "model_id": "6a832cea757345ceb0bb746b5fe99350",
       "version_major": 2,
       "version_minor": 0
      },
      "text/plain": [
       "Progress:   0%|          | 0/1 [00:00<?, ?it/s]"
      ]
     },
     "metadata": {},
     "output_type": "display_data"
    },
    {
     "name": "stdout",
     "output_type": "stream",
     "text": [
      "Done with run = 385,738.\n",
      "Starting download of 385_764\n"
     ]
    },
    {
     "data": {
      "application/vnd.jupyter.widget-view+json": {
       "model_id": "a31b889106374bafb3ee041cdefb445c",
       "version_major": 2,
       "version_minor": 0
      },
      "text/plain": [
       "Progress:   0%|          | 0/1 [00:00<?, ?it/s]"
      ]
     },
     "metadata": {},
     "output_type": "display_data"
    },
    {
     "name": "stdout",
     "output_type": "stream",
     "text": [
      "Done with run = 385,764.\n",
      "Starting download of 385_842\n"
     ]
    },
    {
     "data": {
      "application/vnd.jupyter.widget-view+json": {
       "model_id": "38c2b9e7b82b410e8523f1233e66e417",
       "version_major": 2,
       "version_minor": 0
      },
      "text/plain": [
       "Progress:   0%|          | 0/1 [00:00<?, ?it/s]"
      ]
     },
     "metadata": {},
     "output_type": "display_data"
    },
    {
     "name": "stdout",
     "output_type": "stream",
     "text": [
      "Done with run = 385,842.\n",
      "Starting download of 385_889\n"
     ]
    },
    {
     "data": {
      "application/vnd.jupyter.widget-view+json": {
       "model_id": "bf930dee5b8841f28639e37e7a7e00ae",
       "version_major": 2,
       "version_minor": 0
      },
      "text/plain": [
       "Progress:   0%|          | 0/1 [00:00<?, ?it/s]"
      ]
     },
     "metadata": {},
     "output_type": "display_data"
    },
    {
     "name": "stdout",
     "output_type": "stream",
     "text": [
      "Done with run = 385,889.\n",
      "Starting download of 385_934\n"
     ]
    },
    {
     "data": {
      "application/vnd.jupyter.widget-view+json": {
       "model_id": "37e66da9e59c445cbf1736aea04264a0",
       "version_major": 2,
       "version_minor": 0
      },
      "text/plain": [
       "Progress:   0%|          | 0/1 [00:00<?, ?it/s]"
      ]
     },
     "metadata": {},
     "output_type": "display_data"
    },
    {
     "name": "stdout",
     "output_type": "stream",
     "text": [
      "Done with run = 385,934.\n",
      "Starting download of 385_986\n"
     ]
    },
    {
     "data": {
      "application/vnd.jupyter.widget-view+json": {
       "model_id": "5faa502a3e6047708150466aae558def",
       "version_major": 2,
       "version_minor": 0
      },
      "text/plain": [
       "Progress:   0%|          | 0/1 [00:00<?, ?it/s]"
      ]
     },
     "metadata": {},
     "output_type": "display_data"
    },
    {
     "name": "stdout",
     "output_type": "stream",
     "text": [
      "Done with run = 385,986.\n",
      "Starting download of 386_025\n"
     ]
    },
    {
     "data": {
      "application/vnd.jupyter.widget-view+json": {
       "model_id": "17f9715c7cc842ecbe294e71d8a01db7",
       "version_major": 2,
       "version_minor": 0
      },
      "text/plain": [
       "Progress:   0%|          | 0/1 [00:00<?, ?it/s]"
      ]
     },
     "metadata": {},
     "output_type": "display_data"
    },
    {
     "name": "stdout",
     "output_type": "stream",
     "text": [
      "Done with run = 386,025.\n",
      "Starting download of 386_509\n"
     ]
    },
    {
     "data": {
      "application/vnd.jupyter.widget-view+json": {
       "model_id": "5944b2a08ba4469fa578a2a096df8578",
       "version_major": 2,
       "version_minor": 0
      },
      "text/plain": [
       "Progress:   0%|          | 0/1 [00:00<?, ?it/s]"
      ]
     },
     "metadata": {},
     "output_type": "display_data"
    },
    {
     "name": "stdout",
     "output_type": "stream",
     "text": [
      "Done with run = 386,509.\n",
      "Starting download of 386_554\n"
     ]
    },
    {
     "data": {
      "application/vnd.jupyter.widget-view+json": {
       "model_id": "a272703157be4f8b969053cabc76008d",
       "version_major": 2,
       "version_minor": 0
      },
      "text/plain": [
       "Progress:   0%|          | 0/1 [00:00<?, ?it/s]"
      ]
     },
     "metadata": {},
     "output_type": "display_data"
    },
    {
     "name": "stdout",
     "output_type": "stream",
     "text": [
      "Done with run = 386,554.\n",
      "Starting download of 386_604\n"
     ]
    },
    {
     "data": {
      "application/vnd.jupyter.widget-view+json": {
       "model_id": "74a6e4840b294e8794d2ec4ed9d9ab88",
       "version_major": 2,
       "version_minor": 0
      },
      "text/plain": [
       "Progress:   0%|          | 0/1 [00:00<?, ?it/s]"
      ]
     },
     "metadata": {},
     "output_type": "display_data"
    },
    {
     "name": "stdout",
     "output_type": "stream",
     "text": [
      "Done with run = 386,604.\n",
      "Starting download of 386_640\n"
     ]
    },
    {
     "data": {
      "application/vnd.jupyter.widget-view+json": {
       "model_id": "e36dc88d90fe47faaf34d38094cafbbe",
       "version_major": 2,
       "version_minor": 0
      },
      "text/plain": [
       "Progress:   0%|          | 0/1 [00:00<?, ?it/s]"
      ]
     },
     "metadata": {},
     "output_type": "display_data"
    }
   ],
   "source": [
    "for run in df_golden.run_number:\n",
    "    skip=False\n",
    "    \n",
    "    for fin in finished:\n",
    "        if f\"{run:_}\" in fin:\n",
    "            print(f\"skipping {run:_}\")\n",
    "            skip=True\n",
    "    \n",
    "    if not skip:\n",
    "        print(f\"Starting download of {run:_}\")\n",
    "        irun_df = dials.h2d.list_all(\n",
    "                                    LumisectionHistogram2DFilters(**kwargs,run_number=run),\n",
    "                                    enable_progress=True,\n",
    "                                    retries=Retry(total=3, backoff_factor=0.1)\n",
    "        ).to_pandas()\n",
    "        \n",
    "        irun_df.to_parquet(f\"{base_path}/run-{run:_}.parquet\")\n",
    "        print(f\"Done with {run = :,}.\") \n",
    "        del irun_df"
   ]
  },
  {
   "cell_type": "code",
   "execution_count": 60,
   "id": "d5a2c995-d638-4ba9-9b51-8bb4f568d5f2",
   "metadata": {},
   "outputs": [
    {
     "name": "stdout",
     "output_type": "stream",
     "text": [
      "../files/Ls_ge_1k has been populated with 105 runs.\n"
     ]
    }
   ],
   "source": [
    "print(f\"{base_path} has been populated with {len(os.listdir(base_path))} runs.\")"
   ]
  }
 ],
 "metadata": {
  "kernelspec": {
   "display_name": "DIALS",
   "language": "python",
   "name": "python3"
  },
  "language_info": {
   "codemirror_mode": {
    "name": "ipython",
    "version": 3
   },
   "file_extension": ".py",
   "mimetype": "text/x-python",
   "name": "python",
   "nbconvert_exporter": "python",
   "pygments_lexer": "ipython3",
   "version": "3.13.5"
  }
 },
 "nbformat": 4,
 "nbformat_minor": 5
}
