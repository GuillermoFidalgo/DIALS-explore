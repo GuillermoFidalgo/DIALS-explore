{
 "cells": [
  {
   "cell_type": "markdown",
   "id": "75606ccf-bae0-4609-9bb7-4a5226239e78",
   "metadata": {},
   "source": [
    "# Finding and Downloading Root files for specific runs"
   ]
  },
  {
   "cell_type": "code",
   "execution_count": 1,
   "id": "929607a8-a982-44d8-8f8f-3ab9b5527d58",
   "metadata": {},
   "outputs": [],
   "source": [
    "import pandas as pd\n",
    "import numpy as np\n",
    "\n",
    "# import cmsdials\n",
    "from cmsdials import Dials\n",
    "from cmsdials.auth.bearer import Credentials\n",
    "from cmsdials.filters import (\n",
    "    FileIndexFilters,\n",
    "    LumisectionHistogram1DFilters,\n",
    "    LumisectionHistogram2DFilters,\n",
    "    LumisectionFilters,\n",
    "    RunFilters,\n",
    "    MEFilters\n",
    ")"
   ]
  },
  {
   "cell_type": "code",
   "execution_count": 2,
   "id": "e6cfe876-e3cc-422e-b46a-a9bce3891e04",
   "metadata": {},
   "outputs": [
    {
     "ename": "HTTPError",
     "evalue": "400 Client Error: Bad Request for url: https://cmsdials-api.web.cern.ch/api/v1/auth/refresh-token/",
     "output_type": "error",
     "traceback": [
      "\u001b[31m---------------------------------------------------------------------------\u001b[39m",
      "\u001b[31mHTTPError\u001b[39m                                 Traceback (most recent call last)",
      "\u001b[36mCell\u001b[39m\u001b[36m \u001b[39m\u001b[32mIn[2]\u001b[39m\u001b[32m, line 1\u001b[39m\n\u001b[32m----> \u001b[39m\u001b[32m1\u001b[39m creds = \u001b[43mCredentials\u001b[49m\u001b[43m.\u001b[49m\u001b[43mfrom_creds_file\u001b[49m\u001b[43m(\u001b[49m\u001b[43m)\u001b[49m\n\u001b[32m      3\u001b[39m dials = Dials(creds,workspace=\u001b[33m\"\u001b[39m\u001b[33mhcal\u001b[39m\u001b[33m\"\u001b[39m) \u001b[38;5;66;03m# this will load into a DQM workspace by default (i.e. Tracker,HCAL,ECAL,etc.)\u001b[39;00m\n",
      "\u001b[36mFile \u001b[39m\u001b[32m~/miniforge3/envs/DIALS/lib/python3.13/site-packages/cmsdials/auth/bearer.py:116\u001b[39m, in \u001b[36mCredentials.from_creds_file\u001b[39m\u001b[34m(cache_dir, client)\u001b[39m\n\u001b[32m    113\u001b[39m     logger.info(\u001b[33m\"\u001b[39m\u001b[33mCredentials file not found, triggering device authentication flow...\u001b[39m\u001b[33m\"\u001b[39m)\n\u001b[32m    114\u001b[39m     token = client.device_auth_flow()\n\u001b[32m--> \u001b[39m\u001b[32m116\u001b[39m \u001b[38;5;28;01mreturn\u001b[39;00m \u001b[43mCredentials\u001b[49m\u001b[43m.\u001b[49m\u001b[43mfrom_authclient_token\u001b[49m\u001b[43m(\u001b[49m\u001b[43mtoken\u001b[49m\u001b[43m,\u001b[49m\u001b[43m \u001b[49m\u001b[43mcache_dir\u001b[49m\u001b[43m,\u001b[49m\u001b[43m \u001b[49m\u001b[43mclient\u001b[49m\u001b[43m)\u001b[49m\n",
      "\u001b[36mFile \u001b[39m\u001b[32m~/miniforge3/envs/DIALS/lib/python3.13/site-packages/cmsdials/auth/bearer.py:91\u001b[39m, in \u001b[36mCredentials.from_authclient_token\u001b[39m\u001b[34m(token, cache_dir, client)\u001b[39m\n\u001b[32m     89\u001b[39m client = client \u001b[38;5;129;01mor\u001b[39;00m AuthClient()\n\u001b[32m     90\u001b[39m cache_dir = cache_dir \u001b[38;5;129;01mor\u001b[39;00m DEFAULT_CACHE_DIR\n\u001b[32m---> \u001b[39m\u001b[32m91\u001b[39m \u001b[38;5;28;01mreturn\u001b[39;00m \u001b[43mCredentials\u001b[49m\u001b[43m(\u001b[49m\n\u001b[32m     92\u001b[39m \u001b[43m    \u001b[49m\u001b[43mtoken\u001b[49m\u001b[43m=\u001b[49m\u001b[43mtoken\u001b[49m\u001b[43m.\u001b[49m\u001b[43maccess_token\u001b[49m\u001b[43m,\u001b[49m\n\u001b[32m     93\u001b[39m \u001b[43m    \u001b[49m\u001b[43mexpires_in\u001b[49m\u001b[43m=\u001b[49m\u001b[43mtoken\u001b[49m\u001b[43m.\u001b[49m\u001b[43mexpires_in\u001b[49m\u001b[43m,\u001b[49m\n\u001b[32m     94\u001b[39m \u001b[43m    \u001b[49m\u001b[43mrefresh_expires_in\u001b[49m\u001b[43m=\u001b[49m\u001b[43mtoken\u001b[49m\u001b[43m.\u001b[49m\u001b[43mrefresh_expires_in\u001b[49m\u001b[43m,\u001b[49m\n\u001b[32m     95\u001b[39m \u001b[43m    \u001b[49m\u001b[43mrefresh_token\u001b[49m\u001b[43m=\u001b[49m\u001b[43mtoken\u001b[49m\u001b[43m.\u001b[49m\u001b[43mrefresh_token\u001b[49m\u001b[43m,\u001b[49m\n\u001b[32m     96\u001b[39m \u001b[43m    \u001b[49m\u001b[43mtoken_type\u001b[49m\u001b[43m=\u001b[49m\u001b[43mtoken\u001b[49m\u001b[43m.\u001b[49m\u001b[43mtoken_type\u001b[49m\u001b[43m,\u001b[49m\n\u001b[32m     97\u001b[39m \u001b[43m    \u001b[49m\u001b[43mexpires_at\u001b[49m\u001b[43m=\u001b[49m\u001b[43mtoken\u001b[49m\u001b[43m.\u001b[49m\u001b[43mexpires_at\u001b[49m\u001b[43m,\u001b[49m\n\u001b[32m     98\u001b[39m \u001b[43m    \u001b[49m\u001b[43mrefresh_expires_at\u001b[49m\u001b[43m=\u001b[49m\u001b[43mtoken\u001b[49m\u001b[43m.\u001b[49m\u001b[43mrefresh_expires_at\u001b[49m\u001b[43m,\u001b[49m\n\u001b[32m     99\u001b[39m \u001b[43m    \u001b[49m\u001b[43mcache_dir\u001b[49m\u001b[43m=\u001b[49m\u001b[43mcache_dir\u001b[49m\u001b[43m,\u001b[49m\n\u001b[32m    100\u001b[39m \u001b[43m    \u001b[49m\u001b[43mclient\u001b[49m\u001b[43m=\u001b[49m\u001b[43mclient\u001b[49m\u001b[43m,\u001b[49m\n\u001b[32m    101\u001b[39m \u001b[43m\u001b[49m\u001b[43m)\u001b[49m\n",
      "\u001b[36mFile \u001b[39m\u001b[32m~/miniforge3/envs/DIALS/lib/python3.13/site-packages/cmsdials/auth/bearer.py:52\u001b[39m, in \u001b[36mCredentials.__init__\u001b[39m\u001b[34m(self, token, expires_at, expires_in, refresh_expires_at, refresh_expires_in, refresh_token, token_type, cache_dir, client)\u001b[39m\n\u001b[32m     50\u001b[39m \u001b[38;5;66;03m# If loaded token is expired, immediately refresh\u001b[39;00m\n\u001b[32m     51\u001b[39m \u001b[38;5;28;01mif\u001b[39;00m \u001b[38;5;28mself\u001b[39m.token_state == TokenState.EXPIRED:\n\u001b[32m---> \u001b[39m\u001b[32m52\u001b[39m     \u001b[38;5;28;43mself\u001b[39;49m\u001b[43m.\u001b[49m\u001b[43mrefresh\u001b[49m\u001b[43m(\u001b[49m\u001b[43m)\u001b[49m\n\u001b[32m     54\u001b[39m \u001b[38;5;66;03m# If loaded token is invalid, trigger authentication\u001b[39;00m\n\u001b[32m     55\u001b[39m \u001b[38;5;28;01mif\u001b[39;00m \u001b[38;5;28mself\u001b[39m.token_state == TokenState.INVALID:\n",
      "\u001b[36mFile \u001b[39m\u001b[32m~/miniforge3/envs/DIALS/lib/python3.13/site-packages/cmsdials/auth/bearer.py:133\u001b[39m, in \u001b[36mCredentials.refresh\u001b[39m\u001b[34m(self)\u001b[39m\n\u001b[32m    132\u001b[39m \u001b[38;5;28;01mdef\u001b[39;00m\u001b[38;5;250m \u001b[39m\u001b[34mrefresh\u001b[39m(\u001b[38;5;28mself\u001b[39m) -> \u001b[38;5;28;01mNone\u001b[39;00m:\n\u001b[32m--> \u001b[39m\u001b[32m133\u001b[39m     token: Token = \u001b[38;5;28;43mself\u001b[39;49m\u001b[43m.\u001b[49m\u001b[43mclient\u001b[49m\u001b[43m.\u001b[49m\u001b[43mrefresh_token\u001b[49m\u001b[43m(\u001b[49m\u001b[38;5;28;43mself\u001b[39;49m\u001b[43m.\u001b[49m\u001b[43mtoken_type\u001b[49m\u001b[43m,\u001b[49m\u001b[43m \u001b[49m\u001b[38;5;28;43mself\u001b[39;49m\u001b[43m.\u001b[49m\u001b[43mtoken\u001b[49m\u001b[43m,\u001b[49m\u001b[43m \u001b[49m\u001b[38;5;28;43mself\u001b[39;49m\u001b[43m.\u001b[49m\u001b[43mrefresh_token\u001b[49m\u001b[43m)\u001b[49m\n\u001b[32m    134\u001b[39m     \u001b[38;5;28mself\u001b[39m._set_token(token)\n\u001b[32m    135\u001b[39m     \u001b[38;5;28mself\u001b[39m.cache_credentials()\n",
      "\u001b[36mFile \u001b[39m\u001b[32m~/miniforge3/envs/DIALS/lib/python3.13/site-packages/cmsdials/auth/client.py:73\u001b[39m, in \u001b[36mAuthClient.refresh_token\u001b[39m\u001b[34m(self, token_type, access_token, refresh_token)\u001b[39m\n\u001b[32m     61\u001b[39m endpoint_url = \u001b[38;5;28mself\u001b[39m.api_url + \u001b[33m\"\u001b[39m\u001b[33mauth/refresh-token/\u001b[39m\u001b[33m\"\u001b[39m\n\u001b[32m     62\u001b[39m response = requests.post(\n\u001b[32m     63\u001b[39m     url=endpoint_url,\n\u001b[32m     64\u001b[39m     headers={\n\u001b[32m   (...)\u001b[39m\u001b[32m     71\u001b[39m     timeout=\u001b[38;5;28mself\u001b[39m.default_timeout,\n\u001b[32m     72\u001b[39m )\n\u001b[32m---> \u001b[39m\u001b[32m73\u001b[39m \u001b[43mresponse\u001b[49m\u001b[43m.\u001b[49m\u001b[43mraise_for_status\u001b[49m\u001b[43m(\u001b[49m\u001b[43m)\u001b[49m\n\u001b[32m     74\u001b[39m data = response.json()\n\u001b[32m     75\u001b[39m curr_datetime = datetime.now()\n",
      "\u001b[36mFile \u001b[39m\u001b[32m~/miniforge3/envs/DIALS/lib/python3.13/site-packages/requests/models.py:1024\u001b[39m, in \u001b[36mResponse.raise_for_status\u001b[39m\u001b[34m(self)\u001b[39m\n\u001b[32m   1019\u001b[39m     http_error_msg = (\n\u001b[32m   1020\u001b[39m         \u001b[33mf\u001b[39m\u001b[33m\"\u001b[39m\u001b[38;5;132;01m{\u001b[39;00m\u001b[38;5;28mself\u001b[39m.status_code\u001b[38;5;132;01m}\u001b[39;00m\u001b[33m Server Error: \u001b[39m\u001b[38;5;132;01m{\u001b[39;00mreason\u001b[38;5;132;01m}\u001b[39;00m\u001b[33m for url: \u001b[39m\u001b[38;5;132;01m{\u001b[39;00m\u001b[38;5;28mself\u001b[39m.url\u001b[38;5;132;01m}\u001b[39;00m\u001b[33m\"\u001b[39m\n\u001b[32m   1021\u001b[39m     )\n\u001b[32m   1023\u001b[39m \u001b[38;5;28;01mif\u001b[39;00m http_error_msg:\n\u001b[32m-> \u001b[39m\u001b[32m1024\u001b[39m     \u001b[38;5;28;01mraise\u001b[39;00m HTTPError(http_error_msg, response=\u001b[38;5;28mself\u001b[39m)\n",
      "\u001b[31mHTTPError\u001b[39m: 400 Client Error: Bad Request for url: https://cmsdials-api.web.cern.ch/api/v1/auth/refresh-token/"
     ]
    }
   ],
   "source": [
    "creds = Credentials.from_creds_file()\n",
    "\n",
    "dials = Dials(creds,workspace=\"hcal\") # this will load into a DQM workspace by default (i.e. Tracker,HCAL,ECAL,etc.)"
   ]
  },
  {
   "cell_type": "code",
   "execution_count": null,
   "id": "2066c6c4-aae0-4284-905a-0cfcd64267e4",
   "metadata": {},
   "outputs": [],
   "source": [
    "kwargs= dict(\n",
    "    status=\"FINISHED\",\n",
    "    dataset__regex=\"ZeroBias/Run2024[F-Z]-PromptReco/*\",\n",
    "    dim = 2,\n",
    "    page_size = 500,\n",
    "    me__regex=\"OccupancyCut\"\n",
    "            )"
   ]
  },
  {
   "cell_type": "code",
   "execution_count": null,
   "id": "065d179a-7c4a-4e63-8ea4-5de27ff0b95e",
   "metadata": {},
   "outputs": [],
   "source": [
    "runs = dials.run.list_all(RunFilters(**kwargs),enable_progress=True).to_pandas()\n",
    "lscount_mask = runs.ls_count > 1000\n",
    "runs[lscount_mask]"
   ]
  },
  {
   "cell_type": "code",
   "execution_count": null,
   "id": "88eeb84a-ac00-4e82-b2b9-80dfb86a7b43",
   "metadata": {},
   "outputs": [],
   "source": [
    "# runs.to_csv(\"../files/TEMPall2024runs.csv\",\n",
    "#             index=False)"
   ]
  },
  {
   "cell_type": "code",
   "execution_count": null,
   "id": "fcf31922-a34d-4069-bfca-8ddbc2fc989e",
   "metadata": {},
   "outputs": [],
   "source": [
    "runs.info()"
   ]
  },
  {
   "cell_type": "code",
   "execution_count": null,
   "id": "361a2e00-ad0b-4f11-b6da-b90eb0ab39c8",
   "metadata": {},
   "outputs": [],
   "source": [
    "# range of run numbers in 2024\n",
    "runs.run_number.iloc[0],runs.run_number.iloc[-1] "
   ]
  },
  {
   "cell_type": "code",
   "execution_count": null,
   "id": "4f579e72-9628-4f8e-8e88-b2b26e695e19",
   "metadata": {},
   "outputs": [],
   "source": [
    "runs[lscount_mask].nunique()"
   ]
  },
  {
   "cell_type": "code",
   "execution_count": null,
   "id": "aec64d2a-9b27-4d8c-9417-f7d292849f2b",
   "metadata": {},
   "outputs": [],
   "source": [
    "# run_numbers = runs[lscount_mask].run_number\n",
    "files = dials.file_index.list_all(FileIndexFilters(**kwargs),enable_progress=True).to_pandas()\n",
    "\n",
    "files"
   ]
  },
  {
   "cell_type": "code",
   "execution_count": null,
   "id": "0e10192a-140e-492f-aceb-44a4d303d835",
   "metadata": {},
   "outputs": [],
   "source": [
    "files.info()"
   ]
  },
  {
   "cell_type": "code",
   "execution_count": null,
   "id": "68f6aa29-b1bf-4b72-aa12-adcfb7468c34",
   "metadata": {},
   "outputs": [],
   "source": [
    "files.to_csv(\"../files/Eras_F-J_files2024.csv\",index=False)"
   ]
  },
  {
   "cell_type": "code",
   "execution_count": null,
   "id": "33905f15-b00c-48fe-b519-9522f3f1e156",
   "metadata": {},
   "outputs": [],
   "source": [
    "! ls -alhtr ../files"
   ]
  },
  {
   "cell_type": "markdown",
   "id": "af6cbc8a-6058-4e68-ae20-b2365cbbf4a2",
   "metadata": {},
   "source": [
    "# Now getting the list of files for a long run"
   ]
  },
  {
   "cell_type": "code",
   "execution_count": null,
   "id": "242d8da3",
   "metadata": {},
   "outputs": [],
   "source": [
    "runs[lscount_mask]"
   ]
  },
  {
   "cell_type": "code",
   "execution_count": null,
   "id": "88a7d955-4868-4e52-9cc0-0aa0d233efc0",
   "metadata": {
    "scrolled": true
   },
   "outputs": [],
   "source": [
    "me = \"Hcal/DigiTask/OccupancyCut/depth/depth1\"\n",
    "h2d_df = dials.h2d.list_all(LumisectionHistogram2DFilters(**kwargs,run_number=runs[lscount_mask].run_number.iloc[0],me=me),\n",
    "                            enable_progress=True).to_pandas()\n",
    "# h2d_df = dials.h2d.list(LumisectionHistogram2DFilters(**kwargs,run_number=run_numbers.iloc[0],me__regex=\"Hcal/DigiTask/OccupancyCut/*\"),\n",
    "#                        ).to_pandas()\n",
    "h2d_df"
   ]
  },
  {
   "cell_type": "markdown",
   "id": "6b56b6d1-1215-4ed2-a633-a0cc7ff0120a",
   "metadata": {
    "editable": true,
    "slideshow": {
     "slide_type": ""
    },
    "tags": []
   },
   "source": [
    "# Putting it all together."
   ]
  },
  {
   "cell_type": "markdown",
   "id": "5c9dc260-0bcf-4b9f-84da-b58068edb797",
   "metadata": {},
   "source": [
    " We can use the info given by the h2d endpoint to give us the file.\n",
    " \n",
    " The run endpoint will give us the run numbers"
   ]
  },
  {
   "cell_type": "code",
   "execution_count": null,
   "id": "e474278d-bf19-4ad6-84f2-63ed092397d8",
   "metadata": {
    "scrolled": true
   },
   "outputs": [],
   "source": [
    "files"
   ]
  },
  {
   "cell_type": "markdown",
   "id": "4f9afbae-6597-41f9-993c-8fdbdcc99469",
   "metadata": {},
   "source": [
    "# Finally getting the list of files for the long runs \n",
    "\n",
    "Each run *may* have many files attached to it so they are orgainized in their own csv file. I will later merge them all into one big pandas dataframe."
   ]
  },
  {
   "cell_type": "code",
   "execution_count": 3,
   "id": "05251dcd",
   "metadata": {},
   "outputs": [
    {
     "data": {
      "text/plain": [
       "[383067,\n",
       " 382511,\n",
       " 384069,\n",
       " 382913,\n",
       " 384614,\n",
       " 382435,\n",
       " 383756,\n",
       " 384565,\n",
       " 385194,\n",
       " 383162,\n",
       " 383512,\n",
       " 384413,\n",
       " 384935,\n",
       " 384981,\n",
       " 383449,\n",
       " 384963,\n",
       " 382258,\n",
       " 385142,\n",
       " 383487,\n",
       " 384644,\n",
       " 384128,\n",
       " 384188,\n",
       " 385127,\n",
       " 383615,\n",
       " 384202,\n",
       " 382769,\n",
       " 384291,\n",
       " 383468,\n",
       " 383996,\n",
       " 383174,\n",
       " 382684,\n",
       " 384239,\n",
       " 383712,\n",
       " 382654,\n",
       " 385168,\n",
       " 382330,\n",
       " 382921,\n",
       " 383854,\n",
       " 384383,\n",
       " 383368,\n",
       " 382594,\n",
       " 382120,\n",
       " 384492,\n",
       " 383767,\n",
       " 383631,\n",
       " 385054,\n",
       " 382580,\n",
       " 383814,\n",
       " 383254,\n",
       " 382343,\n",
       " 382300,\n",
       " 385094,\n",
       " 384468,\n",
       " 381968,\n",
       " 383323,\n",
       " 385152,\n",
       " 383903,\n",
       " 383155,\n",
       " 384052]"
      ]
     },
     "execution_count": 3,
     "metadata": {},
     "output_type": "execute_result"
    }
   ],
   "source": [
    "from glob import glob\n",
    "downloaded_runs = [int(i.split(\"/\")[-1].removesuffix(\".csv\")) for i in glob(\"../files/runcsvs/*\")]\n",
    "downloaded_runs\n"
   ]
  },
  {
   "cell_type": "code",
   "execution_count": null,
   "id": "fd1710bf-25db-410a-9c37-7202d0bf88c5",
   "metadata": {
    "scrolled": true
   },
   "outputs": [],
   "source": [
    "# df_list = []\n",
    "for run_number in runs[lscount_mask].run_number:\n",
    "    \n",
    "    if run_number in downloaded_runs:\n",
    "        print(f\"{run_number=} in the folder\")\n",
    "    else:\n",
    "        print(f\"Fetching files for {run_number=}\")\n",
    "        h2d_df = dials.h2d.list_all(LumisectionHistogram2DFilters(**kwargs,run_number=run_number,me=me),\n",
    "                                    enable_progress=True).to_pandas()\n",
    "        # df_list.append(h2d_df)\n",
    "        files_list = []\n",
    "        \n",
    "        for i in h2d_df.file_id.unique():\n",
    "            if i in files.file_id.unique():\n",
    "                files_list.append(files[files.loc[:,\"file_id\"] == i])\n",
    "        temp = pd.concat(files_list)\n",
    "        temp.insert(0,\"run_number\",value = run_number)\n",
    "        # temp.loc[:,\"logical_file_name\"] = temp.logical_file_name.apply(lambda x: redir+x)\n",
    "        temp.to_csv(f\"../files/runcsvs/{run_number}.csv\",index=False)\n",
    "        print(f\"Finished {run_number=}\")\n",
    "        del temp\n",
    "        del h2d_df\n",
    "\n",
    "\n"
   ]
  },
  {
   "cell_type": "markdown",
   "id": "cce8d52f-491c-4094-8b85-7495e3c20cf8",
   "metadata": {},
   "source": [
    "# Now lets concatenate all the files into 1 Dataframe"
   ]
  },
  {
   "cell_type": "code",
   "execution_count": 4,
   "id": "e2a749a0-2e3d-4bc9-b228-442375b23de5",
   "metadata": {},
   "outputs": [],
   "source": [
    "from glob import glob"
   ]
  },
  {
   "cell_type": "code",
   "execution_count": 48,
   "id": "a7cc2350-3a84-4cb3-a755-d7d3e99bbe8d",
   "metadata": {},
   "outputs": [
    {
     "data": {
      "text/html": [
       "<div>\n",
       "<style scoped>\n",
       "    .dataframe tbody tr th:only-of-type {\n",
       "        vertical-align: middle;\n",
       "    }\n",
       "\n",
       "    .dataframe tbody tr th {\n",
       "        vertical-align: top;\n",
       "    }\n",
       "\n",
       "    .dataframe thead th {\n",
       "        text-align: right;\n",
       "    }\n",
       "</style>\n",
       "<table border=\"1\" class=\"dataframe\">\n",
       "  <thead>\n",
       "    <tr style=\"text-align: right;\">\n",
       "      <th></th>\n",
       "      <th>run_number</th>\n",
       "      <th>dataset_id</th>\n",
       "      <th>dataset</th>\n",
       "      <th>file_id</th>\n",
       "      <th>file_size</th>\n",
       "      <th>creation_date</th>\n",
       "      <th>last_modification_date</th>\n",
       "      <th>logical_file_name</th>\n",
       "      <th>status</th>\n",
       "      <th>err_trace</th>\n",
       "    </tr>\n",
       "  </thead>\n",
       "  <tbody>\n",
       "    <tr>\n",
       "      <th>0</th>\n",
       "      <td>383067</td>\n",
       "      <td>14986300</td>\n",
       "      <td>/ZeroBias/Run2024F-PromptReco-v1/DQMIO</td>\n",
       "      <td>16870151637</td>\n",
       "      <td>981512899</td>\n",
       "      <td>2024-07-14 10:36:50+00:00</td>\n",
       "      <td>2024-07-14 10:36:50+00:00</td>\n",
       "      <td>/store/data/Run2024F/ZeroBias/DQMIO/PromptReco...</td>\n",
       "      <td>FINISHED</td>\n",
       "      <td>NaN</td>\n",
       "    </tr>\n",
       "    <tr>\n",
       "      <th>1</th>\n",
       "      <td>383067</td>\n",
       "      <td>14986300</td>\n",
       "      <td>/ZeroBias/Run2024F-PromptReco-v1/DQMIO</td>\n",
       "      <td>16871126997</td>\n",
       "      <td>353625170</td>\n",
       "      <td>2024-07-14 13:20:59+00:00</td>\n",
       "      <td>2024-07-14 13:20:59+00:00</td>\n",
       "      <td>/store/data/Run2024F/ZeroBias/DQMIO/PromptReco...</td>\n",
       "      <td>FINISHED</td>\n",
       "      <td>NaN</td>\n",
       "    </tr>\n",
       "    <tr>\n",
       "      <th>0</th>\n",
       "      <td>382511</td>\n",
       "      <td>14986300</td>\n",
       "      <td>/ZeroBias/Run2024F-PromptReco-v1/DQMIO</td>\n",
       "      <td>16339152997</td>\n",
       "      <td>939048235</td>\n",
       "      <td>2024-07-01 00:20:16+00:00</td>\n",
       "      <td>2024-07-01 00:20:16+00:00</td>\n",
       "      <td>/store/data/Run2024F/ZeroBias/DQMIO/PromptReco...</td>\n",
       "      <td>FINISHED</td>\n",
       "      <td>NaN</td>\n",
       "    </tr>\n",
       "    <tr>\n",
       "      <th>0</th>\n",
       "      <td>384069</td>\n",
       "      <td>15042470</td>\n",
       "      <td>/ZeroBias/Run2024G-PromptReco-v1/DQMIO</td>\n",
       "      <td>17237452437</td>\n",
       "      <td>621348907</td>\n",
       "      <td>2024-08-09 22:42:38+00:00</td>\n",
       "      <td>2024-08-09 22:42:38+00:00</td>\n",
       "      <td>/store/data/Run2024G/ZeroBias/DQMIO/PromptReco...</td>\n",
       "      <td>FINISHED</td>\n",
       "      <td>NaN</td>\n",
       "    </tr>\n",
       "    <tr>\n",
       "      <th>1</th>\n",
       "      <td>384069</td>\n",
       "      <td>15042470</td>\n",
       "      <td>/ZeroBias/Run2024G-PromptReco-v1/DQMIO</td>\n",
       "      <td>17237452677</td>\n",
       "      <td>326000139</td>\n",
       "      <td>2024-08-09 22:42:38+00:00</td>\n",
       "      <td>2024-08-09 22:42:38+00:00</td>\n",
       "      <td>/store/data/Run2024G/ZeroBias/DQMIO/PromptReco...</td>\n",
       "      <td>FINISHED</td>\n",
       "      <td>NaN</td>\n",
       "    </tr>\n",
       "    <tr>\n",
       "      <th>...</th>\n",
       "      <td>...</td>\n",
       "      <td>...</td>\n",
       "      <td>...</td>\n",
       "      <td>...</td>\n",
       "      <td>...</td>\n",
       "      <td>...</td>\n",
       "      <td>...</td>\n",
       "      <td>...</td>\n",
       "      <td>...</td>\n",
       "      <td>...</td>\n",
       "    </tr>\n",
       "    <tr>\n",
       "      <th>9</th>\n",
       "      <td>384052</td>\n",
       "      <td>15042470</td>\n",
       "      <td>/ZeroBias/Run2024G-PromptReco-v1/DQMIO</td>\n",
       "      <td>17211568437</td>\n",
       "      <td>645990728</td>\n",
       "      <td>2024-08-08 19:12:53+00:00</td>\n",
       "      <td>2024-08-08 19:12:53+00:00</td>\n",
       "      <td>/store/data/Run2024G/ZeroBias/DQMIO/PromptReco...</td>\n",
       "      <td>FINISHED</td>\n",
       "      <td>NaN</td>\n",
       "    </tr>\n",
       "    <tr>\n",
       "      <th>10</th>\n",
       "      <td>384052</td>\n",
       "      <td>15042470</td>\n",
       "      <td>/ZeroBias/Run2024G-PromptReco-v1/DQMIO</td>\n",
       "      <td>17211568597</td>\n",
       "      <td>508352855</td>\n",
       "      <td>2024-08-08 19:12:53+00:00</td>\n",
       "      <td>2024-08-08 19:12:53+00:00</td>\n",
       "      <td>/store/data/Run2024G/ZeroBias/DQMIO/PromptReco...</td>\n",
       "      <td>FINISHED</td>\n",
       "      <td>NaN</td>\n",
       "    </tr>\n",
       "    <tr>\n",
       "      <th>11</th>\n",
       "      <td>384052</td>\n",
       "      <td>15042470</td>\n",
       "      <td>/ZeroBias/Run2024G-PromptReco-v1/DQMIO</td>\n",
       "      <td>17211568397</td>\n",
       "      <td>602417876</td>\n",
       "      <td>2024-08-08 19:12:53+00:00</td>\n",
       "      <td>2024-08-08 19:12:53+00:00</td>\n",
       "      <td>/store/data/Run2024G/ZeroBias/DQMIO/PromptReco...</td>\n",
       "      <td>FINISHED</td>\n",
       "      <td>NaN</td>\n",
       "    </tr>\n",
       "    <tr>\n",
       "      <th>12</th>\n",
       "      <td>384052</td>\n",
       "      <td>15042470</td>\n",
       "      <td>/ZeroBias/Run2024G-PromptReco-v1/DQMIO</td>\n",
       "      <td>17211568557</td>\n",
       "      <td>638555974</td>\n",
       "      <td>2024-08-08 19:12:53+00:00</td>\n",
       "      <td>2024-08-08 19:12:53+00:00</td>\n",
       "      <td>/store/data/Run2024G/ZeroBias/DQMIO/PromptReco...</td>\n",
       "      <td>FINISHED</td>\n",
       "      <td>NaN</td>\n",
       "    </tr>\n",
       "    <tr>\n",
       "      <th>13</th>\n",
       "      <td>384052</td>\n",
       "      <td>15042470</td>\n",
       "      <td>/ZeroBias/Run2024G-PromptReco-v1/DQMIO</td>\n",
       "      <td>17211568637</td>\n",
       "      <td>537192362</td>\n",
       "      <td>2024-08-08 19:12:53+00:00</td>\n",
       "      <td>2024-08-08 19:12:53+00:00</td>\n",
       "      <td>/store/data/Run2024G/ZeroBias/DQMIO/PromptReco...</td>\n",
       "      <td>FINISHED</td>\n",
       "      <td>NaN</td>\n",
       "    </tr>\n",
       "  </tbody>\n",
       "</table>\n",
       "<p>714 rows × 10 columns</p>\n",
       "</div>"
      ],
      "text/plain": [
       "    run_number  dataset_id                                 dataset  \\\n",
       "0       383067    14986300  /ZeroBias/Run2024F-PromptReco-v1/DQMIO   \n",
       "1       383067    14986300  /ZeroBias/Run2024F-PromptReco-v1/DQMIO   \n",
       "0       382511    14986300  /ZeroBias/Run2024F-PromptReco-v1/DQMIO   \n",
       "0       384069    15042470  /ZeroBias/Run2024G-PromptReco-v1/DQMIO   \n",
       "1       384069    15042470  /ZeroBias/Run2024G-PromptReco-v1/DQMIO   \n",
       "..         ...         ...                                     ...   \n",
       "9       384052    15042470  /ZeroBias/Run2024G-PromptReco-v1/DQMIO   \n",
       "10      384052    15042470  /ZeroBias/Run2024G-PromptReco-v1/DQMIO   \n",
       "11      384052    15042470  /ZeroBias/Run2024G-PromptReco-v1/DQMIO   \n",
       "12      384052    15042470  /ZeroBias/Run2024G-PromptReco-v1/DQMIO   \n",
       "13      384052    15042470  /ZeroBias/Run2024G-PromptReco-v1/DQMIO   \n",
       "\n",
       "        file_id  file_size              creation_date  \\\n",
       "0   16870151637  981512899  2024-07-14 10:36:50+00:00   \n",
       "1   16871126997  353625170  2024-07-14 13:20:59+00:00   \n",
       "0   16339152997  939048235  2024-07-01 00:20:16+00:00   \n",
       "0   17237452437  621348907  2024-08-09 22:42:38+00:00   \n",
       "1   17237452677  326000139  2024-08-09 22:42:38+00:00   \n",
       "..          ...        ...                        ...   \n",
       "9   17211568437  645990728  2024-08-08 19:12:53+00:00   \n",
       "10  17211568597  508352855  2024-08-08 19:12:53+00:00   \n",
       "11  17211568397  602417876  2024-08-08 19:12:53+00:00   \n",
       "12  17211568557  638555974  2024-08-08 19:12:53+00:00   \n",
       "13  17211568637  537192362  2024-08-08 19:12:53+00:00   \n",
       "\n",
       "       last_modification_date  \\\n",
       "0   2024-07-14 10:36:50+00:00   \n",
       "1   2024-07-14 13:20:59+00:00   \n",
       "0   2024-07-01 00:20:16+00:00   \n",
       "0   2024-08-09 22:42:38+00:00   \n",
       "1   2024-08-09 22:42:38+00:00   \n",
       "..                        ...   \n",
       "9   2024-08-08 19:12:53+00:00   \n",
       "10  2024-08-08 19:12:53+00:00   \n",
       "11  2024-08-08 19:12:53+00:00   \n",
       "12  2024-08-08 19:12:53+00:00   \n",
       "13  2024-08-08 19:12:53+00:00   \n",
       "\n",
       "                                    logical_file_name    status  err_trace  \n",
       "0   /store/data/Run2024F/ZeroBias/DQMIO/PromptReco...  FINISHED        NaN  \n",
       "1   /store/data/Run2024F/ZeroBias/DQMIO/PromptReco...  FINISHED        NaN  \n",
       "0   /store/data/Run2024F/ZeroBias/DQMIO/PromptReco...  FINISHED        NaN  \n",
       "0   /store/data/Run2024G/ZeroBias/DQMIO/PromptReco...  FINISHED        NaN  \n",
       "1   /store/data/Run2024G/ZeroBias/DQMIO/PromptReco...  FINISHED        NaN  \n",
       "..                                                ...       ...        ...  \n",
       "9   /store/data/Run2024G/ZeroBias/DQMIO/PromptReco...  FINISHED        NaN  \n",
       "10  /store/data/Run2024G/ZeroBias/DQMIO/PromptReco...  FINISHED        NaN  \n",
       "11  /store/data/Run2024G/ZeroBias/DQMIO/PromptReco...  FINISHED        NaN  \n",
       "12  /store/data/Run2024G/ZeroBias/DQMIO/PromptReco...  FINISHED        NaN  \n",
       "13  /store/data/Run2024G/ZeroBias/DQMIO/PromptReco...  FINISHED        NaN  \n",
       "\n",
       "[714 rows x 10 columns]"
      ]
     },
     "execution_count": 48,
     "metadata": {},
     "output_type": "execute_result"
    }
   ],
   "source": [
    "df_list = [pd.read_csv(i) for i in glob(\"../files/runcsvs/*.csv\") ]\n",
    "df = pd.concat(df_list)\n",
    "# df.index = df.index.rename(\"run_number_part\")\n",
    "# df = df.reset_index(drop=True)\n",
    "df\n",
    "# df = df.rename(columns={\"Unnamed: 0\": \"old_index\"})"
   ]
  },
  {
   "cell_type": "code",
   "execution_count": 46,
   "id": "3f91915c",
   "metadata": {},
   "outputs": [
    {
     "data": {
      "text/plain": [
       "run_number                 59\n",
       "dataset_id                  2\n",
       "dataset                     2\n",
       "file_id                   714\n",
       "file_size                 714\n",
       "creation_date             107\n",
       "last_modification_date    107\n",
       "logical_file_name         714\n",
       "status                      1\n",
       "err_trace                   0\n",
       "dtype: int64"
      ]
     },
     "execution_count": 46,
     "metadata": {},
     "output_type": "execute_result"
    }
   ],
   "source": [
    "df.nunique()"
   ]
  },
  {
   "cell_type": "code",
   "execution_count": 47,
   "id": "e3250f39-3480-4c54-b7d5-a821732fdf0c",
   "metadata": {},
   "outputs": [
    {
     "name": "stdout",
     "output_type": "stream",
     "text": [
      "<class 'pandas.core.frame.DataFrame'>\n",
      "RangeIndex: 714 entries, 0 to 713\n",
      "Data columns (total 10 columns):\n",
      " #   Column                  Non-Null Count  Dtype  \n",
      "---  ------                  --------------  -----  \n",
      " 0   run_number              714 non-null    int64  \n",
      " 1   dataset_id              714 non-null    int64  \n",
      " 2   dataset                 714 non-null    object \n",
      " 3   file_id                 714 non-null    int64  \n",
      " 4   file_size               714 non-null    int64  \n",
      " 5   creation_date           714 non-null    object \n",
      " 6   last_modification_date  714 non-null    object \n",
      " 7   logical_file_name       714 non-null    object \n",
      " 8   status                  714 non-null    object \n",
      " 9   err_trace               0 non-null      float64\n",
      "dtypes: float64(1), int64(4), object(5)\n",
      "memory usage: 55.9+ KB\n"
     ]
    }
   ],
   "source": [
    "df.info()"
   ]
  },
  {
   "cell_type": "code",
   "execution_count": null,
   "id": "f9851ccf-b350-4d70-8aee-b10fe2ee82b0",
   "metadata": {},
   "outputs": [],
   "source": [
    "# df.to_csv(\"../files/Eras_F-J_runs2024.csv\",index=False)"
   ]
  }
 ],
 "metadata": {
  "kernelspec": {
   "display_name": "DIALS",
   "language": "python",
   "name": "python3"
  },
  "language_info": {
   "codemirror_mode": {
    "name": "ipython",
    "version": 3
   },
   "file_extension": ".py",
   "mimetype": "text/x-python",
   "name": "python",
   "nbconvert_exporter": "python",
   "pygments_lexer": "ipython3",
   "version": "3.13.3"
  }
 },
 "nbformat": 4,
 "nbformat_minor": 5
}
