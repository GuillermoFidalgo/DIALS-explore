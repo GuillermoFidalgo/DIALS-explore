{
 "cells": [
  {
   "cell_type": "markdown",
   "id": "75606ccf-bae0-4609-9bb7-4a5226239e78",
   "metadata": {},
   "source": [
    "# Finding and Downloading Root files for specific runs"
   ]
  },
  {
   "cell_type": "code",
   "execution_count": 5,
   "id": "929607a8-a982-44d8-8f8f-3ab9b5527d58",
   "metadata": {},
   "outputs": [],
   "source": [
    "import pandas as pd\n",
    "import numpy as np\n",
    "\n",
    "# import cmsdials\n",
    "from cmsdials import Dials\n",
    "from cmsdials.auth.bearer import Credentials\n",
    "from cmsdials.filters import (\n",
    "    FileIndexFilters,\n",
    "    LumisectionHistogram1DFilters,\n",
    "    LumisectionHistogram2DFilters,\n",
    "    LumisectionFilters,\n",
    "    RunFilters,\n",
    "    MEFilters\n",
    ")"
   ]
  },
  {
   "cell_type": "code",
   "execution_count": 6,
   "id": "e6cfe876-e3cc-422e-b46a-a9bce3891e04",
   "metadata": {},
   "outputs": [
    {
     "name": "stderr",
     "output_type": "stream",
     "text": [
      "[2025-06-04 22:44:45,663] INFO: Credentials file not found, triggering device authentication flow...\n",
      "[2025-06-04 22:44:45,734] INFO: This device will expire in 600 seconds.\n",
      "[2025-06-04 22:44:45,735] INFO: Go to the following url and authenticate: https://auth.cern.ch/auth/realms/cern/device?user_code=RBYZ-HIUA\n",
      "[2025-06-04 22:44:45,736] INFO: Checking authorization status every 5 seconds...\n",
      "[2025-06-04 22:44:52,864] INFO: Device not authorized yet.\n",
      "[2025-06-04 22:44:58,003] INFO: Device authorized, authentication finished successfully!\n"
     ]
    }
   ],
   "source": [
    "creds = Credentials.from_creds_file()\n",
    "\n",
    "dials = Dials(creds,workspace=\"hcal\") # this will load into a DQM workspace by default (i.e. Tracker,HCAL,ECAL,etc.)"
   ]
  },
  {
   "cell_type": "code",
   "execution_count": 7,
   "id": "2066c6c4-aae0-4284-905a-0cfcd64267e4",
   "metadata": {},
   "outputs": [],
   "source": [
    "kwargs= dict(\n",
    "    status=\"FINISHED\",\n",
    "    dataset__regex=\"ZeroBias/Run2024[A-Z]-PromptReco/*\",\n",
    "    dim = 2,\n",
    "    page_size = 500\n",
    "            )"
   ]
  },
  {
   "cell_type": "code",
   "execution_count": 8,
   "id": "065d179a-7c4a-4e63-8ea4-5de27ff0b95e",
   "metadata": {},
   "outputs": [
    {
     "data": {
      "application/vnd.jupyter.widget-view+json": {
       "model_id": "b31d462e62044e828ef5abf62955c713",
       "version_major": 2,
       "version_minor": 0
      },
      "text/plain": [
       "Progress:   0%|          | 0/1 [00:00<?, ?it/s]"
      ]
     },
     "metadata": {},
     "output_type": "display_data"
    },
    {
     "data": {
      "text/html": [
       "<div>\n",
       "<style scoped>\n",
       "    .dataframe tbody tr th:only-of-type {\n",
       "        vertical-align: middle;\n",
       "    }\n",
       "\n",
       "    .dataframe tbody tr th {\n",
       "        vertical-align: top;\n",
       "    }\n",
       "\n",
       "    .dataframe thead th {\n",
       "        text-align: right;\n",
       "    }\n",
       "</style>\n",
       "<table border=\"1\" class=\"dataframe\">\n",
       "  <thead>\n",
       "    <tr style=\"text-align: right;\">\n",
       "      <th></th>\n",
       "      <th>dataset_id</th>\n",
       "      <th>dataset</th>\n",
       "      <th>run_number</th>\n",
       "      <th>ls_count</th>\n",
       "    </tr>\n",
       "  </thead>\n",
       "  <tbody>\n",
       "    <tr>\n",
       "      <th>89</th>\n",
       "      <td>14944573</td>\n",
       "      <td>/ZeroBias/Run2024B-PromptReco-v1/DQMIO</td>\n",
       "      <td>379154</td>\n",
       "      <td>1075</td>\n",
       "    </tr>\n",
       "    <tr>\n",
       "      <th>135</th>\n",
       "      <td>14949731</td>\n",
       "      <td>/ZeroBias/Run2024C-PromptReco-v1/DQMIO</td>\n",
       "      <td>379456</td>\n",
       "      <td>1208</td>\n",
       "    </tr>\n",
       "    <tr>\n",
       "      <th>158</th>\n",
       "      <td>14949731</td>\n",
       "      <td>/ZeroBias/Run2024C-PromptReco-v1/DQMIO</td>\n",
       "      <td>379660</td>\n",
       "      <td>1563</td>\n",
       "    </tr>\n",
       "    <tr>\n",
       "      <th>160</th>\n",
       "      <td>14949731</td>\n",
       "      <td>/ZeroBias/Run2024C-PromptReco-v1/DQMIO</td>\n",
       "      <td>379729</td>\n",
       "      <td>1534</td>\n",
       "    </tr>\n",
       "    <tr>\n",
       "      <th>161</th>\n",
       "      <td>14949731</td>\n",
       "      <td>/ZeroBias/Run2024C-PromptReco-v1/DQMIO</td>\n",
       "      <td>379765</td>\n",
       "      <td>1728</td>\n",
       "    </tr>\n",
       "    <tr>\n",
       "      <th>...</th>\n",
       "      <td>...</td>\n",
       "      <td>...</td>\n",
       "      <td>...</td>\n",
       "      <td>...</td>\n",
       "    </tr>\n",
       "    <tr>\n",
       "      <th>3426</th>\n",
       "      <td>15099576</td>\n",
       "      <td>/ZeroBias/Run2024I-PromptReco-v2/DQMIO</td>\n",
       "      <td>386924</td>\n",
       "      <td>1818</td>\n",
       "    </tr>\n",
       "    <tr>\n",
       "      <th>3596</th>\n",
       "      <td>15139648</td>\n",
       "      <td>/ZeroBias/Run2024J-PromptReco-v1/DQMIO</td>\n",
       "      <td>387574</td>\n",
       "      <td>1084</td>\n",
       "    </tr>\n",
       "    <tr>\n",
       "      <th>3615</th>\n",
       "      <td>15139648</td>\n",
       "      <td>/ZeroBias/Run2024J-PromptReco-v1/DQMIO</td>\n",
       "      <td>387607</td>\n",
       "      <td>2509</td>\n",
       "    </tr>\n",
       "    <tr>\n",
       "      <th>3623</th>\n",
       "      <td>15139648</td>\n",
       "      <td>/ZeroBias/Run2024J-PromptReco-v1/DQMIO</td>\n",
       "      <td>387640</td>\n",
       "      <td>2596</td>\n",
       "    </tr>\n",
       "    <tr>\n",
       "      <th>3649</th>\n",
       "      <td>15139648</td>\n",
       "      <td>/ZeroBias/Run2024J-PromptReco-v1/DQMIO</td>\n",
       "      <td>387696</td>\n",
       "      <td>2737</td>\n",
       "    </tr>\n",
       "  </tbody>\n",
       "</table>\n",
       "<p>137 rows × 4 columns</p>\n",
       "</div>"
      ],
      "text/plain": [
       "      dataset_id                                 dataset  run_number  ls_count\n",
       "89      14944573  /ZeroBias/Run2024B-PromptReco-v1/DQMIO      379154      1075\n",
       "135     14949731  /ZeroBias/Run2024C-PromptReco-v1/DQMIO      379456      1208\n",
       "158     14949731  /ZeroBias/Run2024C-PromptReco-v1/DQMIO      379660      1563\n",
       "160     14949731  /ZeroBias/Run2024C-PromptReco-v1/DQMIO      379729      1534\n",
       "161     14949731  /ZeroBias/Run2024C-PromptReco-v1/DQMIO      379765      1728\n",
       "...          ...                                     ...         ...       ...\n",
       "3426    15099576  /ZeroBias/Run2024I-PromptReco-v2/DQMIO      386924      1818\n",
       "3596    15139648  /ZeroBias/Run2024J-PromptReco-v1/DQMIO      387574      1084\n",
       "3615    15139648  /ZeroBias/Run2024J-PromptReco-v1/DQMIO      387607      2509\n",
       "3623    15139648  /ZeroBias/Run2024J-PromptReco-v1/DQMIO      387640      2596\n",
       "3649    15139648  /ZeroBias/Run2024J-PromptReco-v1/DQMIO      387696      2737\n",
       "\n",
       "[137 rows x 4 columns]"
      ]
     },
     "execution_count": 8,
     "metadata": {},
     "output_type": "execute_result"
    }
   ],
   "source": [
    "runs = dials.run.list_all(RunFilters(**kwargs),enable_progress=True).to_pandas()\n",
    "lscount_mask = runs.ls_count > 1000\n",
    "runs[lscount_mask]"
   ]
  },
  {
   "cell_type": "code",
   "execution_count": 10,
   "id": "88eeb84a-ac00-4e82-b2b9-80dfb86a7b43",
   "metadata": {},
   "outputs": [],
   "source": [
    "runs.to_csv(\"../files/TEMPall2024runs.csv\",index=False)"
   ]
  },
  {
   "cell_type": "code",
   "execution_count": 9,
   "id": "fcf31922-a34d-4069-bfca-8ddbc2fc989e",
   "metadata": {},
   "outputs": [
    {
     "name": "stdout",
     "output_type": "stream",
     "text": [
      "<class 'pandas.core.frame.DataFrame'>\n",
      "RangeIndex: 3665 entries, 0 to 3664\n",
      "Data columns (total 4 columns):\n",
      " #   Column      Non-Null Count  Dtype \n",
      "---  ------      --------------  ----- \n",
      " 0   dataset_id  3665 non-null   int64 \n",
      " 1   dataset     3665 non-null   object\n",
      " 2   run_number  3665 non-null   int64 \n",
      " 3   ls_count    3665 non-null   int64 \n",
      "dtypes: int64(3), object(1)\n",
      "memory usage: 114.7+ KB\n"
     ]
    }
   ],
   "source": [
    "runs.info()"
   ]
  },
  {
   "cell_type": "code",
   "execution_count": 17,
   "id": "361a2e00-ad0b-4f11-b6da-b90eb0ab39c8",
   "metadata": {},
   "outputs": [
    {
     "data": {
      "text/plain": [
       "(378144, 387721)"
      ]
     },
     "execution_count": 17,
     "metadata": {},
     "output_type": "execute_result"
    }
   ],
   "source": [
    "# range of run numbers in 2024\n",
    "runs.run_number.iloc[0],runs.run_number.iloc[-1] "
   ]
  },
  {
   "cell_type": "code",
   "execution_count": 18,
   "id": "4f579e72-9628-4f8e-8e88-b2b26e695e19",
   "metadata": {},
   "outputs": [
    {
     "data": {
      "text/plain": [
       "dataset_id     11\n",
       "dataset        11\n",
       "run_number    137\n",
       "ls_count      132\n",
       "dtype: int64"
      ]
     },
     "execution_count": 18,
     "metadata": {},
     "output_type": "execute_result"
    }
   ],
   "source": [
    "runs[lscount_mask].nunique()"
   ]
  },
  {
   "cell_type": "code",
   "execution_count": 19,
   "id": "aec64d2a-9b27-4d8c-9417-f7d292849f2b",
   "metadata": {},
   "outputs": [],
   "source": [
    "run_numbers = runs[lscount_mask].run_number"
   ]
  },
  {
   "cell_type": "code",
   "execution_count": 23,
   "id": "8677fc1e-5283-44ad-922a-b8c7f4b95ebe",
   "metadata": {},
   "outputs": [
    {
     "data": {
      "text/plain": [
       "(379154, 387696)"
      ]
     },
     "execution_count": 23,
     "metadata": {},
     "output_type": "execute_result"
    }
   ],
   "source": [
    "run_numbers.iloc[0],run_numbers.iloc[-1]"
   ]
  },
  {
   "cell_type": "code",
   "execution_count": 11,
   "id": "fe79057e-7062-4437-a4aa-deeef7d79f40",
   "metadata": {
    "scrolled": true
   },
   "outputs": [
    {
     "data": {
      "application/vnd.jupyter.widget-view+json": {
       "model_id": "4d96e373a8054fb885f9d4f5c4700103",
       "version_major": 2,
       "version_minor": 0
      },
      "text/plain": [
       "Progress:   0%|          | 0/1 [00:00<?, ?it/s]"
      ]
     },
     "metadata": {},
     "output_type": "display_data"
    },
    {
     "data": {
      "text/html": [
       "<div>\n",
       "<style scoped>\n",
       "    .dataframe tbody tr th:only-of-type {\n",
       "        vertical-align: middle;\n",
       "    }\n",
       "\n",
       "    .dataframe tbody tr th {\n",
       "        vertical-align: top;\n",
       "    }\n",
       "\n",
       "    .dataframe thead th {\n",
       "        text-align: right;\n",
       "    }\n",
       "</style>\n",
       "<table border=\"1\" class=\"dataframe\">\n",
       "  <thead>\n",
       "    <tr style=\"text-align: right;\">\n",
       "      <th></th>\n",
       "      <th>dataset_id</th>\n",
       "      <th>dataset</th>\n",
       "      <th>file_id</th>\n",
       "      <th>file_size</th>\n",
       "      <th>creation_date</th>\n",
       "      <th>last_modification_date</th>\n",
       "      <th>logical_file_name</th>\n",
       "      <th>status</th>\n",
       "      <th>err_trace</th>\n",
       "    </tr>\n",
       "  </thead>\n",
       "  <tbody>\n",
       "    <tr>\n",
       "      <th>0</th>\n",
       "      <td>14927230</td>\n",
       "      <td>/ZeroBias/Run2024A-PromptReco-v1/DQMIO</td>\n",
       "      <td>13770979997</td>\n",
       "      <td>25105071</td>\n",
       "      <td>2024-03-21 10:52:28+00:00</td>\n",
       "      <td>2024-03-21 10:52:28+00:00</td>\n",
       "      <td>/store/data/Run2024A/ZeroBias/DQMIO/PromptReco...</td>\n",
       "      <td>FINISHED</td>\n",
       "      <td>None</td>\n",
       "    </tr>\n",
       "    <tr>\n",
       "      <th>1</th>\n",
       "      <td>14927230</td>\n",
       "      <td>/ZeroBias/Run2024A-PromptReco-v1/DQMIO</td>\n",
       "      <td>13822664277</td>\n",
       "      <td>136518352</td>\n",
       "      <td>2024-03-22 05:20:04+00:00</td>\n",
       "      <td>2024-03-22 05:20:04+00:00</td>\n",
       "      <td>/store/data/Run2024A/ZeroBias/DQMIO/PromptReco...</td>\n",
       "      <td>FINISHED</td>\n",
       "      <td>None</td>\n",
       "    </tr>\n",
       "    <tr>\n",
       "      <th>2</th>\n",
       "      <td>14927230</td>\n",
       "      <td>/ZeroBias/Run2024A-PromptReco-v1/DQMIO</td>\n",
       "      <td>13854945877</td>\n",
       "      <td>298774004</td>\n",
       "      <td>2024-03-23 21:05:31+00:00</td>\n",
       "      <td>2024-03-23 21:05:31+00:00</td>\n",
       "      <td>/store/data/Run2024A/ZeroBias/DQMIO/PromptReco...</td>\n",
       "      <td>FINISHED</td>\n",
       "      <td>None</td>\n",
       "    </tr>\n",
       "    <tr>\n",
       "      <th>3</th>\n",
       "      <td>14927230</td>\n",
       "      <td>/ZeroBias/Run2024A-PromptReco-v1/DQMIO</td>\n",
       "      <td>13854945917</td>\n",
       "      <td>142308376</td>\n",
       "      <td>2024-03-23 21:05:31+00:00</td>\n",
       "      <td>2024-03-23 21:05:31+00:00</td>\n",
       "      <td>/store/data/Run2024A/ZeroBias/DQMIO/PromptReco...</td>\n",
       "      <td>FINISHED</td>\n",
       "      <td>None</td>\n",
       "    </tr>\n",
       "    <tr>\n",
       "      <th>4</th>\n",
       "      <td>14927230</td>\n",
       "      <td>/ZeroBias/Run2024A-PromptReco-v1/DQMIO</td>\n",
       "      <td>13856188037</td>\n",
       "      <td>310099159</td>\n",
       "      <td>2024-03-24 17:01:02+00:00</td>\n",
       "      <td>2024-03-24 17:01:02+00:00</td>\n",
       "      <td>/store/data/Run2024A/ZeroBias/DQMIO/PromptReco...</td>\n",
       "      <td>FINISHED</td>\n",
       "      <td>None</td>\n",
       "    </tr>\n",
       "    <tr>\n",
       "      <th>...</th>\n",
       "      <td>...</td>\n",
       "      <td>...</td>\n",
       "      <td>...</td>\n",
       "      <td>...</td>\n",
       "      <td>...</td>\n",
       "      <td>...</td>\n",
       "      <td>...</td>\n",
       "      <td>...</td>\n",
       "      <td>...</td>\n",
       "    </tr>\n",
       "    <tr>\n",
       "      <th>6238</th>\n",
       "      <td>15139648</td>\n",
       "      <td>/ZeroBias/Run2024J-PromptReco-v1/DQMIO</td>\n",
       "      <td>18048826877</td>\n",
       "      <td>44108849</td>\n",
       "      <td>2024-11-06 04:43:09+00:00</td>\n",
       "      <td>2024-11-06 04:43:09+00:00</td>\n",
       "      <td>/store/data/Run2024J/ZeroBias/DQMIO/PromptReco...</td>\n",
       "      <td>FINISHED</td>\n",
       "      <td>None</td>\n",
       "    </tr>\n",
       "    <tr>\n",
       "      <th>6239</th>\n",
       "      <td>15139648</td>\n",
       "      <td>/ZeroBias/Run2024J-PromptReco-v1/DQMIO</td>\n",
       "      <td>18055027077</td>\n",
       "      <td>21461718</td>\n",
       "      <td>2024-11-06 12:27:39+00:00</td>\n",
       "      <td>2024-11-06 12:27:39+00:00</td>\n",
       "      <td>/store/data/Run2024J/ZeroBias/DQMIO/PromptReco...</td>\n",
       "      <td>FINISHED</td>\n",
       "      <td>None</td>\n",
       "    </tr>\n",
       "    <tr>\n",
       "      <th>6240</th>\n",
       "      <td>15139648</td>\n",
       "      <td>/ZeroBias/Run2024J-PromptReco-v1/DQMIO</td>\n",
       "      <td>18055027117</td>\n",
       "      <td>66443397</td>\n",
       "      <td>2024-11-06 12:27:39+00:00</td>\n",
       "      <td>2024-11-06 12:27:39+00:00</td>\n",
       "      <td>/store/data/Run2024J/ZeroBias/DQMIO/PromptReco...</td>\n",
       "      <td>FINISHED</td>\n",
       "      <td>None</td>\n",
       "    </tr>\n",
       "    <tr>\n",
       "      <th>6241</th>\n",
       "      <td>15139648</td>\n",
       "      <td>/ZeroBias/Run2024J-PromptReco-v1/DQMIO</td>\n",
       "      <td>18055027157</td>\n",
       "      <td>1261200398</td>\n",
       "      <td>2024-11-06 12:27:39+00:00</td>\n",
       "      <td>2024-11-06 12:27:39+00:00</td>\n",
       "      <td>/store/data/Run2024J/ZeroBias/DQMIO/PromptReco...</td>\n",
       "      <td>FINISHED</td>\n",
       "      <td>None</td>\n",
       "    </tr>\n",
       "    <tr>\n",
       "      <th>6242</th>\n",
       "      <td>15139648</td>\n",
       "      <td>/ZeroBias/Run2024J-PromptReco-v1/DQMIO</td>\n",
       "      <td>18055027197</td>\n",
       "      <td>285969262</td>\n",
       "      <td>2024-11-06 12:27:39+00:00</td>\n",
       "      <td>2024-11-06 12:27:39+00:00</td>\n",
       "      <td>/store/data/Run2024J/ZeroBias/DQMIO/PromptReco...</td>\n",
       "      <td>FINISHED</td>\n",
       "      <td>None</td>\n",
       "    </tr>\n",
       "  </tbody>\n",
       "</table>\n",
       "<p>6243 rows × 9 columns</p>\n",
       "</div>"
      ],
      "text/plain": [
       "      dataset_id                                 dataset      file_id  \\\n",
       "0       14927230  /ZeroBias/Run2024A-PromptReco-v1/DQMIO  13770979997   \n",
       "1       14927230  /ZeroBias/Run2024A-PromptReco-v1/DQMIO  13822664277   \n",
       "2       14927230  /ZeroBias/Run2024A-PromptReco-v1/DQMIO  13854945877   \n",
       "3       14927230  /ZeroBias/Run2024A-PromptReco-v1/DQMIO  13854945917   \n",
       "4       14927230  /ZeroBias/Run2024A-PromptReco-v1/DQMIO  13856188037   \n",
       "...          ...                                     ...          ...   \n",
       "6238    15139648  /ZeroBias/Run2024J-PromptReco-v1/DQMIO  18048826877   \n",
       "6239    15139648  /ZeroBias/Run2024J-PromptReco-v1/DQMIO  18055027077   \n",
       "6240    15139648  /ZeroBias/Run2024J-PromptReco-v1/DQMIO  18055027117   \n",
       "6241    15139648  /ZeroBias/Run2024J-PromptReco-v1/DQMIO  18055027157   \n",
       "6242    15139648  /ZeroBias/Run2024J-PromptReco-v1/DQMIO  18055027197   \n",
       "\n",
       "       file_size             creation_date    last_modification_date  \\\n",
       "0       25105071 2024-03-21 10:52:28+00:00 2024-03-21 10:52:28+00:00   \n",
       "1      136518352 2024-03-22 05:20:04+00:00 2024-03-22 05:20:04+00:00   \n",
       "2      298774004 2024-03-23 21:05:31+00:00 2024-03-23 21:05:31+00:00   \n",
       "3      142308376 2024-03-23 21:05:31+00:00 2024-03-23 21:05:31+00:00   \n",
       "4      310099159 2024-03-24 17:01:02+00:00 2024-03-24 17:01:02+00:00   \n",
       "...          ...                       ...                       ...   \n",
       "6238    44108849 2024-11-06 04:43:09+00:00 2024-11-06 04:43:09+00:00   \n",
       "6239    21461718 2024-11-06 12:27:39+00:00 2024-11-06 12:27:39+00:00   \n",
       "6240    66443397 2024-11-06 12:27:39+00:00 2024-11-06 12:27:39+00:00   \n",
       "6241  1261200398 2024-11-06 12:27:39+00:00 2024-11-06 12:27:39+00:00   \n",
       "6242   285969262 2024-11-06 12:27:39+00:00 2024-11-06 12:27:39+00:00   \n",
       "\n",
       "                                      logical_file_name    status err_trace  \n",
       "0     /store/data/Run2024A/ZeroBias/DQMIO/PromptReco...  FINISHED      None  \n",
       "1     /store/data/Run2024A/ZeroBias/DQMIO/PromptReco...  FINISHED      None  \n",
       "2     /store/data/Run2024A/ZeroBias/DQMIO/PromptReco...  FINISHED      None  \n",
       "3     /store/data/Run2024A/ZeroBias/DQMIO/PromptReco...  FINISHED      None  \n",
       "4     /store/data/Run2024A/ZeroBias/DQMIO/PromptReco...  FINISHED      None  \n",
       "...                                                 ...       ...       ...  \n",
       "6238  /store/data/Run2024J/ZeroBias/DQMIO/PromptReco...  FINISHED      None  \n",
       "6239  /store/data/Run2024J/ZeroBias/DQMIO/PromptReco...  FINISHED      None  \n",
       "6240  /store/data/Run2024J/ZeroBias/DQMIO/PromptReco...  FINISHED      None  \n",
       "6241  /store/data/Run2024J/ZeroBias/DQMIO/PromptReco...  FINISHED      None  \n",
       "6242  /store/data/Run2024J/ZeroBias/DQMIO/PromptReco...  FINISHED      None  \n",
       "\n",
       "[6243 rows x 9 columns]"
      ]
     },
     "execution_count": 11,
     "metadata": {},
     "output_type": "execute_result"
    }
   ],
   "source": [
    "files = dials.file_index.list_all(FileIndexFilters(**kwargs),enable_progress=True).to_pandas()\n",
    "\n",
    "files"
   ]
  },
  {
   "cell_type": "code",
   "execution_count": 13,
   "id": "0e10192a-140e-492f-aceb-44a4d303d835",
   "metadata": {},
   "outputs": [
    {
     "name": "stdout",
     "output_type": "stream",
     "text": [
      "<class 'pandas.core.frame.DataFrame'>\n",
      "RangeIndex: 6243 entries, 0 to 6242\n",
      "Data columns (total 9 columns):\n",
      " #   Column                  Non-Null Count  Dtype              \n",
      "---  ------                  --------------  -----              \n",
      " 0   dataset_id              6243 non-null   int64              \n",
      " 1   dataset                 6243 non-null   object             \n",
      " 2   file_id                 6243 non-null   int64              \n",
      " 3   file_size               6243 non-null   int64              \n",
      " 4   creation_date           6243 non-null   datetime64[ns, UTC]\n",
      " 5   last_modification_date  6243 non-null   datetime64[ns, UTC]\n",
      " 6   logical_file_name       6243 non-null   object             \n",
      " 7   status                  6243 non-null   object             \n",
      " 8   err_trace               0 non-null      object             \n",
      "dtypes: datetime64[ns, UTC](2), int64(3), object(4)\n",
      "memory usage: 439.1+ KB\n"
     ]
    }
   ],
   "source": [
    "files.info()"
   ]
  },
  {
   "cell_type": "code",
   "execution_count": 14,
   "id": "68f6aa29-b1bf-4b72-aa12-adcfb7468c34",
   "metadata": {},
   "outputs": [],
   "source": [
    "files.to_csv(\"all2024.csv\",index=False)"
   ]
  },
  {
   "cell_type": "code",
   "execution_count": 3,
   "id": "33905f15-b00c-48fe-b519-9522f3f1e156",
   "metadata": {},
   "outputs": [
    {
     "name": "stdout",
     "output_type": "stream",
     "text": [
      "total 2.7M\n",
      "drwxr-xr-x. 2 gfidalgo 1399 4.0K May  9 11:44 parquet_files500\n",
      "-rw-r--r--. 1 gfidalgo 1399 854K May 26 05:00 all2024files.csv\n",
      "-rw-r--r--. 1 gfidalgo 1399 398K May 26 19:34 long_runs.csv\n",
      "drwxr-xr-x. 2 gfidalgo 1399 4.0K May 26 19:34 .\n",
      "-rw-r--r--. 1 gfidalgo 1399 1.5M Jun  4 17:17 all2024.csv\n",
      "drwxr-xr-x. 2 gfidalgo 1399 4.0K Jun  4 17:28 root_files\n",
      "drwxr-xr-x. 2 gfidalgo 1399 4.0K Jun  4 17:47 ..\n"
     ]
    }
   ],
   "source": [
    "! ls -alhtr ../files"
   ]
  },
  {
   "cell_type": "markdown",
   "id": "ed71e64f-ac1c-4335-83ad-3b048975218a",
   "metadata": {},
   "source": [
    "# Getting all the files first"
   ]
  },
  {
   "cell_type": "code",
   "execution_count": 9,
   "id": "f855bfda-35f7-4791-be20-15c3c68b22c0",
   "metadata": {},
   "outputs": [
    {
     "data": {
      "text/plain": [
       "0       /store/data/Run2024A/ZeroBias/DQMIO/PromptReco...\n",
       "1       /store/data/Run2024A/ZeroBias/DQMIO/PromptReco...\n",
       "2       /store/data/Run2024A/ZeroBias/DQMIO/PromptReco...\n",
       "3       /store/data/Run2024A/ZeroBias/DQMIO/PromptReco...\n",
       "4       /store/data/Run2024A/ZeroBias/DQMIO/PromptReco...\n",
       "                              ...                        \n",
       "6238    /store/data/Run2024J/ZeroBias/DQMIO/PromptReco...\n",
       "6239    /store/data/Run2024J/ZeroBias/DQMIO/PromptReco...\n",
       "6240    /store/data/Run2024J/ZeroBias/DQMIO/PromptReco...\n",
       "6241    /store/data/Run2024J/ZeroBias/DQMIO/PromptReco...\n",
       "6242    /store/data/Run2024J/ZeroBias/DQMIO/PromptReco...\n",
       "Name: logical_file_name, Length: 6243, dtype: object"
      ]
     },
     "execution_count": 9,
     "metadata": {},
     "output_type": "execute_result"
    }
   ],
   "source": [
    "all_files = files.logical_file_name\n",
    "all_files"
   ]
  },
  {
   "cell_type": "code",
   "execution_count": null,
   "id": "a2090e25-25a3-420e-98d7-9d3a957c7b19",
   "metadata": {},
   "outputs": [],
   "source": [
    "redir = \"root://eoscms.cern.ch//eos/cms\"\n",
    "\n",
    "all_files.apply(lambda x: redir+x).to_csv(\"all2024files.csv\",index=False)"
   ]
  },
  {
   "cell_type": "markdown",
   "id": "af6cbc8a-6058-4e68-ae20-b2365cbbf4a2",
   "metadata": {},
   "source": [
    "# Now getting the list of files for a long run"
   ]
  },
  {
   "cell_type": "code",
   "execution_count": 36,
   "id": "88a7d955-4868-4e52-9cc0-0aa0d233efc0",
   "metadata": {
    "scrolled": true
   },
   "outputs": [
    {
     "data": {
      "application/vnd.jupyter.widget-view+json": {
       "model_id": "d17c4ae794c84183b4419038444db2ad",
       "version_major": 2,
       "version_minor": 0
      },
      "text/plain": [
       "Progress:   0%|          | 0/1 [00:00<?, ?it/s]"
      ]
     },
     "metadata": {},
     "output_type": "display_data"
    },
    {
     "data": {
      "text/html": [
       "<div>\n",
       "<style scoped>\n",
       "    .dataframe tbody tr th:only-of-type {\n",
       "        vertical-align: middle;\n",
       "    }\n",
       "\n",
       "    .dataframe tbody tr th {\n",
       "        vertical-align: top;\n",
       "    }\n",
       "\n",
       "    .dataframe thead th {\n",
       "        text-align: right;\n",
       "    }\n",
       "</style>\n",
       "<table border=\"1\" class=\"dataframe\">\n",
       "  <thead>\n",
       "    <tr style=\"text-align: right;\">\n",
       "      <th></th>\n",
       "      <th>dataset</th>\n",
       "      <th>me</th>\n",
       "      <th>dataset_id</th>\n",
       "      <th>file_id</th>\n",
       "      <th>run_number</th>\n",
       "      <th>ls_number</th>\n",
       "      <th>me_id</th>\n",
       "      <th>x_min</th>\n",
       "      <th>x_max</th>\n",
       "      <th>x_bin</th>\n",
       "      <th>y_min</th>\n",
       "      <th>y_max</th>\n",
       "      <th>y_bin</th>\n",
       "      <th>entries</th>\n",
       "      <th>data</th>\n",
       "    </tr>\n",
       "  </thead>\n",
       "  <tbody>\n",
       "    <tr>\n",
       "      <th>0</th>\n",
       "      <td>/ZeroBias/Run2024B-PromptReco-v1/DQMIO</td>\n",
       "      <td>Hcal/DigiTask/OccupancyCut/depth/depth1</td>\n",
       "      <td>14944573</td>\n",
       "      <td>14097406797</td>\n",
       "      <td>379154</td>\n",
       "      <td>1</td>\n",
       "      <td>102</td>\n",
       "      <td>0.0</td>\n",
       "      <td>84.0</td>\n",
       "      <td>84.0</td>\n",
       "      <td>0.5</td>\n",
       "      <td>72.5</td>\n",
       "      <td>72.0</td>\n",
       "      <td>1531215</td>\n",
       "      <td>[[0.0, 0.0, 609.0, 603.0, 592.0, 664.0, 560.0,...</td>\n",
       "    </tr>\n",
       "    <tr>\n",
       "      <th>1</th>\n",
       "      <td>/ZeroBias/Run2024B-PromptReco-v1/DQMIO</td>\n",
       "      <td>Hcal/DigiTask/OccupancyCut/depth/depth2</td>\n",
       "      <td>14944573</td>\n",
       "      <td>14097406797</td>\n",
       "      <td>379154</td>\n",
       "      <td>1</td>\n",
       "      <td>103</td>\n",
       "      <td>0.0</td>\n",
       "      <td>84.0</td>\n",
       "      <td>84.0</td>\n",
       "      <td>0.5</td>\n",
       "      <td>72.5</td>\n",
       "      <td>72.0</td>\n",
       "      <td>1303508</td>\n",
       "      <td>[[0.0, 0.0, 461.0, 459.0, 400.0, 357.0, 416.0,...</td>\n",
       "    </tr>\n",
       "    <tr>\n",
       "      <th>2</th>\n",
       "      <td>/ZeroBias/Run2024B-PromptReco-v1/DQMIO</td>\n",
       "      <td>Hcal/DigiTask/OccupancyCut/depth/depth3</td>\n",
       "      <td>14944573</td>\n",
       "      <td>14097406797</td>\n",
       "      <td>379154</td>\n",
       "      <td>1</td>\n",
       "      <td>104</td>\n",
       "      <td>0.0</td>\n",
       "      <td>84.0</td>\n",
       "      <td>84.0</td>\n",
       "      <td>0.5</td>\n",
       "      <td>72.5</td>\n",
       "      <td>72.0</td>\n",
       "      <td>1224289</td>\n",
       "      <td>[[0.0, 0.0, 736.0, 594.0, 661.0, 622.0, 668.0,...</td>\n",
       "    </tr>\n",
       "    <tr>\n",
       "      <th>3</th>\n",
       "      <td>/ZeroBias/Run2024B-PromptReco-v1/DQMIO</td>\n",
       "      <td>Hcal/DigiTask/OccupancyCut/depth/depth4</td>\n",
       "      <td>14944573</td>\n",
       "      <td>14097406797</td>\n",
       "      <td>379154</td>\n",
       "      <td>1</td>\n",
       "      <td>105</td>\n",
       "      <td>0.0</td>\n",
       "      <td>84.0</td>\n",
       "      <td>84.0</td>\n",
       "      <td>0.5</td>\n",
       "      <td>72.5</td>\n",
       "      <td>72.0</td>\n",
       "      <td>905500</td>\n",
       "      <td>[[0.0, 0.0, 468.0, 514.0, 383.0, 380.0, 367.0,...</td>\n",
       "    </tr>\n",
       "    <tr>\n",
       "      <th>4</th>\n",
       "      <td>/ZeroBias/Run2024B-PromptReco-v1/DQMIO</td>\n",
       "      <td>Hcal/DigiTask/OccupancyCut/depth/depth5</td>\n",
       "      <td>14944573</td>\n",
       "      <td>14097406797</td>\n",
       "      <td>379154</td>\n",
       "      <td>1</td>\n",
       "      <td>106</td>\n",
       "      <td>0.0</td>\n",
       "      <td>84.0</td>\n",
       "      <td>84.0</td>\n",
       "      <td>0.5</td>\n",
       "      <td>72.5</td>\n",
       "      <td>72.0</td>\n",
       "      <td>226950</td>\n",
       "      <td>[[0.0, 0.0, 0.0, 0.0, 0.0, 0.0, 0.0, 0.0, 0.0,...</td>\n",
       "    </tr>\n",
       "    <tr>\n",
       "      <th>...</th>\n",
       "      <td>...</td>\n",
       "      <td>...</td>\n",
       "      <td>...</td>\n",
       "      <td>...</td>\n",
       "      <td>...</td>\n",
       "      <td>...</td>\n",
       "      <td>...</td>\n",
       "      <td>...</td>\n",
       "      <td>...</td>\n",
       "      <td>...</td>\n",
       "      <td>...</td>\n",
       "      <td>...</td>\n",
       "      <td>...</td>\n",
       "      <td>...</td>\n",
       "      <td>...</td>\n",
       "    </tr>\n",
       "    <tr>\n",
       "      <th>8595</th>\n",
       "      <td>/ZeroBias/Run2024B-PromptReco-v1/DQMIO</td>\n",
       "      <td>Hcal/DigiTask/OccupancyCut/depth/depth4</td>\n",
       "      <td>14944573</td>\n",
       "      <td>14097406797</td>\n",
       "      <td>379154</td>\n",
       "      <td>1076</td>\n",
       "      <td>105</td>\n",
       "      <td>0.0</td>\n",
       "      <td>84.0</td>\n",
       "      <td>84.0</td>\n",
       "      <td>0.5</td>\n",
       "      <td>72.5</td>\n",
       "      <td>72.0</td>\n",
       "      <td>78653</td>\n",
       "      <td>[[0.0, 0.0, 0.0, 0.0, 0.0, 0.0, 1.0, 0.0, 0.0,...</td>\n",
       "    </tr>\n",
       "    <tr>\n",
       "      <th>8596</th>\n",
       "      <td>/ZeroBias/Run2024B-PromptReco-v1/DQMIO</td>\n",
       "      <td>Hcal/DigiTask/OccupancyCut/depth/depth5</td>\n",
       "      <td>14944573</td>\n",
       "      <td>14097406797</td>\n",
       "      <td>379154</td>\n",
       "      <td>1076</td>\n",
       "      <td>106</td>\n",
       "      <td>0.0</td>\n",
       "      <td>84.0</td>\n",
       "      <td>84.0</td>\n",
       "      <td>0.5</td>\n",
       "      <td>72.5</td>\n",
       "      <td>72.0</td>\n",
       "      <td>19934</td>\n",
       "      <td>[[0.0, 0.0, 0.0, 0.0, 0.0, 0.0, 0.0, 0.0, 0.0,...</td>\n",
       "    </tr>\n",
       "    <tr>\n",
       "      <th>8597</th>\n",
       "      <td>/ZeroBias/Run2024B-PromptReco-v1/DQMIO</td>\n",
       "      <td>Hcal/DigiTask/OccupancyCut/depth/depth6</td>\n",
       "      <td>14944573</td>\n",
       "      <td>14097406797</td>\n",
       "      <td>379154</td>\n",
       "      <td>1076</td>\n",
       "      <td>107</td>\n",
       "      <td>0.0</td>\n",
       "      <td>84.0</td>\n",
       "      <td>84.0</td>\n",
       "      <td>0.5</td>\n",
       "      <td>72.5</td>\n",
       "      <td>72.0</td>\n",
       "      <td>17797</td>\n",
       "      <td>[[0.0, 0.0, 0.0, 0.0, 0.0, 0.0, 0.0, 0.0, 0.0,...</td>\n",
       "    </tr>\n",
       "    <tr>\n",
       "      <th>8598</th>\n",
       "      <td>/ZeroBias/Run2024B-PromptReco-v1/DQMIO</td>\n",
       "      <td>Hcal/DigiTask/OccupancyCut/depth/depth7</td>\n",
       "      <td>14944573</td>\n",
       "      <td>14097406797</td>\n",
       "      <td>379154</td>\n",
       "      <td>1076</td>\n",
       "      <td>108</td>\n",
       "      <td>0.0</td>\n",
       "      <td>84.0</td>\n",
       "      <td>84.0</td>\n",
       "      <td>0.5</td>\n",
       "      <td>72.5</td>\n",
       "      <td>72.0</td>\n",
       "      <td>4391</td>\n",
       "      <td>[[0.0, 0.0, 0.0, 0.0, 0.0, 0.0, 0.0, 0.0, 0.0,...</td>\n",
       "    </tr>\n",
       "    <tr>\n",
       "      <th>8599</th>\n",
       "      <td>/ZeroBias/Run2024B-PromptReco-v1/DQMIO</td>\n",
       "      <td>Hcal/DigiTask/OccupancyCut/depth/depthHO</td>\n",
       "      <td>14944573</td>\n",
       "      <td>14097406797</td>\n",
       "      <td>379154</td>\n",
       "      <td>1076</td>\n",
       "      <td>109</td>\n",
       "      <td>0.0</td>\n",
       "      <td>84.0</td>\n",
       "      <td>84.0</td>\n",
       "      <td>0.5</td>\n",
       "      <td>72.5</td>\n",
       "      <td>72.0</td>\n",
       "      <td>50428</td>\n",
       "      <td>[[0.0, 0.0, 0.0, 0.0, 0.0, 0.0, 0.0, 0.0, 0.0,...</td>\n",
       "    </tr>\n",
       "  </tbody>\n",
       "</table>\n",
       "<p>8600 rows × 15 columns</p>\n",
       "</div>"
      ],
      "text/plain": [
       "                                     dataset  \\\n",
       "0     /ZeroBias/Run2024B-PromptReco-v1/DQMIO   \n",
       "1     /ZeroBias/Run2024B-PromptReco-v1/DQMIO   \n",
       "2     /ZeroBias/Run2024B-PromptReco-v1/DQMIO   \n",
       "3     /ZeroBias/Run2024B-PromptReco-v1/DQMIO   \n",
       "4     /ZeroBias/Run2024B-PromptReco-v1/DQMIO   \n",
       "...                                      ...   \n",
       "8595  /ZeroBias/Run2024B-PromptReco-v1/DQMIO   \n",
       "8596  /ZeroBias/Run2024B-PromptReco-v1/DQMIO   \n",
       "8597  /ZeroBias/Run2024B-PromptReco-v1/DQMIO   \n",
       "8598  /ZeroBias/Run2024B-PromptReco-v1/DQMIO   \n",
       "8599  /ZeroBias/Run2024B-PromptReco-v1/DQMIO   \n",
       "\n",
       "                                            me  dataset_id      file_id  \\\n",
       "0      Hcal/DigiTask/OccupancyCut/depth/depth1    14944573  14097406797   \n",
       "1      Hcal/DigiTask/OccupancyCut/depth/depth2    14944573  14097406797   \n",
       "2      Hcal/DigiTask/OccupancyCut/depth/depth3    14944573  14097406797   \n",
       "3      Hcal/DigiTask/OccupancyCut/depth/depth4    14944573  14097406797   \n",
       "4      Hcal/DigiTask/OccupancyCut/depth/depth5    14944573  14097406797   \n",
       "...                                        ...         ...          ...   \n",
       "8595   Hcal/DigiTask/OccupancyCut/depth/depth4    14944573  14097406797   \n",
       "8596   Hcal/DigiTask/OccupancyCut/depth/depth5    14944573  14097406797   \n",
       "8597   Hcal/DigiTask/OccupancyCut/depth/depth6    14944573  14097406797   \n",
       "8598   Hcal/DigiTask/OccupancyCut/depth/depth7    14944573  14097406797   \n",
       "8599  Hcal/DigiTask/OccupancyCut/depth/depthHO    14944573  14097406797   \n",
       "\n",
       "      run_number  ls_number  me_id  x_min  x_max  x_bin  y_min  y_max  y_bin  \\\n",
       "0         379154          1    102    0.0   84.0   84.0    0.5   72.5   72.0   \n",
       "1         379154          1    103    0.0   84.0   84.0    0.5   72.5   72.0   \n",
       "2         379154          1    104    0.0   84.0   84.0    0.5   72.5   72.0   \n",
       "3         379154          1    105    0.0   84.0   84.0    0.5   72.5   72.0   \n",
       "4         379154          1    106    0.0   84.0   84.0    0.5   72.5   72.0   \n",
       "...          ...        ...    ...    ...    ...    ...    ...    ...    ...   \n",
       "8595      379154       1076    105    0.0   84.0   84.0    0.5   72.5   72.0   \n",
       "8596      379154       1076    106    0.0   84.0   84.0    0.5   72.5   72.0   \n",
       "8597      379154       1076    107    0.0   84.0   84.0    0.5   72.5   72.0   \n",
       "8598      379154       1076    108    0.0   84.0   84.0    0.5   72.5   72.0   \n",
       "8599      379154       1076    109    0.0   84.0   84.0    0.5   72.5   72.0   \n",
       "\n",
       "      entries                                               data  \n",
       "0     1531215  [[0.0, 0.0, 609.0, 603.0, 592.0, 664.0, 560.0,...  \n",
       "1     1303508  [[0.0, 0.0, 461.0, 459.0, 400.0, 357.0, 416.0,...  \n",
       "2     1224289  [[0.0, 0.0, 736.0, 594.0, 661.0, 622.0, 668.0,...  \n",
       "3      905500  [[0.0, 0.0, 468.0, 514.0, 383.0, 380.0, 367.0,...  \n",
       "4      226950  [[0.0, 0.0, 0.0, 0.0, 0.0, 0.0, 0.0, 0.0, 0.0,...  \n",
       "...       ...                                                ...  \n",
       "8595    78653  [[0.0, 0.0, 0.0, 0.0, 0.0, 0.0, 1.0, 0.0, 0.0,...  \n",
       "8596    19934  [[0.0, 0.0, 0.0, 0.0, 0.0, 0.0, 0.0, 0.0, 0.0,...  \n",
       "8597    17797  [[0.0, 0.0, 0.0, 0.0, 0.0, 0.0, 0.0, 0.0, 0.0,...  \n",
       "8598     4391  [[0.0, 0.0, 0.0, 0.0, 0.0, 0.0, 0.0, 0.0, 0.0,...  \n",
       "8599    50428  [[0.0, 0.0, 0.0, 0.0, 0.0, 0.0, 0.0, 0.0, 0.0,...  \n",
       "\n",
       "[8600 rows x 15 columns]"
      ]
     },
     "execution_count": 36,
     "metadata": {},
     "output_type": "execute_result"
    }
   ],
   "source": [
    "h2d_df = dials.h2d.list_all(LumisectionHistogram2DFilters(**kwargs,run_number=run_numbers.iloc[0],me__regex=\"Hcal/DigiTask/OccupancyCut/*\"),\n",
    "                            enable_progress=True).to_pandas()\n",
    "# h2d_df = dials.h2d.list(LumisectionHistogram2DFilters(**kwargs,run_number=run_numbers.iloc[0],me__regex=\"Hcal/DigiTask/OccupancyCut/*\"),\n",
    "#                        ).to_pandas()\n",
    "h2d_df"
   ]
  },
  {
   "cell_type": "markdown",
   "id": "6b56b6d1-1215-4ed2-a633-a0cc7ff0120a",
   "metadata": {
    "editable": true,
    "slideshow": {
     "slide_type": ""
    },
    "tags": []
   },
   "source": [
    "# Putting it all together."
   ]
  },
  {
   "cell_type": "markdown",
   "id": "5c9dc260-0bcf-4b9f-84da-b58068edb797",
   "metadata": {},
   "source": [
    " We can use the info given by the h2d endpoint to give us the file.\n",
    " The run endpoint will give us the run numbers"
   ]
  },
  {
   "cell_type": "code",
   "execution_count": 40,
   "id": "372ccbcf-1470-40cc-bd01-4e6f5e248d59",
   "metadata": {
    "scrolled": true
   },
   "outputs": [
    {
     "data": {
      "text/html": [
       "<div>\n",
       "<style scoped>\n",
       "    .dataframe tbody tr th:only-of-type {\n",
       "        vertical-align: middle;\n",
       "    }\n",
       "\n",
       "    .dataframe tbody tr th {\n",
       "        vertical-align: top;\n",
       "    }\n",
       "\n",
       "    .dataframe thead th {\n",
       "        text-align: right;\n",
       "    }\n",
       "</style>\n",
       "<table border=\"1\" class=\"dataframe\">\n",
       "  <thead>\n",
       "    <tr style=\"text-align: right;\">\n",
       "      <th></th>\n",
       "      <th>dataset_id</th>\n",
       "      <th>dataset</th>\n",
       "      <th>run_number</th>\n",
       "      <th>ls_count</th>\n",
       "    </tr>\n",
       "  </thead>\n",
       "  <tbody>\n",
       "    <tr>\n",
       "      <th>89</th>\n",
       "      <td>14944573</td>\n",
       "      <td>/ZeroBias/Run2024B-PromptReco-v1/DQMIO</td>\n",
       "      <td>379154</td>\n",
       "      <td>1075</td>\n",
       "    </tr>\n",
       "    <tr>\n",
       "      <th>135</th>\n",
       "      <td>14949731</td>\n",
       "      <td>/ZeroBias/Run2024C-PromptReco-v1/DQMIO</td>\n",
       "      <td>379456</td>\n",
       "      <td>1208</td>\n",
       "    </tr>\n",
       "    <tr>\n",
       "      <th>158</th>\n",
       "      <td>14949731</td>\n",
       "      <td>/ZeroBias/Run2024C-PromptReco-v1/DQMIO</td>\n",
       "      <td>379660</td>\n",
       "      <td>1563</td>\n",
       "    </tr>\n",
       "    <tr>\n",
       "      <th>160</th>\n",
       "      <td>14949731</td>\n",
       "      <td>/ZeroBias/Run2024C-PromptReco-v1/DQMIO</td>\n",
       "      <td>379729</td>\n",
       "      <td>1534</td>\n",
       "    </tr>\n",
       "    <tr>\n",
       "      <th>161</th>\n",
       "      <td>14949731</td>\n",
       "      <td>/ZeroBias/Run2024C-PromptReco-v1/DQMIO</td>\n",
       "      <td>379765</td>\n",
       "      <td>1728</td>\n",
       "    </tr>\n",
       "    <tr>\n",
       "      <th>...</th>\n",
       "      <td>...</td>\n",
       "      <td>...</td>\n",
       "      <td>...</td>\n",
       "      <td>...</td>\n",
       "    </tr>\n",
       "    <tr>\n",
       "      <th>3426</th>\n",
       "      <td>15099576</td>\n",
       "      <td>/ZeroBias/Run2024I-PromptReco-v2/DQMIO</td>\n",
       "      <td>386924</td>\n",
       "      <td>1818</td>\n",
       "    </tr>\n",
       "    <tr>\n",
       "      <th>3596</th>\n",
       "      <td>15139648</td>\n",
       "      <td>/ZeroBias/Run2024J-PromptReco-v1/DQMIO</td>\n",
       "      <td>387574</td>\n",
       "      <td>1084</td>\n",
       "    </tr>\n",
       "    <tr>\n",
       "      <th>3615</th>\n",
       "      <td>15139648</td>\n",
       "      <td>/ZeroBias/Run2024J-PromptReco-v1/DQMIO</td>\n",
       "      <td>387607</td>\n",
       "      <td>2509</td>\n",
       "    </tr>\n",
       "    <tr>\n",
       "      <th>3623</th>\n",
       "      <td>15139648</td>\n",
       "      <td>/ZeroBias/Run2024J-PromptReco-v1/DQMIO</td>\n",
       "      <td>387640</td>\n",
       "      <td>2596</td>\n",
       "    </tr>\n",
       "    <tr>\n",
       "      <th>3649</th>\n",
       "      <td>15139648</td>\n",
       "      <td>/ZeroBias/Run2024J-PromptReco-v1/DQMIO</td>\n",
       "      <td>387696</td>\n",
       "      <td>2737</td>\n",
       "    </tr>\n",
       "  </tbody>\n",
       "</table>\n",
       "<p>137 rows × 4 columns</p>\n",
       "</div>"
      ],
      "text/plain": [
       "      dataset_id                                 dataset  run_number  ls_count\n",
       "89      14944573  /ZeroBias/Run2024B-PromptReco-v1/DQMIO      379154      1075\n",
       "135     14949731  /ZeroBias/Run2024C-PromptReco-v1/DQMIO      379456      1208\n",
       "158     14949731  /ZeroBias/Run2024C-PromptReco-v1/DQMIO      379660      1563\n",
       "160     14949731  /ZeroBias/Run2024C-PromptReco-v1/DQMIO      379729      1534\n",
       "161     14949731  /ZeroBias/Run2024C-PromptReco-v1/DQMIO      379765      1728\n",
       "...          ...                                     ...         ...       ...\n",
       "3426    15099576  /ZeroBias/Run2024I-PromptReco-v2/DQMIO      386924      1818\n",
       "3596    15139648  /ZeroBias/Run2024J-PromptReco-v1/DQMIO      387574      1084\n",
       "3615    15139648  /ZeroBias/Run2024J-PromptReco-v1/DQMIO      387607      2509\n",
       "3623    15139648  /ZeroBias/Run2024J-PromptReco-v1/DQMIO      387640      2596\n",
       "3649    15139648  /ZeroBias/Run2024J-PromptReco-v1/DQMIO      387696      2737\n",
       "\n",
       "[137 rows x 4 columns]"
      ]
     },
     "execution_count": 40,
     "metadata": {},
     "output_type": "execute_result"
    }
   ],
   "source": [
    "runs[lscount_mask]"
   ]
  },
  {
   "cell_type": "code",
   "execution_count": 41,
   "id": "e474278d-bf19-4ad6-84f2-63ed092397d8",
   "metadata": {
    "scrolled": true
   },
   "outputs": [
    {
     "data": {
      "text/html": [
       "<div>\n",
       "<style scoped>\n",
       "    .dataframe tbody tr th:only-of-type {\n",
       "        vertical-align: middle;\n",
       "    }\n",
       "\n",
       "    .dataframe tbody tr th {\n",
       "        vertical-align: top;\n",
       "    }\n",
       "\n",
       "    .dataframe thead th {\n",
       "        text-align: right;\n",
       "    }\n",
       "</style>\n",
       "<table border=\"1\" class=\"dataframe\">\n",
       "  <thead>\n",
       "    <tr style=\"text-align: right;\">\n",
       "      <th></th>\n",
       "      <th>dataset_id</th>\n",
       "      <th>dataset</th>\n",
       "      <th>file_id</th>\n",
       "      <th>file_size</th>\n",
       "      <th>creation_date</th>\n",
       "      <th>last_modification_date</th>\n",
       "      <th>logical_file_name</th>\n",
       "      <th>status</th>\n",
       "      <th>err_trace</th>\n",
       "    </tr>\n",
       "  </thead>\n",
       "  <tbody>\n",
       "    <tr>\n",
       "      <th>0</th>\n",
       "      <td>14927230</td>\n",
       "      <td>/ZeroBias/Run2024A-PromptReco-v1/DQMIO</td>\n",
       "      <td>13770979997</td>\n",
       "      <td>25105071</td>\n",
       "      <td>2024-03-21 10:52:28+00:00</td>\n",
       "      <td>2024-03-21 10:52:28+00:00</td>\n",
       "      <td>/store/data/Run2024A/ZeroBias/DQMIO/PromptReco...</td>\n",
       "      <td>FINISHED</td>\n",
       "      <td>None</td>\n",
       "    </tr>\n",
       "    <tr>\n",
       "      <th>1</th>\n",
       "      <td>14927230</td>\n",
       "      <td>/ZeroBias/Run2024A-PromptReco-v1/DQMIO</td>\n",
       "      <td>13822664277</td>\n",
       "      <td>136518352</td>\n",
       "      <td>2024-03-22 05:20:04+00:00</td>\n",
       "      <td>2024-03-22 05:20:04+00:00</td>\n",
       "      <td>/store/data/Run2024A/ZeroBias/DQMIO/PromptReco...</td>\n",
       "      <td>FINISHED</td>\n",
       "      <td>None</td>\n",
       "    </tr>\n",
       "    <tr>\n",
       "      <th>2</th>\n",
       "      <td>14927230</td>\n",
       "      <td>/ZeroBias/Run2024A-PromptReco-v1/DQMIO</td>\n",
       "      <td>13854945877</td>\n",
       "      <td>298774004</td>\n",
       "      <td>2024-03-23 21:05:31+00:00</td>\n",
       "      <td>2024-03-23 21:05:31+00:00</td>\n",
       "      <td>/store/data/Run2024A/ZeroBias/DQMIO/PromptReco...</td>\n",
       "      <td>FINISHED</td>\n",
       "      <td>None</td>\n",
       "    </tr>\n",
       "    <tr>\n",
       "      <th>3</th>\n",
       "      <td>14927230</td>\n",
       "      <td>/ZeroBias/Run2024A-PromptReco-v1/DQMIO</td>\n",
       "      <td>13854945917</td>\n",
       "      <td>142308376</td>\n",
       "      <td>2024-03-23 21:05:31+00:00</td>\n",
       "      <td>2024-03-23 21:05:31+00:00</td>\n",
       "      <td>/store/data/Run2024A/ZeroBias/DQMIO/PromptReco...</td>\n",
       "      <td>FINISHED</td>\n",
       "      <td>None</td>\n",
       "    </tr>\n",
       "    <tr>\n",
       "      <th>4</th>\n",
       "      <td>14927230</td>\n",
       "      <td>/ZeroBias/Run2024A-PromptReco-v1/DQMIO</td>\n",
       "      <td>13856188037</td>\n",
       "      <td>310099159</td>\n",
       "      <td>2024-03-24 17:01:02+00:00</td>\n",
       "      <td>2024-03-24 17:01:02+00:00</td>\n",
       "      <td>/store/data/Run2024A/ZeroBias/DQMIO/PromptReco...</td>\n",
       "      <td>FINISHED</td>\n",
       "      <td>None</td>\n",
       "    </tr>\n",
       "    <tr>\n",
       "      <th>...</th>\n",
       "      <td>...</td>\n",
       "      <td>...</td>\n",
       "      <td>...</td>\n",
       "      <td>...</td>\n",
       "      <td>...</td>\n",
       "      <td>...</td>\n",
       "      <td>...</td>\n",
       "      <td>...</td>\n",
       "      <td>...</td>\n",
       "    </tr>\n",
       "    <tr>\n",
       "      <th>6238</th>\n",
       "      <td>15139648</td>\n",
       "      <td>/ZeroBias/Run2024J-PromptReco-v1/DQMIO</td>\n",
       "      <td>18048826877</td>\n",
       "      <td>44108849</td>\n",
       "      <td>2024-11-06 04:43:09+00:00</td>\n",
       "      <td>2024-11-06 04:43:09+00:00</td>\n",
       "      <td>/store/data/Run2024J/ZeroBias/DQMIO/PromptReco...</td>\n",
       "      <td>FINISHED</td>\n",
       "      <td>None</td>\n",
       "    </tr>\n",
       "    <tr>\n",
       "      <th>6239</th>\n",
       "      <td>15139648</td>\n",
       "      <td>/ZeroBias/Run2024J-PromptReco-v1/DQMIO</td>\n",
       "      <td>18055027077</td>\n",
       "      <td>21461718</td>\n",
       "      <td>2024-11-06 12:27:39+00:00</td>\n",
       "      <td>2024-11-06 12:27:39+00:00</td>\n",
       "      <td>/store/data/Run2024J/ZeroBias/DQMIO/PromptReco...</td>\n",
       "      <td>FINISHED</td>\n",
       "      <td>None</td>\n",
       "    </tr>\n",
       "    <tr>\n",
       "      <th>6240</th>\n",
       "      <td>15139648</td>\n",
       "      <td>/ZeroBias/Run2024J-PromptReco-v1/DQMIO</td>\n",
       "      <td>18055027117</td>\n",
       "      <td>66443397</td>\n",
       "      <td>2024-11-06 12:27:39+00:00</td>\n",
       "      <td>2024-11-06 12:27:39+00:00</td>\n",
       "      <td>/store/data/Run2024J/ZeroBias/DQMIO/PromptReco...</td>\n",
       "      <td>FINISHED</td>\n",
       "      <td>None</td>\n",
       "    </tr>\n",
       "    <tr>\n",
       "      <th>6241</th>\n",
       "      <td>15139648</td>\n",
       "      <td>/ZeroBias/Run2024J-PromptReco-v1/DQMIO</td>\n",
       "      <td>18055027157</td>\n",
       "      <td>1261200398</td>\n",
       "      <td>2024-11-06 12:27:39+00:00</td>\n",
       "      <td>2024-11-06 12:27:39+00:00</td>\n",
       "      <td>/store/data/Run2024J/ZeroBias/DQMIO/PromptReco...</td>\n",
       "      <td>FINISHED</td>\n",
       "      <td>None</td>\n",
       "    </tr>\n",
       "    <tr>\n",
       "      <th>6242</th>\n",
       "      <td>15139648</td>\n",
       "      <td>/ZeroBias/Run2024J-PromptReco-v1/DQMIO</td>\n",
       "      <td>18055027197</td>\n",
       "      <td>285969262</td>\n",
       "      <td>2024-11-06 12:27:39+00:00</td>\n",
       "      <td>2024-11-06 12:27:39+00:00</td>\n",
       "      <td>/store/data/Run2024J/ZeroBias/DQMIO/PromptReco...</td>\n",
       "      <td>FINISHED</td>\n",
       "      <td>None</td>\n",
       "    </tr>\n",
       "  </tbody>\n",
       "</table>\n",
       "<p>6243 rows × 9 columns</p>\n",
       "</div>"
      ],
      "text/plain": [
       "      dataset_id                                 dataset      file_id  \\\n",
       "0       14927230  /ZeroBias/Run2024A-PromptReco-v1/DQMIO  13770979997   \n",
       "1       14927230  /ZeroBias/Run2024A-PromptReco-v1/DQMIO  13822664277   \n",
       "2       14927230  /ZeroBias/Run2024A-PromptReco-v1/DQMIO  13854945877   \n",
       "3       14927230  /ZeroBias/Run2024A-PromptReco-v1/DQMIO  13854945917   \n",
       "4       14927230  /ZeroBias/Run2024A-PromptReco-v1/DQMIO  13856188037   \n",
       "...          ...                                     ...          ...   \n",
       "6238    15139648  /ZeroBias/Run2024J-PromptReco-v1/DQMIO  18048826877   \n",
       "6239    15139648  /ZeroBias/Run2024J-PromptReco-v1/DQMIO  18055027077   \n",
       "6240    15139648  /ZeroBias/Run2024J-PromptReco-v1/DQMIO  18055027117   \n",
       "6241    15139648  /ZeroBias/Run2024J-PromptReco-v1/DQMIO  18055027157   \n",
       "6242    15139648  /ZeroBias/Run2024J-PromptReco-v1/DQMIO  18055027197   \n",
       "\n",
       "       file_size             creation_date    last_modification_date  \\\n",
       "0       25105071 2024-03-21 10:52:28+00:00 2024-03-21 10:52:28+00:00   \n",
       "1      136518352 2024-03-22 05:20:04+00:00 2024-03-22 05:20:04+00:00   \n",
       "2      298774004 2024-03-23 21:05:31+00:00 2024-03-23 21:05:31+00:00   \n",
       "3      142308376 2024-03-23 21:05:31+00:00 2024-03-23 21:05:31+00:00   \n",
       "4      310099159 2024-03-24 17:01:02+00:00 2024-03-24 17:01:02+00:00   \n",
       "...          ...                       ...                       ...   \n",
       "6238    44108849 2024-11-06 04:43:09+00:00 2024-11-06 04:43:09+00:00   \n",
       "6239    21461718 2024-11-06 12:27:39+00:00 2024-11-06 12:27:39+00:00   \n",
       "6240    66443397 2024-11-06 12:27:39+00:00 2024-11-06 12:27:39+00:00   \n",
       "6241  1261200398 2024-11-06 12:27:39+00:00 2024-11-06 12:27:39+00:00   \n",
       "6242   285969262 2024-11-06 12:27:39+00:00 2024-11-06 12:27:39+00:00   \n",
       "\n",
       "                                      logical_file_name    status err_trace  \n",
       "0     /store/data/Run2024A/ZeroBias/DQMIO/PromptReco...  FINISHED      None  \n",
       "1     /store/data/Run2024A/ZeroBias/DQMIO/PromptReco...  FINISHED      None  \n",
       "2     /store/data/Run2024A/ZeroBias/DQMIO/PromptReco...  FINISHED      None  \n",
       "3     /store/data/Run2024A/ZeroBias/DQMIO/PromptReco...  FINISHED      None  \n",
       "4     /store/data/Run2024A/ZeroBias/DQMIO/PromptReco...  FINISHED      None  \n",
       "...                                                 ...       ...       ...  \n",
       "6238  /store/data/Run2024J/ZeroBias/DQMIO/PromptReco...  FINISHED      None  \n",
       "6239  /store/data/Run2024J/ZeroBias/DQMIO/PromptReco...  FINISHED      None  \n",
       "6240  /store/data/Run2024J/ZeroBias/DQMIO/PromptReco...  FINISHED      None  \n",
       "6241  /store/data/Run2024J/ZeroBias/DQMIO/PromptReco...  FINISHED      None  \n",
       "6242  /store/data/Run2024J/ZeroBias/DQMIO/PromptReco...  FINISHED      None  \n",
       "\n",
       "[6243 rows x 9 columns]"
      ]
     },
     "execution_count": 41,
     "metadata": {},
     "output_type": "execute_result"
    }
   ],
   "source": [
    "files"
   ]
  },
  {
   "cell_type": "code",
   "execution_count": 42,
   "id": "a1319e28-4e7a-4a8e-8405-4d4ec47a1dff",
   "metadata": {},
   "outputs": [
    {
     "data": {
      "text/plain": [
       "array([13770979997, 13822664277, 13854945877, ..., 18055027117,\n",
       "       18055027157, 18055027197])"
      ]
     },
     "execution_count": 42,
     "metadata": {},
     "output_type": "execute_result"
    }
   ],
   "source": [
    "files.file_id.unique()"
   ]
  },
  {
   "cell_type": "code",
   "execution_count": 105,
   "id": "7092f61b-9bf9-4026-9ef7-58d1240bb501",
   "metadata": {},
   "outputs": [],
   "source": [
    "files_list = []\n",
    "\n",
    "for i in h2d_df.file_id.unique():\n",
    "    if i in files.file_id.unique():\n",
    "        files_list.append(files[files.loc[:,\"file_id\"] == i])"
   ]
  },
  {
   "cell_type": "code",
   "execution_count": 106,
   "id": "e65946d7-ec5b-473a-88d0-072193923ae4",
   "metadata": {
    "scrolled": true
   },
   "outputs": [
    {
     "data": {
      "text/html": [
       "<div>\n",
       "<style scoped>\n",
       "    .dataframe tbody tr th:only-of-type {\n",
       "        vertical-align: middle;\n",
       "    }\n",
       "\n",
       "    .dataframe tbody tr th {\n",
       "        vertical-align: top;\n",
       "    }\n",
       "\n",
       "    .dataframe thead th {\n",
       "        text-align: right;\n",
       "    }\n",
       "</style>\n",
       "<table border=\"1\" class=\"dataframe\">\n",
       "  <thead>\n",
       "    <tr style=\"text-align: right;\">\n",
       "      <th></th>\n",
       "      <th>run_number</th>\n",
       "      <th>dataset_id</th>\n",
       "      <th>dataset</th>\n",
       "      <th>file_id</th>\n",
       "      <th>file_size</th>\n",
       "      <th>creation_date</th>\n",
       "      <th>last_modification_date</th>\n",
       "      <th>logical_file_name</th>\n",
       "      <th>status</th>\n",
       "      <th>err_trace</th>\n",
       "    </tr>\n",
       "  </thead>\n",
       "  <tbody>\n",
       "    <tr>\n",
       "      <th>130</th>\n",
       "      <td>379154</td>\n",
       "      <td>14944573</td>\n",
       "      <td>/ZeroBias/Run2024B-PromptReco-v1/DQMIO</td>\n",
       "      <td>14097406797</td>\n",
       "      <td>335001931</td>\n",
       "      <td>2024-04-11 13:42:21+00:00</td>\n",
       "      <td>2024-04-11 13:42:21+00:00</td>\n",
       "      <td>/store/data/Run2024B/ZeroBias/DQMIO/PromptReco...</td>\n",
       "      <td>FINISHED</td>\n",
       "      <td>None</td>\n",
       "    </tr>\n",
       "    <tr>\n",
       "      <th>131</th>\n",
       "      <td>379154</td>\n",
       "      <td>14944573</td>\n",
       "      <td>/ZeroBias/Run2024B-PromptReco-v1/DQMIO</td>\n",
       "      <td>14097406837</td>\n",
       "      <td>390919623</td>\n",
       "      <td>2024-04-11 13:42:21+00:00</td>\n",
       "      <td>2024-04-11 13:42:21+00:00</td>\n",
       "      <td>/store/data/Run2024B/ZeroBias/DQMIO/PromptReco...</td>\n",
       "      <td>FINISHED</td>\n",
       "      <td>None</td>\n",
       "    </tr>\n",
       "    <tr>\n",
       "      <th>132</th>\n",
       "      <td>379154</td>\n",
       "      <td>14944573</td>\n",
       "      <td>/ZeroBias/Run2024B-PromptReco-v1/DQMIO</td>\n",
       "      <td>14097406877</td>\n",
       "      <td>427523932</td>\n",
       "      <td>2024-04-11 13:42:21+00:00</td>\n",
       "      <td>2024-04-11 13:42:21+00:00</td>\n",
       "      <td>/store/data/Run2024B/ZeroBias/DQMIO/PromptReco...</td>\n",
       "      <td>FINISHED</td>\n",
       "      <td>None</td>\n",
       "    </tr>\n",
       "    <tr>\n",
       "      <th>133</th>\n",
       "      <td>379154</td>\n",
       "      <td>14944573</td>\n",
       "      <td>/ZeroBias/Run2024B-PromptReco-v1/DQMIO</td>\n",
       "      <td>14097406917</td>\n",
       "      <td>450827655</td>\n",
       "      <td>2024-04-11 13:42:21+00:00</td>\n",
       "      <td>2024-04-11 13:42:21+00:00</td>\n",
       "      <td>/store/data/Run2024B/ZeroBias/DQMIO/PromptReco...</td>\n",
       "      <td>FINISHED</td>\n",
       "      <td>None</td>\n",
       "    </tr>\n",
       "    <tr>\n",
       "      <th>135</th>\n",
       "      <td>379154</td>\n",
       "      <td>14944573</td>\n",
       "      <td>/ZeroBias/Run2024B-PromptReco-v1/DQMIO</td>\n",
       "      <td>14097406997</td>\n",
       "      <td>401507494</td>\n",
       "      <td>2024-04-11 13:42:21+00:00</td>\n",
       "      <td>2024-04-11 13:42:21+00:00</td>\n",
       "      <td>/store/data/Run2024B/ZeroBias/DQMIO/PromptReco...</td>\n",
       "      <td>FINISHED</td>\n",
       "      <td>None</td>\n",
       "    </tr>\n",
       "    <tr>\n",
       "      <th>134</th>\n",
       "      <td>379154</td>\n",
       "      <td>14944573</td>\n",
       "      <td>/ZeroBias/Run2024B-PromptReco-v1/DQMIO</td>\n",
       "      <td>14097406957</td>\n",
       "      <td>457493520</td>\n",
       "      <td>2024-04-11 13:42:21+00:00</td>\n",
       "      <td>2024-04-11 13:42:21+00:00</td>\n",
       "      <td>/store/data/Run2024B/ZeroBias/DQMIO/PromptReco...</td>\n",
       "      <td>FINISHED</td>\n",
       "      <td>None</td>\n",
       "    </tr>\n",
       "    <tr>\n",
       "      <th>137</th>\n",
       "      <td>379154</td>\n",
       "      <td>14944573</td>\n",
       "      <td>/ZeroBias/Run2024B-PromptReco-v1/DQMIO</td>\n",
       "      <td>14097407077</td>\n",
       "      <td>357994890</td>\n",
       "      <td>2024-04-11 13:42:21+00:00</td>\n",
       "      <td>2024-04-11 13:42:21+00:00</td>\n",
       "      <td>/store/data/Run2024B/ZeroBias/DQMIO/PromptReco...</td>\n",
       "      <td>FINISHED</td>\n",
       "      <td>None</td>\n",
       "    </tr>\n",
       "    <tr>\n",
       "      <th>139</th>\n",
       "      <td>379154</td>\n",
       "      <td>14944573</td>\n",
       "      <td>/ZeroBias/Run2024B-PromptReco-v1/DQMIO</td>\n",
       "      <td>14097407157</td>\n",
       "      <td>341161117</td>\n",
       "      <td>2024-04-11 13:42:21+00:00</td>\n",
       "      <td>2024-04-11 13:42:21+00:00</td>\n",
       "      <td>/store/data/Run2024B/ZeroBias/DQMIO/PromptReco...</td>\n",
       "      <td>FINISHED</td>\n",
       "      <td>None</td>\n",
       "    </tr>\n",
       "    <tr>\n",
       "      <th>148</th>\n",
       "      <td>379154</td>\n",
       "      <td>14944573</td>\n",
       "      <td>/ZeroBias/Run2024B-PromptReco-v1/DQMIO</td>\n",
       "      <td>14150155837</td>\n",
       "      <td>329016448</td>\n",
       "      <td>2024-04-12 09:36:07+00:00</td>\n",
       "      <td>2024-04-12 09:36:07+00:00</td>\n",
       "      <td>/store/data/Run2024B/ZeroBias/DQMIO/PromptReco...</td>\n",
       "      <td>FINISHED</td>\n",
       "      <td>None</td>\n",
       "    </tr>\n",
       "    <tr>\n",
       "      <th>150</th>\n",
       "      <td>379154</td>\n",
       "      <td>14944573</td>\n",
       "      <td>/ZeroBias/Run2024B-PromptReco-v1/DQMIO</td>\n",
       "      <td>14152284597</td>\n",
       "      <td>90207658</td>\n",
       "      <td>2024-04-12 11:41:58+00:00</td>\n",
       "      <td>2024-04-12 11:41:58+00:00</td>\n",
       "      <td>/store/data/Run2024B/ZeroBias/DQMIO/PromptReco...</td>\n",
       "      <td>FINISHED</td>\n",
       "      <td>None</td>\n",
       "    </tr>\n",
       "  </tbody>\n",
       "</table>\n",
       "</div>"
      ],
      "text/plain": [
       "     run_number  dataset_id                                 dataset  \\\n",
       "130      379154    14944573  /ZeroBias/Run2024B-PromptReco-v1/DQMIO   \n",
       "131      379154    14944573  /ZeroBias/Run2024B-PromptReco-v1/DQMIO   \n",
       "132      379154    14944573  /ZeroBias/Run2024B-PromptReco-v1/DQMIO   \n",
       "133      379154    14944573  /ZeroBias/Run2024B-PromptReco-v1/DQMIO   \n",
       "135      379154    14944573  /ZeroBias/Run2024B-PromptReco-v1/DQMIO   \n",
       "134      379154    14944573  /ZeroBias/Run2024B-PromptReco-v1/DQMIO   \n",
       "137      379154    14944573  /ZeroBias/Run2024B-PromptReco-v1/DQMIO   \n",
       "139      379154    14944573  /ZeroBias/Run2024B-PromptReco-v1/DQMIO   \n",
       "148      379154    14944573  /ZeroBias/Run2024B-PromptReco-v1/DQMIO   \n",
       "150      379154    14944573  /ZeroBias/Run2024B-PromptReco-v1/DQMIO   \n",
       "\n",
       "         file_id  file_size             creation_date  \\\n",
       "130  14097406797  335001931 2024-04-11 13:42:21+00:00   \n",
       "131  14097406837  390919623 2024-04-11 13:42:21+00:00   \n",
       "132  14097406877  427523932 2024-04-11 13:42:21+00:00   \n",
       "133  14097406917  450827655 2024-04-11 13:42:21+00:00   \n",
       "135  14097406997  401507494 2024-04-11 13:42:21+00:00   \n",
       "134  14097406957  457493520 2024-04-11 13:42:21+00:00   \n",
       "137  14097407077  357994890 2024-04-11 13:42:21+00:00   \n",
       "139  14097407157  341161117 2024-04-11 13:42:21+00:00   \n",
       "148  14150155837  329016448 2024-04-12 09:36:07+00:00   \n",
       "150  14152284597   90207658 2024-04-12 11:41:58+00:00   \n",
       "\n",
       "       last_modification_date  \\\n",
       "130 2024-04-11 13:42:21+00:00   \n",
       "131 2024-04-11 13:42:21+00:00   \n",
       "132 2024-04-11 13:42:21+00:00   \n",
       "133 2024-04-11 13:42:21+00:00   \n",
       "135 2024-04-11 13:42:21+00:00   \n",
       "134 2024-04-11 13:42:21+00:00   \n",
       "137 2024-04-11 13:42:21+00:00   \n",
       "139 2024-04-11 13:42:21+00:00   \n",
       "148 2024-04-12 09:36:07+00:00   \n",
       "150 2024-04-12 11:41:58+00:00   \n",
       "\n",
       "                                     logical_file_name    status err_trace  \n",
       "130  /store/data/Run2024B/ZeroBias/DQMIO/PromptReco...  FINISHED      None  \n",
       "131  /store/data/Run2024B/ZeroBias/DQMIO/PromptReco...  FINISHED      None  \n",
       "132  /store/data/Run2024B/ZeroBias/DQMIO/PromptReco...  FINISHED      None  \n",
       "133  /store/data/Run2024B/ZeroBias/DQMIO/PromptReco...  FINISHED      None  \n",
       "135  /store/data/Run2024B/ZeroBias/DQMIO/PromptReco...  FINISHED      None  \n",
       "134  /store/data/Run2024B/ZeroBias/DQMIO/PromptReco...  FINISHED      None  \n",
       "137  /store/data/Run2024B/ZeroBias/DQMIO/PromptReco...  FINISHED      None  \n",
       "139  /store/data/Run2024B/ZeroBias/DQMIO/PromptReco...  FINISHED      None  \n",
       "148  /store/data/Run2024B/ZeroBias/DQMIO/PromptReco...  FINISHED      None  \n",
       "150  /store/data/Run2024B/ZeroBias/DQMIO/PromptReco...  FINISHED      None  "
      ]
     },
     "execution_count": 106,
     "metadata": {},
     "output_type": "execute_result"
    }
   ],
   "source": [
    "temp = pd.concat(files_list)\n",
    "temp.insert(0,\"run_number\",value = run_numbers.iloc[0])\n",
    "\n",
    "temp"
   ]
  },
  {
   "cell_type": "code",
   "execution_count": 107,
   "id": "e8990c26-c4f2-4441-b088-a2ca172a4ad8",
   "metadata": {},
   "outputs": [
    {
     "data": {
      "text/html": [
       "<div>\n",
       "<style scoped>\n",
       "    .dataframe tbody tr th:only-of-type {\n",
       "        vertical-align: middle;\n",
       "    }\n",
       "\n",
       "    .dataframe tbody tr th {\n",
       "        vertical-align: top;\n",
       "    }\n",
       "\n",
       "    .dataframe thead th {\n",
       "        text-align: right;\n",
       "    }\n",
       "</style>\n",
       "<table border=\"1\" class=\"dataframe\">\n",
       "  <thead>\n",
       "    <tr style=\"text-align: right;\">\n",
       "      <th></th>\n",
       "      <th>run_number</th>\n",
       "      <th>dataset_id</th>\n",
       "      <th>dataset</th>\n",
       "      <th>file_id</th>\n",
       "      <th>file_size</th>\n",
       "      <th>creation_date</th>\n",
       "      <th>last_modification_date</th>\n",
       "      <th>logical_file_name</th>\n",
       "      <th>status</th>\n",
       "      <th>err_trace</th>\n",
       "    </tr>\n",
       "  </thead>\n",
       "  <tbody>\n",
       "    <tr>\n",
       "      <th>130</th>\n",
       "      <td>379154</td>\n",
       "      <td>14944573</td>\n",
       "      <td>/ZeroBias/Run2024B-PromptReco-v1/DQMIO</td>\n",
       "      <td>14097406797</td>\n",
       "      <td>335001931</td>\n",
       "      <td>2024-04-11 13:42:21+00:00</td>\n",
       "      <td>2024-04-11 13:42:21+00:00</td>\n",
       "      <td>root://eoscms.cern.ch//eos/cms/store/data/Run2...</td>\n",
       "      <td>FINISHED</td>\n",
       "      <td>None</td>\n",
       "    </tr>\n",
       "    <tr>\n",
       "      <th>131</th>\n",
       "      <td>379154</td>\n",
       "      <td>14944573</td>\n",
       "      <td>/ZeroBias/Run2024B-PromptReco-v1/DQMIO</td>\n",
       "      <td>14097406837</td>\n",
       "      <td>390919623</td>\n",
       "      <td>2024-04-11 13:42:21+00:00</td>\n",
       "      <td>2024-04-11 13:42:21+00:00</td>\n",
       "      <td>root://eoscms.cern.ch//eos/cms/store/data/Run2...</td>\n",
       "      <td>FINISHED</td>\n",
       "      <td>None</td>\n",
       "    </tr>\n",
       "    <tr>\n",
       "      <th>132</th>\n",
       "      <td>379154</td>\n",
       "      <td>14944573</td>\n",
       "      <td>/ZeroBias/Run2024B-PromptReco-v1/DQMIO</td>\n",
       "      <td>14097406877</td>\n",
       "      <td>427523932</td>\n",
       "      <td>2024-04-11 13:42:21+00:00</td>\n",
       "      <td>2024-04-11 13:42:21+00:00</td>\n",
       "      <td>root://eoscms.cern.ch//eos/cms/store/data/Run2...</td>\n",
       "      <td>FINISHED</td>\n",
       "      <td>None</td>\n",
       "    </tr>\n",
       "    <tr>\n",
       "      <th>133</th>\n",
       "      <td>379154</td>\n",
       "      <td>14944573</td>\n",
       "      <td>/ZeroBias/Run2024B-PromptReco-v1/DQMIO</td>\n",
       "      <td>14097406917</td>\n",
       "      <td>450827655</td>\n",
       "      <td>2024-04-11 13:42:21+00:00</td>\n",
       "      <td>2024-04-11 13:42:21+00:00</td>\n",
       "      <td>root://eoscms.cern.ch//eos/cms/store/data/Run2...</td>\n",
       "      <td>FINISHED</td>\n",
       "      <td>None</td>\n",
       "    </tr>\n",
       "    <tr>\n",
       "      <th>135</th>\n",
       "      <td>379154</td>\n",
       "      <td>14944573</td>\n",
       "      <td>/ZeroBias/Run2024B-PromptReco-v1/DQMIO</td>\n",
       "      <td>14097406997</td>\n",
       "      <td>401507494</td>\n",
       "      <td>2024-04-11 13:42:21+00:00</td>\n",
       "      <td>2024-04-11 13:42:21+00:00</td>\n",
       "      <td>root://eoscms.cern.ch//eos/cms/store/data/Run2...</td>\n",
       "      <td>FINISHED</td>\n",
       "      <td>None</td>\n",
       "    </tr>\n",
       "    <tr>\n",
       "      <th>134</th>\n",
       "      <td>379154</td>\n",
       "      <td>14944573</td>\n",
       "      <td>/ZeroBias/Run2024B-PromptReco-v1/DQMIO</td>\n",
       "      <td>14097406957</td>\n",
       "      <td>457493520</td>\n",
       "      <td>2024-04-11 13:42:21+00:00</td>\n",
       "      <td>2024-04-11 13:42:21+00:00</td>\n",
       "      <td>root://eoscms.cern.ch//eos/cms/store/data/Run2...</td>\n",
       "      <td>FINISHED</td>\n",
       "      <td>None</td>\n",
       "    </tr>\n",
       "    <tr>\n",
       "      <th>137</th>\n",
       "      <td>379154</td>\n",
       "      <td>14944573</td>\n",
       "      <td>/ZeroBias/Run2024B-PromptReco-v1/DQMIO</td>\n",
       "      <td>14097407077</td>\n",
       "      <td>357994890</td>\n",
       "      <td>2024-04-11 13:42:21+00:00</td>\n",
       "      <td>2024-04-11 13:42:21+00:00</td>\n",
       "      <td>root://eoscms.cern.ch//eos/cms/store/data/Run2...</td>\n",
       "      <td>FINISHED</td>\n",
       "      <td>None</td>\n",
       "    </tr>\n",
       "    <tr>\n",
       "      <th>139</th>\n",
       "      <td>379154</td>\n",
       "      <td>14944573</td>\n",
       "      <td>/ZeroBias/Run2024B-PromptReco-v1/DQMIO</td>\n",
       "      <td>14097407157</td>\n",
       "      <td>341161117</td>\n",
       "      <td>2024-04-11 13:42:21+00:00</td>\n",
       "      <td>2024-04-11 13:42:21+00:00</td>\n",
       "      <td>root://eoscms.cern.ch//eos/cms/store/data/Run2...</td>\n",
       "      <td>FINISHED</td>\n",
       "      <td>None</td>\n",
       "    </tr>\n",
       "    <tr>\n",
       "      <th>148</th>\n",
       "      <td>379154</td>\n",
       "      <td>14944573</td>\n",
       "      <td>/ZeroBias/Run2024B-PromptReco-v1/DQMIO</td>\n",
       "      <td>14150155837</td>\n",
       "      <td>329016448</td>\n",
       "      <td>2024-04-12 09:36:07+00:00</td>\n",
       "      <td>2024-04-12 09:36:07+00:00</td>\n",
       "      <td>root://eoscms.cern.ch//eos/cms/store/data/Run2...</td>\n",
       "      <td>FINISHED</td>\n",
       "      <td>None</td>\n",
       "    </tr>\n",
       "    <tr>\n",
       "      <th>150</th>\n",
       "      <td>379154</td>\n",
       "      <td>14944573</td>\n",
       "      <td>/ZeroBias/Run2024B-PromptReco-v1/DQMIO</td>\n",
       "      <td>14152284597</td>\n",
       "      <td>90207658</td>\n",
       "      <td>2024-04-12 11:41:58+00:00</td>\n",
       "      <td>2024-04-12 11:41:58+00:00</td>\n",
       "      <td>root://eoscms.cern.ch//eos/cms/store/data/Run2...</td>\n",
       "      <td>FINISHED</td>\n",
       "      <td>None</td>\n",
       "    </tr>\n",
       "  </tbody>\n",
       "</table>\n",
       "</div>"
      ],
      "text/plain": [
       "     run_number  dataset_id                                 dataset  \\\n",
       "130      379154    14944573  /ZeroBias/Run2024B-PromptReco-v1/DQMIO   \n",
       "131      379154    14944573  /ZeroBias/Run2024B-PromptReco-v1/DQMIO   \n",
       "132      379154    14944573  /ZeroBias/Run2024B-PromptReco-v1/DQMIO   \n",
       "133      379154    14944573  /ZeroBias/Run2024B-PromptReco-v1/DQMIO   \n",
       "135      379154    14944573  /ZeroBias/Run2024B-PromptReco-v1/DQMIO   \n",
       "134      379154    14944573  /ZeroBias/Run2024B-PromptReco-v1/DQMIO   \n",
       "137      379154    14944573  /ZeroBias/Run2024B-PromptReco-v1/DQMIO   \n",
       "139      379154    14944573  /ZeroBias/Run2024B-PromptReco-v1/DQMIO   \n",
       "148      379154    14944573  /ZeroBias/Run2024B-PromptReco-v1/DQMIO   \n",
       "150      379154    14944573  /ZeroBias/Run2024B-PromptReco-v1/DQMIO   \n",
       "\n",
       "         file_id  file_size             creation_date  \\\n",
       "130  14097406797  335001931 2024-04-11 13:42:21+00:00   \n",
       "131  14097406837  390919623 2024-04-11 13:42:21+00:00   \n",
       "132  14097406877  427523932 2024-04-11 13:42:21+00:00   \n",
       "133  14097406917  450827655 2024-04-11 13:42:21+00:00   \n",
       "135  14097406997  401507494 2024-04-11 13:42:21+00:00   \n",
       "134  14097406957  457493520 2024-04-11 13:42:21+00:00   \n",
       "137  14097407077  357994890 2024-04-11 13:42:21+00:00   \n",
       "139  14097407157  341161117 2024-04-11 13:42:21+00:00   \n",
       "148  14150155837  329016448 2024-04-12 09:36:07+00:00   \n",
       "150  14152284597   90207658 2024-04-12 11:41:58+00:00   \n",
       "\n",
       "       last_modification_date  \\\n",
       "130 2024-04-11 13:42:21+00:00   \n",
       "131 2024-04-11 13:42:21+00:00   \n",
       "132 2024-04-11 13:42:21+00:00   \n",
       "133 2024-04-11 13:42:21+00:00   \n",
       "135 2024-04-11 13:42:21+00:00   \n",
       "134 2024-04-11 13:42:21+00:00   \n",
       "137 2024-04-11 13:42:21+00:00   \n",
       "139 2024-04-11 13:42:21+00:00   \n",
       "148 2024-04-12 09:36:07+00:00   \n",
       "150 2024-04-12 11:41:58+00:00   \n",
       "\n",
       "                                     logical_file_name    status err_trace  \n",
       "130  root://eoscms.cern.ch//eos/cms/store/data/Run2...  FINISHED      None  \n",
       "131  root://eoscms.cern.ch//eos/cms/store/data/Run2...  FINISHED      None  \n",
       "132  root://eoscms.cern.ch//eos/cms/store/data/Run2...  FINISHED      None  \n",
       "133  root://eoscms.cern.ch//eos/cms/store/data/Run2...  FINISHED      None  \n",
       "135  root://eoscms.cern.ch//eos/cms/store/data/Run2...  FINISHED      None  \n",
       "134  root://eoscms.cern.ch//eos/cms/store/data/Run2...  FINISHED      None  \n",
       "137  root://eoscms.cern.ch//eos/cms/store/data/Run2...  FINISHED      None  \n",
       "139  root://eoscms.cern.ch//eos/cms/store/data/Run2...  FINISHED      None  \n",
       "148  root://eoscms.cern.ch//eos/cms/store/data/Run2...  FINISHED      None  \n",
       "150  root://eoscms.cern.ch//eos/cms/store/data/Run2...  FINISHED      None  "
      ]
     },
     "execution_count": 107,
     "metadata": {},
     "output_type": "execute_result"
    }
   ],
   "source": [
    "temp.loc[:,\"logical_file_name\"] = temp.logical_file_name.apply(lambda x: redir+x)\n",
    "\n",
    "temp"
   ]
  },
  {
   "cell_type": "code",
   "execution_count": 95,
   "id": "bda9df30-c7a3-47b2-b914-73bf64e331d7",
   "metadata": {},
   "outputs": [],
   "source": [
    "# !rmdir root_files/*"
   ]
  },
  {
   "cell_type": "code",
   "execution_count": 85,
   "id": "7bc17312-ab3b-4551-a1a2-1b51696db1d9",
   "metadata": {},
   "outputs": [],
   "source": [
    "# for run_number in run_numbers:\n",
    "#     os.makedirs(f\"root_files/{run_number}\")"
   ]
  },
  {
   "cell_type": "markdown",
   "id": "4f9afbae-6597-41f9-993c-8fdbdcc99469",
   "metadata": {},
   "source": [
    "# Finally getting the list of files for the long runs \n",
    "each run has many files attached to it so they are orgainized in their own folder under `root_files`"
   ]
  },
  {
   "cell_type": "code",
   "execution_count": 109,
   "id": "fd1710bf-25db-410a-9c37-7202d0bf88c5",
   "metadata": {
    "scrolled": true
   },
   "outputs": [
    {
     "name": "stdout",
     "output_type": "stream",
     "text": [
      "Fetching files for run_number=379154\n"
     ]
    },
    {
     "data": {
      "application/vnd.jupyter.widget-view+json": {
       "model_id": "c7310b464681420393876f5cefb33b60",
       "version_major": 2,
       "version_minor": 0
      },
      "text/plain": [
       "Progress:   0%|          | 0/1 [00:00<?, ?it/s]"
      ]
     },
     "metadata": {},
     "output_type": "display_data"
    },
    {
     "name": "stdout",
     "output_type": "stream",
     "text": [
      "Finished run_number=379154\n",
      "Fetching files for run_number=379456\n"
     ]
    },
    {
     "data": {
      "application/vnd.jupyter.widget-view+json": {
       "model_id": "15a069f50afd46d8bdb166adaabb17ec",
       "version_major": 2,
       "version_minor": 0
      },
      "text/plain": [
       "Progress:   0%|          | 0/1 [00:00<?, ?it/s]"
      ]
     },
     "metadata": {},
     "output_type": "display_data"
    },
    {
     "name": "stdout",
     "output_type": "stream",
     "text": [
      "Finished run_number=379456\n",
      "Fetching files for run_number=379660\n"
     ]
    },
    {
     "data": {
      "application/vnd.jupyter.widget-view+json": {
       "model_id": "6f1c76913b3a45b68177e1d17abff8e3",
       "version_major": 2,
       "version_minor": 0
      },
      "text/plain": [
       "Progress:   0%|          | 0/1 [00:00<?, ?it/s]"
      ]
     },
     "metadata": {},
     "output_type": "display_data"
    },
    {
     "name": "stdout",
     "output_type": "stream",
     "text": [
      "Finished run_number=379660\n",
      "Fetching files for run_number=379729\n"
     ]
    },
    {
     "data": {
      "application/vnd.jupyter.widget-view+json": {
       "model_id": "7c1956773d9c405e995b7da34a396606",
       "version_major": 2,
       "version_minor": 0
      },
      "text/plain": [
       "Progress:   0%|          | 0/1 [00:00<?, ?it/s]"
      ]
     },
     "metadata": {},
     "output_type": "display_data"
    },
    {
     "name": "stdout",
     "output_type": "stream",
     "text": [
      "Finished run_number=379729\n",
      "Fetching files for run_number=379765\n"
     ]
    },
    {
     "data": {
      "application/vnd.jupyter.widget-view+json": {
       "model_id": "ead7b11754cf462f8f745d174dbd105f",
       "version_major": 2,
       "version_minor": 0
      },
      "text/plain": [
       "Progress:   0%|          | 0/1 [00:00<?, ?it/s]"
      ]
     },
     "metadata": {},
     "output_type": "display_data"
    },
    {
     "name": "stdout",
     "output_type": "stream",
     "text": [
      "Finished run_number=379765\n",
      "Fetching files for run_number=379866\n"
     ]
    },
    {
     "data": {
      "application/vnd.jupyter.widget-view+json": {
       "model_id": "ac5840e74b014068b648b93a90a734b9",
       "version_major": 2,
       "version_minor": 0
      },
      "text/plain": [
       "Progress:   0%|          | 0/1 [00:00<?, ?it/s]"
      ]
     },
     "metadata": {},
     "output_type": "display_data"
    },
    {
     "name": "stdout",
     "output_type": "stream",
     "text": [
      "Finished run_number=379866\n",
      "Fetching files for run_number=379956\n"
     ]
    },
    {
     "data": {
      "application/vnd.jupyter.widget-view+json": {
       "model_id": "94c2926ee49741d8b84d0d31384c63e3",
       "version_major": 2,
       "version_minor": 0
      },
      "text/plain": [
       "Progress:   0%|          | 0/1 [00:00<?, ?it/s]"
      ]
     },
     "metadata": {},
     "output_type": "display_data"
    },
    {
     "name": "stdout",
     "output_type": "stream",
     "text": [
      "Finished run_number=379956\n",
      "Fetching files for run_number=380005\n"
     ]
    },
    {
     "data": {
      "application/vnd.jupyter.widget-view+json": {
       "model_id": "3b60eaa8d8e341d0b0fadaba5f1d339e",
       "version_major": 2,
       "version_minor": 0
      },
      "text/plain": [
       "Progress:   0%|          | 0/1 [00:00<?, ?it/s]"
      ]
     },
     "metadata": {},
     "output_type": "display_data"
    },
    {
     "name": "stdout",
     "output_type": "stream",
     "text": [
      "Finished run_number=380005\n",
      "Fetching files for run_number=380074\n"
     ]
    },
    {
     "data": {
      "application/vnd.jupyter.widget-view+json": {
       "model_id": "e310064bdc36498baa409c659eb8abdf",
       "version_major": 2,
       "version_minor": 0
      },
      "text/plain": [
       "Progress:   0%|          | 0/1 [00:00<?, ?it/s]"
      ]
     },
     "metadata": {},
     "output_type": "display_data"
    },
    {
     "name": "stdout",
     "output_type": "stream",
     "text": [
      "Finished run_number=380074\n",
      "Fetching files for run_number=380115\n"
     ]
    },
    {
     "data": {
      "application/vnd.jupyter.widget-view+json": {
       "model_id": "8456ca6d6e3b42ccb30e5d3f275ca9ad",
       "version_major": 2,
       "version_minor": 0
      },
      "text/plain": [
       "Progress:   0%|          | 0/1 [00:00<?, ?it/s]"
      ]
     },
     "metadata": {},
     "output_type": "display_data"
    },
    {
     "name": "stdout",
     "output_type": "stream",
     "text": [
      "Finished run_number=380115\n",
      "Fetching files for run_number=380310\n"
     ]
    },
    {
     "data": {
      "application/vnd.jupyter.widget-view+json": {
       "model_id": "f39b5eb5c700454ab5390a1e6e186d67",
       "version_major": 2,
       "version_minor": 0
      },
      "text/plain": [
       "Progress:   0%|          | 0/1 [00:00<?, ?it/s]"
      ]
     },
     "metadata": {},
     "output_type": "display_data"
    },
    {
     "name": "stdout",
     "output_type": "stream",
     "text": [
      "Finished run_number=380310\n",
      "Fetching files for run_number=380360\n"
     ]
    },
    {
     "data": {
      "application/vnd.jupyter.widget-view+json": {
       "model_id": "44cdeb1ce2cb4aea83671013d4d31869",
       "version_major": 2,
       "version_minor": 0
      },
      "text/plain": [
       "Progress:   0%|          | 0/1 [00:00<?, ?it/s]"
      ]
     },
     "metadata": {},
     "output_type": "display_data"
    },
    {
     "name": "stdout",
     "output_type": "stream",
     "text": [
      "Finished run_number=380360\n",
      "Fetching files for run_number=380385\n"
     ]
    },
    {
     "data": {
      "application/vnd.jupyter.widget-view+json": {
       "model_id": "26876553826b4317b887b961b23229c2",
       "version_major": 2,
       "version_minor": 0
      },
      "text/plain": [
       "Progress:   0%|          | 0/1 [00:00<?, ?it/s]"
      ]
     },
     "metadata": {},
     "output_type": "display_data"
    },
    {
     "name": "stdout",
     "output_type": "stream",
     "text": [
      "Finished run_number=380385\n",
      "Fetching files for run_number=380446\n"
     ]
    },
    {
     "data": {
      "application/vnd.jupyter.widget-view+json": {
       "model_id": "19bd7820d82d443887419b6d9bd260ef",
       "version_major": 2,
       "version_minor": 0
      },
      "text/plain": [
       "Progress:   0%|          | 0/1 [00:00<?, ?it/s]"
      ]
     },
     "metadata": {},
     "output_type": "display_data"
    },
    {
     "name": "stdout",
     "output_type": "stream",
     "text": [
      "Finished run_number=380446\n",
      "Fetching files for run_number=380470\n"
     ]
    },
    {
     "data": {
      "application/vnd.jupyter.widget-view+json": {
       "model_id": "fc480419e6b04c4c91862744c2d95c02",
       "version_major": 2,
       "version_minor": 0
      },
      "text/plain": [
       "Progress:   0%|          | 0/1 [00:00<?, ?it/s]"
      ]
     },
     "metadata": {},
     "output_type": "display_data"
    },
    {
     "name": "stdout",
     "output_type": "stream",
     "text": [
      "Finished run_number=380470\n",
      "Fetching files for run_number=380513\n"
     ]
    },
    {
     "data": {
      "application/vnd.jupyter.widget-view+json": {
       "model_id": "43944e7a55944b8fa84f51827d7b0818",
       "version_major": 2,
       "version_minor": 0
      },
      "text/plain": [
       "Progress:   0%|          | 0/1 [00:00<?, ?it/s]"
      ]
     },
     "metadata": {},
     "output_type": "display_data"
    },
    {
     "name": "stdout",
     "output_type": "stream",
     "text": [
      "Finished run_number=380513\n",
      "Fetching files for run_number=380531\n"
     ]
    },
    {
     "data": {
      "application/vnd.jupyter.widget-view+json": {
       "model_id": "67c47eff6d214119ac2df764b58ba724",
       "version_major": 2,
       "version_minor": 0
      },
      "text/plain": [
       "Progress:   0%|          | 0/1 [00:00<?, ?it/s]"
      ]
     },
     "metadata": {},
     "output_type": "display_data"
    },
    {
     "name": "stdout",
     "output_type": "stream",
     "text": [
      "Finished run_number=380531\n",
      "Fetching files for run_number=380567\n"
     ]
    },
    {
     "data": {
      "application/vnd.jupyter.widget-view+json": {
       "model_id": "bbde957cfec747c5aaeb02f2711d8342",
       "version_major": 2,
       "version_minor": 0
      },
      "text/plain": [
       "Progress:   0%|          | 0/1 [00:00<?, ?it/s]"
      ]
     },
     "metadata": {},
     "output_type": "display_data"
    },
    {
     "name": "stdout",
     "output_type": "stream",
     "text": [
      "Finished run_number=380567\n",
      "Fetching files for run_number=380601\n"
     ]
    },
    {
     "data": {
      "application/vnd.jupyter.widget-view+json": {
       "model_id": "0d8a30df56e74d3ba5f3d00630f90c08",
       "version_major": 2,
       "version_minor": 0
      },
      "text/plain": [
       "Progress:   0%|          | 0/1 [00:00<?, ?it/s]"
      ]
     },
     "metadata": {},
     "output_type": "display_data"
    },
    {
     "name": "stdout",
     "output_type": "stream",
     "text": [
      "Finished run_number=380603\n",
      "Fetching files for run_number=380614\n"
     ]
    },
    {
     "data": {
      "application/vnd.jupyter.widget-view+json": {
       "model_id": "b06cfb196d434786bf24aefa8893159e",
       "version_major": 2,
       "version_minor": 0
      },
      "text/plain": [
       "Progress:   0%|          | 0/1 [00:00<?, ?it/s]"
      ]
     },
     "metadata": {},
     "output_type": "display_data"
    },
    {
     "name": "stdout",
     "output_type": "stream",
     "text": [
      "Finished run_number=380614\n",
      "Fetching files for run_number=380644\n"
     ]
    },
    {
     "data": {
      "application/vnd.jupyter.widget-view+json": {
       "model_id": "69b5ead3355e4286b574f1942f8d561b",
       "version_major": 2,
       "version_minor": 0
      },
      "text/plain": [
       "Progress:   0%|          | 0/1 [00:00<?, ?it/s]"
      ]
     },
     "metadata": {},
     "output_type": "display_data"
    },
    {
     "name": "stdout",
     "output_type": "stream",
     "text": [
      "Finished run_number=380644\n",
      "Fetching files for run_number=380705\n"
     ]
    },
    {
     "data": {
      "application/vnd.jupyter.widget-view+json": {
       "model_id": "41e5b74676a64c058e0d85f00904158a",
       "version_major": 2,
       "version_minor": 0
      },
      "text/plain": [
       "Progress:   0%|          | 0/1 [00:00<?, ?it/s]"
      ]
     },
     "metadata": {},
     "output_type": "display_data"
    },
    {
     "name": "stdout",
     "output_type": "stream",
     "text": [
      "Finished run_number=380705\n",
      "Fetching files for run_number=380847\n"
     ]
    },
    {
     "data": {
      "application/vnd.jupyter.widget-view+json": {
       "model_id": "3675f1783d5a455884f9028010134b14",
       "version_major": 2,
       "version_minor": 0
      },
      "text/plain": [
       "Progress:   0%|          | 0/1 [00:00<?, ?it/s]"
      ]
     },
     "metadata": {},
     "output_type": "display_data"
    },
    {
     "name": "stdout",
     "output_type": "stream",
     "text": [
      "Finished run_number=380847\n",
      "Fetching files for run_number=380848\n"
     ]
    },
    {
     "data": {
      "application/vnd.jupyter.widget-view+json": {
       "model_id": "24c1736d15e64a52be24596cc9552547",
       "version_major": 2,
       "version_minor": 0
      },
      "text/plain": [
       "Progress:   0%|          | 0/1 [00:00<?, ?it/s]"
      ]
     },
     "metadata": {},
     "output_type": "display_data"
    },
    {
     "name": "stdout",
     "output_type": "stream",
     "text": [
      "Finished run_number=380848\n",
      "Fetching files for run_number=380895\n"
     ]
    },
    {
     "data": {
      "application/vnd.jupyter.widget-view+json": {
       "model_id": "7d82f54b2ca3473190ce95477618416d",
       "version_major": 2,
       "version_minor": 0
      },
      "text/plain": [
       "Progress:   0%|          | 0/1 [00:00<?, ?it/s]"
      ]
     },
     "metadata": {},
     "output_type": "display_data"
    },
    {
     "name": "stdout",
     "output_type": "stream",
     "text": [
      "Finished run_number=380895\n",
      "Fetching files for run_number=381115\n"
     ]
    },
    {
     "data": {
      "application/vnd.jupyter.widget-view+json": {
       "model_id": "085bb073b5c6421e90bf132194483a32",
       "version_major": 2,
       "version_minor": 0
      },
      "text/plain": [
       "Progress:   0%|          | 0/1 [00:00<?, ?it/s]"
      ]
     },
     "metadata": {},
     "output_type": "display_data"
    },
    {
     "name": "stdout",
     "output_type": "stream",
     "text": [
      "Finished run_number=381115\n",
      "Fetching files for run_number=381164\n"
     ]
    },
    {
     "data": {
      "application/vnd.jupyter.widget-view+json": {
       "model_id": "f6779acc680c400289657d9b3bcbc07f",
       "version_major": 2,
       "version_minor": 0
      },
      "text/plain": [
       "Progress:   0%|          | 0/1 [00:00<?, ?it/s]"
      ]
     },
     "metadata": {},
     "output_type": "display_data"
    },
    {
     "name": "stdout",
     "output_type": "stream",
     "text": [
      "Finished run_number=381164\n",
      "Fetching files for run_number=381190\n"
     ]
    },
    {
     "data": {
      "application/vnd.jupyter.widget-view+json": {
       "model_id": "bc64017394b6472ca1df8eb7677cab3d",
       "version_major": 2,
       "version_minor": 0
      },
      "text/plain": [
       "Progress:   0%|          | 0/1 [00:00<?, ?it/s]"
      ]
     },
     "metadata": {},
     "output_type": "display_data"
    },
    {
     "name": "stdout",
     "output_type": "stream",
     "text": [
      "Finished run_number=381190\n",
      "Fetching files for run_number=381191\n"
     ]
    },
    {
     "data": {
      "application/vnd.jupyter.widget-view+json": {
       "model_id": "c489fcf8d2204951a6f8e4f78632fe0f",
       "version_major": 2,
       "version_minor": 0
      },
      "text/plain": [
       "Progress:   0%|          | 0/1 [00:00<?, ?it/s]"
      ]
     },
     "metadata": {},
     "output_type": "display_data"
    },
    {
     "name": "stdout",
     "output_type": "stream",
     "text": [
      "Finished run_number=381191\n",
      "Fetching files for run_number=381208\n"
     ]
    },
    {
     "data": {
      "application/vnd.jupyter.widget-view+json": {
       "model_id": "e4eceea1850146979089ebe379bb81ed",
       "version_major": 2,
       "version_minor": 0
      },
      "text/plain": [
       "Progress:   0%|          | 0/1 [00:00<?, ?it/s]"
      ]
     },
     "metadata": {},
     "output_type": "display_data"
    },
    {
     "name": "stdout",
     "output_type": "stream",
     "text": [
      "Finished run_number=381208\n",
      "Fetching files for run_number=381380\n"
     ]
    },
    {
     "data": {
      "application/vnd.jupyter.widget-view+json": {
       "model_id": "5e817b667974432e92c7adb0e55a01b4",
       "version_major": 2,
       "version_minor": 0
      },
      "text/plain": [
       "Progress:   0%|          | 0/1 [00:00<?, ?it/s]"
      ]
     },
     "metadata": {},
     "output_type": "display_data"
    },
    {
     "name": "stdout",
     "output_type": "stream",
     "text": [
      "Finished run_number=381380\n",
      "Fetching files for run_number=381384\n"
     ]
    },
    {
     "data": {
      "application/vnd.jupyter.widget-view+json": {
       "model_id": "4f4717367be14e5e9d8e6884a5f85890",
       "version_major": 2,
       "version_minor": 0
      },
      "text/plain": [
       "Progress:   0%|          | 0/1 [00:00<?, ?it/s]"
      ]
     },
     "metadata": {},
     "output_type": "display_data"
    },
    {
     "name": "stdout",
     "output_type": "stream",
     "text": [
      "Finished run_number=381384\n",
      "Fetching files for run_number=381417\n"
     ]
    },
    {
     "data": {
      "application/vnd.jupyter.widget-view+json": {
       "model_id": "afab43d4cf0f4ceda1982818a0a6da55",
       "version_major": 2,
       "version_minor": 0
      },
      "text/plain": [
       "Progress:   0%|          | 0/1 [00:00<?, ?it/s]"
      ]
     },
     "metadata": {},
     "output_type": "display_data"
    },
    {
     "name": "stdout",
     "output_type": "stream",
     "text": [
      "Finished run_number=381417\n",
      "Fetching files for run_number=381443\n"
     ]
    },
    {
     "data": {
      "application/vnd.jupyter.widget-view+json": {
       "model_id": "fe8e74d5884845b6b4041d79609383c8",
       "version_major": 2,
       "version_minor": 0
      },
      "text/plain": [
       "Progress:   0%|          | 0/1 [00:00<?, ?it/s]"
      ]
     },
     "metadata": {},
     "output_type": "display_data"
    },
    {
     "name": "stdout",
     "output_type": "stream",
     "text": [
      "Finished run_number=381443\n",
      "Fetching files for run_number=381480\n"
     ]
    },
    {
     "data": {
      "application/vnd.jupyter.widget-view+json": {
       "model_id": "62fd6b13a03e4d9d88c275e3fdb4a635",
       "version_major": 2,
       "version_minor": 0
      },
      "text/plain": [
       "Progress:   0%|          | 0/1 [00:00<?, ?it/s]"
      ]
     },
     "metadata": {},
     "output_type": "display_data"
    },
    {
     "name": "stdout",
     "output_type": "stream",
     "text": [
      "Finished run_number=381480\n",
      "Fetching files for run_number=381484\n"
     ]
    },
    {
     "data": {
      "application/vnd.jupyter.widget-view+json": {
       "model_id": "2b5906865fd94a0b8abc2dc0aa59a85e",
       "version_major": 2,
       "version_minor": 0
      },
      "text/plain": [
       "Progress:   0%|          | 0/1 [00:00<?, ?it/s]"
      ]
     },
     "metadata": {},
     "output_type": "display_data"
    },
    {
     "name": "stdout",
     "output_type": "stream",
     "text": [
      "Finished run_number=381484\n",
      "Fetching files for run_number=381516\n"
     ]
    },
    {
     "data": {
      "application/vnd.jupyter.widget-view+json": {
       "model_id": "bc033fa8e4ed4347ad8cc4e14d28d48f",
       "version_major": 2,
       "version_minor": 0
      },
      "text/plain": [
       "Progress:   0%|          | 0/1 [00:00<?, ?it/s]"
      ]
     },
     "metadata": {},
     "output_type": "display_data"
    },
    {
     "name": "stdout",
     "output_type": "stream",
     "text": [
      "Finished run_number=381516\n",
      "Fetching files for run_number=381544\n"
     ]
    },
    {
     "data": {
      "application/vnd.jupyter.widget-view+json": {
       "model_id": "6a42bce4bde14a73909b9d9b16d4d9aa",
       "version_major": 2,
       "version_minor": 0
      },
      "text/plain": [
       "Progress:   0%|          | 0/1 [00:00<?, ?it/s]"
      ]
     },
     "metadata": {},
     "output_type": "display_data"
    },
    {
     "name": "stdout",
     "output_type": "stream",
     "text": [
      "Finished run_number=381544\n",
      "Fetching files for run_number=381594\n"
     ]
    },
    {
     "data": {
      "application/vnd.jupyter.widget-view+json": {
       "model_id": "c81c39db914b460ca27d459e1f380dff",
       "version_major": 2,
       "version_minor": 0
      },
      "text/plain": [
       "Progress:   0%|          | 0/1 [00:00<?, ?it/s]"
      ]
     },
     "metadata": {},
     "output_type": "display_data"
    },
    {
     "name": "stdout",
     "output_type": "stream",
     "text": [
      "Finished run_number=381594\n",
      "Fetching files for run_number=381698\n"
     ]
    },
    {
     "data": {
      "application/vnd.jupyter.widget-view+json": {
       "model_id": "fe3b2723fe60445da42abac227cb849e",
       "version_major": 2,
       "version_minor": 0
      },
      "text/plain": [
       "Progress:   0%|          | 0/1 [00:00<?, ?it/s]"
      ]
     },
     "metadata": {},
     "output_type": "display_data"
    },
    {
     "name": "stdout",
     "output_type": "stream",
     "text": [
      "Finished run_number=381698\n",
      "Fetching files for run_number=381778\n"
     ]
    },
    {
     "data": {
      "application/vnd.jupyter.widget-view+json": {
       "model_id": "2f7eca508ead499c943efb3a25184585",
       "version_major": 2,
       "version_minor": 0
      },
      "text/plain": [
       "Progress:   0%|          | 0/1 [00:00<?, ?it/s]"
      ]
     },
     "metadata": {},
     "output_type": "display_data"
    },
    {
     "name": "stdout",
     "output_type": "stream",
     "text": [
      "Finished run_number=381778\n",
      "Fetching files for run_number=381793\n"
     ]
    },
    {
     "data": {
      "application/vnd.jupyter.widget-view+json": {
       "model_id": "994493776591436c90b0181d25b42706",
       "version_major": 2,
       "version_minor": 0
      },
      "text/plain": [
       "Progress:   0%|          | 0/1 [00:00<?, ?it/s]"
      ]
     },
     "metadata": {},
     "output_type": "display_data"
    },
    {
     "name": "stdout",
     "output_type": "stream",
     "text": [
      "Finished run_number=381793\n",
      "Fetching files for run_number=381900\n"
     ]
    },
    {
     "data": {
      "application/vnd.jupyter.widget-view+json": {
       "model_id": "6bad69cdf3464a78b56b147707da96c2",
       "version_major": 2,
       "version_minor": 0
      },
      "text/plain": [
       "Progress:   0%|          | 0/1 [00:00<?, ?it/s]"
      ]
     },
     "metadata": {},
     "output_type": "display_data"
    },
    {
     "name": "stdout",
     "output_type": "stream",
     "text": [
      "Finished run_number=381900\n",
      "Fetching files for run_number=381968\n"
     ]
    },
    {
     "data": {
      "application/vnd.jupyter.widget-view+json": {
       "model_id": "7dcdbbc292f84b71b51c02495c972684",
       "version_major": 2,
       "version_minor": 0
      },
      "text/plain": [
       "Progress:   0%|          | 0/1 [00:00<?, ?it/s]"
      ]
     },
     "metadata": {},
     "output_type": "display_data"
    },
    {
     "name": "stdout",
     "output_type": "stream",
     "text": [
      "Finished run_number=381968\n",
      "Fetching files for run_number=382120\n"
     ]
    },
    {
     "data": {
      "application/vnd.jupyter.widget-view+json": {
       "model_id": "c97040750f5841aa9c297790deebf30f",
       "version_major": 2,
       "version_minor": 0
      },
      "text/plain": [
       "Progress:   0%|          | 0/1 [00:00<?, ?it/s]"
      ]
     },
     "metadata": {},
     "output_type": "display_data"
    },
    {
     "name": "stdout",
     "output_type": "stream",
     "text": [
      "Finished run_number=382120\n",
      "Fetching files for run_number=382258\n"
     ]
    },
    {
     "data": {
      "application/vnd.jupyter.widget-view+json": {
       "model_id": "e699b4dbb7ed4b609a8317e97faa8634",
       "version_major": 2,
       "version_minor": 0
      },
      "text/plain": [
       "Progress:   0%|          | 0/1 [00:00<?, ?it/s]"
      ]
     },
     "metadata": {},
     "output_type": "display_data"
    },
    {
     "name": "stdout",
     "output_type": "stream",
     "text": [
      "Finished run_number=382258\n",
      "Fetching files for run_number=382300\n"
     ]
    },
    {
     "data": {
      "application/vnd.jupyter.widget-view+json": {
       "model_id": "543b19beff164fea823f897406314cc9",
       "version_major": 2,
       "version_minor": 0
      },
      "text/plain": [
       "Progress:   0%|          | 0/1 [00:00<?, ?it/s]"
      ]
     },
     "metadata": {},
     "output_type": "display_data"
    },
    {
     "name": "stdout",
     "output_type": "stream",
     "text": [
      "Finished run_number=382300\n",
      "Fetching files for run_number=382330\n"
     ]
    },
    {
     "data": {
      "application/vnd.jupyter.widget-view+json": {
       "model_id": "f614eec9567a4077869335c9ffe9f494",
       "version_major": 2,
       "version_minor": 0
      },
      "text/plain": [
       "Progress:   0%|          | 0/1 [00:00<?, ?it/s]"
      ]
     },
     "metadata": {},
     "output_type": "display_data"
    },
    {
     "name": "stdout",
     "output_type": "stream",
     "text": [
      "Finished run_number=382330\n",
      "Fetching files for run_number=382343\n"
     ]
    },
    {
     "data": {
      "application/vnd.jupyter.widget-view+json": {
       "model_id": "c6f697b3674c4d2eb3f133c46541de43",
       "version_major": 2,
       "version_minor": 0
      },
      "text/plain": [
       "Progress:   0%|          | 0/1 [00:00<?, ?it/s]"
      ]
     },
     "metadata": {},
     "output_type": "display_data"
    },
    {
     "name": "stdout",
     "output_type": "stream",
     "text": [
      "Finished run_number=382343\n",
      "Fetching files for run_number=382435\n"
     ]
    },
    {
     "data": {
      "application/vnd.jupyter.widget-view+json": {
       "model_id": "1b16eb509adc4172b13547d6f18c6565",
       "version_major": 2,
       "version_minor": 0
      },
      "text/plain": [
       "Progress:   0%|          | 0/1 [00:00<?, ?it/s]"
      ]
     },
     "metadata": {},
     "output_type": "display_data"
    },
    {
     "name": "stdout",
     "output_type": "stream",
     "text": [
      "Finished run_number=382435\n",
      "Fetching files for run_number=382511\n"
     ]
    },
    {
     "data": {
      "application/vnd.jupyter.widget-view+json": {
       "model_id": "c08baf5d07604a88a541fe23ab685cea",
       "version_major": 2,
       "version_minor": 0
      },
      "text/plain": [
       "Progress:   0%|          | 0/1 [00:00<?, ?it/s]"
      ]
     },
     "metadata": {},
     "output_type": "display_data"
    },
    {
     "name": "stdout",
     "output_type": "stream",
     "text": [
      "Finished run_number=382511\n",
      "Fetching files for run_number=382580\n"
     ]
    },
    {
     "data": {
      "application/vnd.jupyter.widget-view+json": {
       "model_id": "dc36b79546a4412cb588ab9c401331ab",
       "version_major": 2,
       "version_minor": 0
      },
      "text/plain": [
       "Progress:   0%|          | 0/1 [00:00<?, ?it/s]"
      ]
     },
     "metadata": {},
     "output_type": "display_data"
    },
    {
     "name": "stdout",
     "output_type": "stream",
     "text": [
      "Finished run_number=382580\n",
      "Fetching files for run_number=382594\n"
     ]
    },
    {
     "data": {
      "application/vnd.jupyter.widget-view+json": {
       "model_id": "82d7626334c94397b0fcdd2d7a000acf",
       "version_major": 2,
       "version_minor": 0
      },
      "text/plain": [
       "Progress:   0%|          | 0/1 [00:00<?, ?it/s]"
      ]
     },
     "metadata": {},
     "output_type": "display_data"
    },
    {
     "name": "stdout",
     "output_type": "stream",
     "text": [
      "Finished run_number=382594\n",
      "Fetching files for run_number=382654\n"
     ]
    },
    {
     "data": {
      "application/vnd.jupyter.widget-view+json": {
       "model_id": "fada06118bcc40a299409d243d2131ff",
       "version_major": 2,
       "version_minor": 0
      },
      "text/plain": [
       "Progress:   0%|          | 0/1 [00:00<?, ?it/s]"
      ]
     },
     "metadata": {},
     "output_type": "display_data"
    },
    {
     "name": "stdout",
     "output_type": "stream",
     "text": [
      "Finished run_number=382654\n",
      "Fetching files for run_number=382684\n"
     ]
    },
    {
     "data": {
      "application/vnd.jupyter.widget-view+json": {
       "model_id": "b26b71634fde4207af0e0e7f60c5d5d7",
       "version_major": 2,
       "version_minor": 0
      },
      "text/plain": [
       "Progress:   0%|          | 0/1 [00:00<?, ?it/s]"
      ]
     },
     "metadata": {},
     "output_type": "display_data"
    },
    {
     "name": "stdout",
     "output_type": "stream",
     "text": [
      "Finished run_number=382684\n",
      "Fetching files for run_number=382769\n"
     ]
    },
    {
     "data": {
      "application/vnd.jupyter.widget-view+json": {
       "model_id": "eb7b624603894b83845b090352809da7",
       "version_major": 2,
       "version_minor": 0
      },
      "text/plain": [
       "Progress:   0%|          | 0/1 [00:00<?, ?it/s]"
      ]
     },
     "metadata": {},
     "output_type": "display_data"
    },
    {
     "name": "stdout",
     "output_type": "stream",
     "text": [
      "Finished run_number=382769\n",
      "Fetching files for run_number=382913\n"
     ]
    },
    {
     "data": {
      "application/vnd.jupyter.widget-view+json": {
       "model_id": "0d89f6756b0f4284883ef500ea9065f1",
       "version_major": 2,
       "version_minor": 0
      },
      "text/plain": [
       "Progress:   0%|          | 0/1 [00:00<?, ?it/s]"
      ]
     },
     "metadata": {},
     "output_type": "display_data"
    },
    {
     "name": "stdout",
     "output_type": "stream",
     "text": [
      "Finished run_number=382913\n",
      "Fetching files for run_number=382921\n"
     ]
    },
    {
     "data": {
      "application/vnd.jupyter.widget-view+json": {
       "model_id": "04d3c1b4672b4a889d32254e82c5ae8e",
       "version_major": 2,
       "version_minor": 0
      },
      "text/plain": [
       "Progress:   0%|          | 0/1 [00:00<?, ?it/s]"
      ]
     },
     "metadata": {},
     "output_type": "display_data"
    },
    {
     "name": "stdout",
     "output_type": "stream",
     "text": [
      "Finished run_number=382921\n",
      "Fetching files for run_number=383067\n"
     ]
    },
    {
     "data": {
      "application/vnd.jupyter.widget-view+json": {
       "model_id": "f3dd0357304541b4b47bc931cd53fdae",
       "version_major": 2,
       "version_minor": 0
      },
      "text/plain": [
       "Progress:   0%|          | 0/1 [00:00<?, ?it/s]"
      ]
     },
     "metadata": {},
     "output_type": "display_data"
    },
    {
     "name": "stdout",
     "output_type": "stream",
     "text": [
      "Finished run_number=383067\n",
      "Fetching files for run_number=383155\n"
     ]
    },
    {
     "data": {
      "application/vnd.jupyter.widget-view+json": {
       "model_id": "a35525babb9e48a29cfaa67d78b9d31b",
       "version_major": 2,
       "version_minor": 0
      },
      "text/plain": [
       "Progress:   0%|          | 0/1 [00:00<?, ?it/s]"
      ]
     },
     "metadata": {},
     "output_type": "display_data"
    },
    {
     "name": "stdout",
     "output_type": "stream",
     "text": [
      "Finished run_number=383155\n",
      "Fetching files for run_number=383162\n"
     ]
    },
    {
     "data": {
      "application/vnd.jupyter.widget-view+json": {
       "model_id": "e655c6ae4f1c44a2a4d68da049aba63f",
       "version_major": 2,
       "version_minor": 0
      },
      "text/plain": [
       "Progress:   0%|          | 0/1 [00:00<?, ?it/s]"
      ]
     },
     "metadata": {},
     "output_type": "display_data"
    },
    {
     "name": "stdout",
     "output_type": "stream",
     "text": [
      "Finished run_number=383162\n",
      "Fetching files for run_number=383174\n"
     ]
    },
    {
     "data": {
      "application/vnd.jupyter.widget-view+json": {
       "model_id": "c77ae824d43043ebbb68d823a79f9ed1",
       "version_major": 2,
       "version_minor": 0
      },
      "text/plain": [
       "Progress:   0%|          | 0/1 [00:00<?, ?it/s]"
      ]
     },
     "metadata": {},
     "output_type": "display_data"
    },
    {
     "name": "stdout",
     "output_type": "stream",
     "text": [
      "Finished run_number=383174\n",
      "Fetching files for run_number=383254\n"
     ]
    },
    {
     "data": {
      "application/vnd.jupyter.widget-view+json": {
       "model_id": "cd63426d568d41568c784d44bac1803c",
       "version_major": 2,
       "version_minor": 0
      },
      "text/plain": [
       "Progress:   0%|          | 0/1 [00:00<?, ?it/s]"
      ]
     },
     "metadata": {},
     "output_type": "display_data"
    },
    {
     "name": "stdout",
     "output_type": "stream",
     "text": [
      "Finished run_number=383254\n",
      "Fetching files for run_number=383323\n"
     ]
    },
    {
     "data": {
      "application/vnd.jupyter.widget-view+json": {
       "model_id": "247f2d9284a249d08401b531acb4bcec",
       "version_major": 2,
       "version_minor": 0
      },
      "text/plain": [
       "Progress:   0%|          | 0/1 [00:00<?, ?it/s]"
      ]
     },
     "metadata": {},
     "output_type": "display_data"
    },
    {
     "name": "stdout",
     "output_type": "stream",
     "text": [
      "Finished run_number=383323\n",
      "Fetching files for run_number=383368\n"
     ]
    },
    {
     "data": {
      "application/vnd.jupyter.widget-view+json": {
       "model_id": "ece7e861cbc44ba9a6f790375a8c1917",
       "version_major": 2,
       "version_minor": 0
      },
      "text/plain": [
       "Progress:   0%|          | 0/1 [00:00<?, ?it/s]"
      ]
     },
     "metadata": {},
     "output_type": "display_data"
    },
    {
     "name": "stdout",
     "output_type": "stream",
     "text": [
      "Finished run_number=383368\n",
      "Fetching files for run_number=383449\n"
     ]
    },
    {
     "data": {
      "application/vnd.jupyter.widget-view+json": {
       "model_id": "64a2dc8cc1ca4e26a08bad4855bdb3e7",
       "version_major": 2,
       "version_minor": 0
      },
      "text/plain": [
       "Progress:   0%|          | 0/1 [00:00<?, ?it/s]"
      ]
     },
     "metadata": {},
     "output_type": "display_data"
    },
    {
     "name": "stdout",
     "output_type": "stream",
     "text": [
      "Finished run_number=383449\n",
      "Fetching files for run_number=383468\n"
     ]
    },
    {
     "data": {
      "application/vnd.jupyter.widget-view+json": {
       "model_id": "463d3ca7330a43a3af4a3d7b28327e4b",
       "version_major": 2,
       "version_minor": 0
      },
      "text/plain": [
       "Progress:   0%|          | 0/1 [00:00<?, ?it/s]"
      ]
     },
     "metadata": {},
     "output_type": "display_data"
    },
    {
     "name": "stdout",
     "output_type": "stream",
     "text": [
      "Finished run_number=383468\n",
      "Fetching files for run_number=383487\n"
     ]
    },
    {
     "data": {
      "application/vnd.jupyter.widget-view+json": {
       "model_id": "1d4aac8139f24b82add391348c1010d3",
       "version_major": 2,
       "version_minor": 0
      },
      "text/plain": [
       "Progress:   0%|          | 0/1 [00:00<?, ?it/s]"
      ]
     },
     "metadata": {},
     "output_type": "display_data"
    },
    {
     "name": "stdout",
     "output_type": "stream",
     "text": [
      "Finished run_number=383487\n",
      "Fetching files for run_number=383512\n"
     ]
    },
    {
     "data": {
      "application/vnd.jupyter.widget-view+json": {
       "model_id": "0b67cdf557eb4e219ba2de3fcac0fb17",
       "version_major": 2,
       "version_minor": 0
      },
      "text/plain": [
       "Progress:   0%|          | 0/1 [00:00<?, ?it/s]"
      ]
     },
     "metadata": {},
     "output_type": "display_data"
    },
    {
     "name": "stdout",
     "output_type": "stream",
     "text": [
      "Finished run_number=383512\n",
      "Fetching files for run_number=383615\n"
     ]
    },
    {
     "data": {
      "application/vnd.jupyter.widget-view+json": {
       "model_id": "e31250b2879942e5816c9a5f07810801",
       "version_major": 2,
       "version_minor": 0
      },
      "text/plain": [
       "Progress:   0%|          | 0/1 [00:00<?, ?it/s]"
      ]
     },
     "metadata": {},
     "output_type": "display_data"
    },
    {
     "name": "stdout",
     "output_type": "stream",
     "text": [
      "Finished run_number=383615\n",
      "Fetching files for run_number=383631\n"
     ]
    },
    {
     "data": {
      "application/vnd.jupyter.widget-view+json": {
       "model_id": "d0146d461da64184a463a8a32c7b9cf4",
       "version_major": 2,
       "version_minor": 0
      },
      "text/plain": [
       "Progress:   0%|          | 0/1 [00:00<?, ?it/s]"
      ]
     },
     "metadata": {},
     "output_type": "display_data"
    },
    {
     "name": "stdout",
     "output_type": "stream",
     "text": [
      "Finished run_number=383631\n",
      "Fetching files for run_number=383712\n"
     ]
    },
    {
     "data": {
      "application/vnd.jupyter.widget-view+json": {
       "model_id": "05e9d8e99b6748f5b60f68825ef14ea2",
       "version_major": 2,
       "version_minor": 0
      },
      "text/plain": [
       "Progress:   0%|          | 0/1 [00:00<?, ?it/s]"
      ]
     },
     "metadata": {},
     "output_type": "display_data"
    },
    {
     "name": "stdout",
     "output_type": "stream",
     "text": [
      "Finished run_number=383712\n",
      "Fetching files for run_number=383756\n"
     ]
    },
    {
     "data": {
      "application/vnd.jupyter.widget-view+json": {
       "model_id": "5e43af6149b545ce9f98e35aa03eeabd",
       "version_major": 2,
       "version_minor": 0
      },
      "text/plain": [
       "Progress:   0%|          | 0/1 [00:00<?, ?it/s]"
      ]
     },
     "metadata": {},
     "output_type": "display_data"
    },
    {
     "name": "stdout",
     "output_type": "stream",
     "text": [
      "Finished run_number=383756\n",
      "Fetching files for run_number=383767\n"
     ]
    },
    {
     "data": {
      "application/vnd.jupyter.widget-view+json": {
       "model_id": "7dc7b6036905435cabdbdfd6af4137d1",
       "version_major": 2,
       "version_minor": 0
      },
      "text/plain": [
       "Progress:   0%|          | 0/1 [00:00<?, ?it/s]"
      ]
     },
     "metadata": {},
     "output_type": "display_data"
    },
    {
     "name": "stdout",
     "output_type": "stream",
     "text": [
      "Finished run_number=383767\n",
      "Fetching files for run_number=383814\n"
     ]
    },
    {
     "data": {
      "application/vnd.jupyter.widget-view+json": {
       "model_id": "5ff9843127574fe0be1c1e9071a573c6",
       "version_major": 2,
       "version_minor": 0
      },
      "text/plain": [
       "Progress:   0%|          | 0/1 [00:00<?, ?it/s]"
      ]
     },
     "metadata": {},
     "output_type": "display_data"
    },
    {
     "name": "stdout",
     "output_type": "stream",
     "text": [
      "Finished run_number=383814\n",
      "Fetching files for run_number=383854\n"
     ]
    },
    {
     "data": {
      "application/vnd.jupyter.widget-view+json": {
       "model_id": "4de7f10c1bf7469b84e0a3c4888d6c6d",
       "version_major": 2,
       "version_minor": 0
      },
      "text/plain": [
       "Progress:   0%|          | 0/1 [00:00<?, ?it/s]"
      ]
     },
     "metadata": {},
     "output_type": "display_data"
    },
    {
     "name": "stdout",
     "output_type": "stream",
     "text": [
      "Finished run_number=383854\n",
      "Fetching files for run_number=383903\n"
     ]
    },
    {
     "data": {
      "application/vnd.jupyter.widget-view+json": {
       "model_id": "070d8fcc61af445fae0df5acf9ff42fa",
       "version_major": 2,
       "version_minor": 0
      },
      "text/plain": [
       "Progress:   0%|          | 0/1 [00:00<?, ?it/s]"
      ]
     },
     "metadata": {},
     "output_type": "display_data"
    },
    {
     "name": "stdout",
     "output_type": "stream",
     "text": [
      "Finished run_number=383903\n",
      "Fetching files for run_number=383996\n"
     ]
    },
    {
     "data": {
      "application/vnd.jupyter.widget-view+json": {
       "model_id": "77cc2b82d1254028afaf56d4f9e493fb",
       "version_major": 2,
       "version_minor": 0
      },
      "text/plain": [
       "Progress:   0%|          | 0/1 [00:00<?, ?it/s]"
      ]
     },
     "metadata": {},
     "output_type": "display_data"
    },
    {
     "name": "stdout",
     "output_type": "stream",
     "text": [
      "Finished run_number=383996\n",
      "Fetching files for run_number=384052\n"
     ]
    },
    {
     "data": {
      "application/vnd.jupyter.widget-view+json": {
       "model_id": "99387797ac3c41e3baacaa897de41632",
       "version_major": 2,
       "version_minor": 0
      },
      "text/plain": [
       "Progress:   0%|          | 0/1 [00:00<?, ?it/s]"
      ]
     },
     "metadata": {},
     "output_type": "display_data"
    },
    {
     "name": "stdout",
     "output_type": "stream",
     "text": [
      "Finished run_number=384052\n",
      "Fetching files for run_number=384069\n"
     ]
    },
    {
     "data": {
      "application/vnd.jupyter.widget-view+json": {
       "model_id": "785ec225850f48aaa13f36f1e378bc05",
       "version_major": 2,
       "version_minor": 0
      },
      "text/plain": [
       "Progress:   0%|          | 0/1 [00:00<?, ?it/s]"
      ]
     },
     "metadata": {},
     "output_type": "display_data"
    },
    {
     "name": "stdout",
     "output_type": "stream",
     "text": [
      "Finished run_number=384069\n",
      "Fetching files for run_number=384128\n"
     ]
    },
    {
     "data": {
      "application/vnd.jupyter.widget-view+json": {
       "model_id": "748b4004e4d84970ae599c57fc681317",
       "version_major": 2,
       "version_minor": 0
      },
      "text/plain": [
       "Progress:   0%|          | 0/1 [00:00<?, ?it/s]"
      ]
     },
     "metadata": {},
     "output_type": "display_data"
    },
    {
     "name": "stdout",
     "output_type": "stream",
     "text": [
      "Finished run_number=384128\n",
      "Fetching files for run_number=384188\n"
     ]
    },
    {
     "data": {
      "application/vnd.jupyter.widget-view+json": {
       "model_id": "dbeb4c497a4245d3bf0793a3d2d0cb26",
       "version_major": 2,
       "version_minor": 0
      },
      "text/plain": [
       "Progress:   0%|          | 0/1 [00:00<?, ?it/s]"
      ]
     },
     "metadata": {},
     "output_type": "display_data"
    },
    {
     "name": "stdout",
     "output_type": "stream",
     "text": [
      "Finished run_number=384188\n",
      "Fetching files for run_number=384202\n"
     ]
    },
    {
     "data": {
      "application/vnd.jupyter.widget-view+json": {
       "model_id": "9414af62d59e42eebfef0503ca770d08",
       "version_major": 2,
       "version_minor": 0
      },
      "text/plain": [
       "Progress:   0%|          | 0/1 [00:00<?, ?it/s]"
      ]
     },
     "metadata": {},
     "output_type": "display_data"
    },
    {
     "name": "stdout",
     "output_type": "stream",
     "text": [
      "Finished run_number=384202\n",
      "Fetching files for run_number=384239\n"
     ]
    },
    {
     "data": {
      "application/vnd.jupyter.widget-view+json": {
       "model_id": "05e1c8f398534ad19d76e1640726f91b",
       "version_major": 2,
       "version_minor": 0
      },
      "text/plain": [
       "Progress:   0%|          | 0/1 [00:00<?, ?it/s]"
      ]
     },
     "metadata": {},
     "output_type": "display_data"
    },
    {
     "name": "stdout",
     "output_type": "stream",
     "text": [
      "Finished run_number=384239\n",
      "Fetching files for run_number=384291\n"
     ]
    },
    {
     "data": {
      "application/vnd.jupyter.widget-view+json": {
       "model_id": "d8c3f5cc392f4ab797cd1663f4d11c6a",
       "version_major": 2,
       "version_minor": 0
      },
      "text/plain": [
       "Progress:   0%|          | 0/1 [00:00<?, ?it/s]"
      ]
     },
     "metadata": {},
     "output_type": "display_data"
    },
    {
     "name": "stdout",
     "output_type": "stream",
     "text": [
      "Finished run_number=384291\n",
      "Fetching files for run_number=384383\n"
     ]
    },
    {
     "data": {
      "application/vnd.jupyter.widget-view+json": {
       "model_id": "aaeb4a47af7a42e28864fff164c0bfe0",
       "version_major": 2,
       "version_minor": 0
      },
      "text/plain": [
       "Progress:   0%|          | 0/1 [00:00<?, ?it/s]"
      ]
     },
     "metadata": {},
     "output_type": "display_data"
    },
    {
     "name": "stdout",
     "output_type": "stream",
     "text": [
      "Finished run_number=384383\n",
      "Fetching files for run_number=384413\n"
     ]
    },
    {
     "data": {
      "application/vnd.jupyter.widget-view+json": {
       "model_id": "6ed302534652498f8659537fc092a51f",
       "version_major": 2,
       "version_minor": 0
      },
      "text/plain": [
       "Progress:   0%|          | 0/1 [00:00<?, ?it/s]"
      ]
     },
     "metadata": {},
     "output_type": "display_data"
    },
    {
     "name": "stdout",
     "output_type": "stream",
     "text": [
      "Finished run_number=384413\n",
      "Fetching files for run_number=384468\n"
     ]
    },
    {
     "data": {
      "application/vnd.jupyter.widget-view+json": {
       "model_id": "07915e7501694c92ab8ff42ff6dca51e",
       "version_major": 2,
       "version_minor": 0
      },
      "text/plain": [
       "Progress:   0%|          | 0/1 [00:00<?, ?it/s]"
      ]
     },
     "metadata": {},
     "output_type": "display_data"
    },
    {
     "name": "stdout",
     "output_type": "stream",
     "text": [
      "Finished run_number=384468\n",
      "Fetching files for run_number=384492\n"
     ]
    },
    {
     "data": {
      "application/vnd.jupyter.widget-view+json": {
       "model_id": "1a8750a374c14ce1ba0a70b696d9bccf",
       "version_major": 2,
       "version_minor": 0
      },
      "text/plain": [
       "Progress:   0%|          | 0/1 [00:00<?, ?it/s]"
      ]
     },
     "metadata": {},
     "output_type": "display_data"
    },
    {
     "name": "stdout",
     "output_type": "stream",
     "text": [
      "Finished run_number=384492\n",
      "Fetching files for run_number=384565\n"
     ]
    },
    {
     "data": {
      "application/vnd.jupyter.widget-view+json": {
       "model_id": "2ccaa21782274bf79d4ee61a005f2c27",
       "version_major": 2,
       "version_minor": 0
      },
      "text/plain": [
       "Progress:   0%|          | 0/1 [00:00<?, ?it/s]"
      ]
     },
     "metadata": {},
     "output_type": "display_data"
    },
    {
     "name": "stdout",
     "output_type": "stream",
     "text": [
      "Finished run_number=384565\n",
      "Fetching files for run_number=384614\n"
     ]
    },
    {
     "data": {
      "application/vnd.jupyter.widget-view+json": {
       "model_id": "f479d16aa31f497288812ad464d8d44f",
       "version_major": 2,
       "version_minor": 0
      },
      "text/plain": [
       "Progress:   0%|          | 0/1 [00:00<?, ?it/s]"
      ]
     },
     "metadata": {},
     "output_type": "display_data"
    },
    {
     "name": "stdout",
     "output_type": "stream",
     "text": [
      "Finished run_number=384614\n",
      "Fetching files for run_number=384644\n"
     ]
    },
    {
     "data": {
      "application/vnd.jupyter.widget-view+json": {
       "model_id": "9b8df88aa0a041aea2794cef8e247ff5",
       "version_major": 2,
       "version_minor": 0
      },
      "text/plain": [
       "Progress:   0%|          | 0/1 [00:00<?, ?it/s]"
      ]
     },
     "metadata": {},
     "output_type": "display_data"
    },
    {
     "name": "stdout",
     "output_type": "stream",
     "text": [
      "Finished run_number=384644\n",
      "Fetching files for run_number=384935\n"
     ]
    },
    {
     "data": {
      "application/vnd.jupyter.widget-view+json": {
       "model_id": "735205e75faa43cfbf69fb7cdd820539",
       "version_major": 2,
       "version_minor": 0
      },
      "text/plain": [
       "Progress:   0%|          | 0/1 [00:00<?, ?it/s]"
      ]
     },
     "metadata": {},
     "output_type": "display_data"
    },
    {
     "name": "stdout",
     "output_type": "stream",
     "text": [
      "Finished run_number=384935\n",
      "Fetching files for run_number=384963\n"
     ]
    },
    {
     "data": {
      "application/vnd.jupyter.widget-view+json": {
       "model_id": "a8031f9b02714f4689ca6018be0d467c",
       "version_major": 2,
       "version_minor": 0
      },
      "text/plain": [
       "Progress:   0%|          | 0/1 [00:00<?, ?it/s]"
      ]
     },
     "metadata": {},
     "output_type": "display_data"
    },
    {
     "name": "stdout",
     "output_type": "stream",
     "text": [
      "Finished run_number=384963\n",
      "Fetching files for run_number=384981\n"
     ]
    },
    {
     "data": {
      "application/vnd.jupyter.widget-view+json": {
       "model_id": "a06ead3155284e8cae03e74288375252",
       "version_major": 2,
       "version_minor": 0
      },
      "text/plain": [
       "Progress:   0%|          | 0/1 [00:00<?, ?it/s]"
      ]
     },
     "metadata": {},
     "output_type": "display_data"
    },
    {
     "name": "stdout",
     "output_type": "stream",
     "text": [
      "Finished run_number=384981\n",
      "Fetching files for run_number=385054\n"
     ]
    },
    {
     "data": {
      "application/vnd.jupyter.widget-view+json": {
       "model_id": "99370aae0f7c402c9984083782985e85",
       "version_major": 2,
       "version_minor": 0
      },
      "text/plain": [
       "Progress:   0%|          | 0/1 [00:00<?, ?it/s]"
      ]
     },
     "metadata": {},
     "output_type": "display_data"
    },
    {
     "name": "stdout",
     "output_type": "stream",
     "text": [
      "Finished run_number=385054\n",
      "Fetching files for run_number=385094\n"
     ]
    },
    {
     "data": {
      "application/vnd.jupyter.widget-view+json": {
       "model_id": "76f907afc9b7464ab727227704aaddba",
       "version_major": 2,
       "version_minor": 0
      },
      "text/plain": [
       "Progress:   0%|          | 0/1 [00:00<?, ?it/s]"
      ]
     },
     "metadata": {},
     "output_type": "display_data"
    },
    {
     "name": "stdout",
     "output_type": "stream",
     "text": [
      "Finished run_number=385094\n",
      "Fetching files for run_number=385127\n"
     ]
    },
    {
     "data": {
      "application/vnd.jupyter.widget-view+json": {
       "model_id": "43da26d2cfb8481ea9a1813181b84a46",
       "version_major": 2,
       "version_minor": 0
      },
      "text/plain": [
       "Progress:   0%|          | 0/1 [00:00<?, ?it/s]"
      ]
     },
     "metadata": {},
     "output_type": "display_data"
    },
    {
     "name": "stdout",
     "output_type": "stream",
     "text": [
      "Finished run_number=385127\n",
      "Fetching files for run_number=385142\n"
     ]
    },
    {
     "data": {
      "application/vnd.jupyter.widget-view+json": {
       "model_id": "d2d766d8b6594d9ba1f7918c94c4dec2",
       "version_major": 2,
       "version_minor": 0
      },
      "text/plain": [
       "Progress:   0%|          | 0/1 [00:00<?, ?it/s]"
      ]
     },
     "metadata": {},
     "output_type": "display_data"
    },
    {
     "name": "stdout",
     "output_type": "stream",
     "text": [
      "Finished run_number=385142\n",
      "Fetching files for run_number=385152\n"
     ]
    },
    {
     "data": {
      "application/vnd.jupyter.widget-view+json": {
       "model_id": "3e84b4f72e4d47bfad4e25b81e86c17c",
       "version_major": 2,
       "version_minor": 0
      },
      "text/plain": [
       "Progress:   0%|          | 0/1 [00:00<?, ?it/s]"
      ]
     },
     "metadata": {},
     "output_type": "display_data"
    },
    {
     "name": "stdout",
     "output_type": "stream",
     "text": [
      "Finished run_number=385152\n",
      "Fetching files for run_number=385168\n"
     ]
    },
    {
     "data": {
      "application/vnd.jupyter.widget-view+json": {
       "model_id": "2763b935790f4f6baa72fcf222c31b25",
       "version_major": 2,
       "version_minor": 0
      },
      "text/plain": [
       "Progress:   0%|          | 0/1 [00:00<?, ?it/s]"
      ]
     },
     "metadata": {},
     "output_type": "display_data"
    },
    {
     "name": "stdout",
     "output_type": "stream",
     "text": [
      "Finished run_number=385168\n",
      "Fetching files for run_number=385194\n"
     ]
    },
    {
     "data": {
      "application/vnd.jupyter.widget-view+json": {
       "model_id": "d620ef6d25a244b8b54976f5e01bf81f",
       "version_major": 2,
       "version_minor": 0
      },
      "text/plain": [
       "Progress:   0%|          | 0/1 [00:00<?, ?it/s]"
      ]
     },
     "metadata": {},
     "output_type": "display_data"
    },
    {
     "name": "stdout",
     "output_type": "stream",
     "text": [
      "Finished run_number=385194\n",
      "Fetching files for run_number=385281\n"
     ]
    },
    {
     "data": {
      "application/vnd.jupyter.widget-view+json": {
       "model_id": "5481574fcbf3441191f7470c3f9b9a32",
       "version_major": 2,
       "version_minor": 0
      },
      "text/plain": [
       "Progress:   0%|          | 0/1 [00:00<?, ?it/s]"
      ]
     },
     "metadata": {},
     "output_type": "display_data"
    },
    {
     "name": "stdout",
     "output_type": "stream",
     "text": [
      "Finished run_number=385281\n",
      "Fetching files for run_number=385286\n"
     ]
    },
    {
     "data": {
      "application/vnd.jupyter.widget-view+json": {
       "model_id": "e33f205ca1f74bb0bcf658b479257414",
       "version_major": 2,
       "version_minor": 0
      },
      "text/plain": [
       "Progress:   0%|          | 0/1 [00:00<?, ?it/s]"
      ]
     },
     "metadata": {},
     "output_type": "display_data"
    },
    {
     "name": "stdout",
     "output_type": "stream",
     "text": [
      "Finished run_number=385286\n",
      "Fetching files for run_number=385324\n"
     ]
    },
    {
     "data": {
      "application/vnd.jupyter.widget-view+json": {
       "model_id": "b9f6a3781a7b4572995f1c4183ffc92a",
       "version_major": 2,
       "version_minor": 0
      },
      "text/plain": [
       "Progress:   0%|          | 0/1 [00:00<?, ?it/s]"
      ]
     },
     "metadata": {},
     "output_type": "display_data"
    },
    {
     "name": "stdout",
     "output_type": "stream",
     "text": [
      "Finished run_number=385324\n",
      "Fetching files for run_number=385390\n"
     ]
    },
    {
     "data": {
      "application/vnd.jupyter.widget-view+json": {
       "model_id": "ce0e79e30805458aa0bec4ebbdc2d769",
       "version_major": 2,
       "version_minor": 0
      },
      "text/plain": [
       "Progress:   0%|          | 0/1 [00:00<?, ?it/s]"
      ]
     },
     "metadata": {},
     "output_type": "display_data"
    },
    {
     "name": "stdout",
     "output_type": "stream",
     "text": [
      "Finished run_number=385390\n",
      "Fetching files for run_number=385422\n"
     ]
    },
    {
     "data": {
      "application/vnd.jupyter.widget-view+json": {
       "model_id": "8e7a92bcc46b4f6c95644a04a8d87a50",
       "version_major": 2,
       "version_minor": 0
      },
      "text/plain": [
       "Progress:   0%|          | 0/1 [00:00<?, ?it/s]"
      ]
     },
     "metadata": {},
     "output_type": "display_data"
    },
    {
     "name": "stdout",
     "output_type": "stream",
     "text": [
      "Finished run_number=385422\n",
      "Fetching files for run_number=385443\n"
     ]
    },
    {
     "data": {
      "application/vnd.jupyter.widget-view+json": {
       "model_id": "97627e52b69f47a8b31ec73c517b6a3c",
       "version_major": 2,
       "version_minor": 0
      },
      "text/plain": [
       "Progress:   0%|          | 0/1 [00:00<?, ?it/s]"
      ]
     },
     "metadata": {},
     "output_type": "display_data"
    },
    {
     "name": "stdout",
     "output_type": "stream",
     "text": [
      "Finished run_number=385443\n",
      "Fetching files for run_number=385515\n"
     ]
    },
    {
     "data": {
      "application/vnd.jupyter.widget-view+json": {
       "model_id": "6ae162816b064f2f883a5293e0a26830",
       "version_major": 2,
       "version_minor": 0
      },
      "text/plain": [
       "Progress:   0%|          | 0/1 [00:00<?, ?it/s]"
      ]
     },
     "metadata": {},
     "output_type": "display_data"
    },
    {
     "name": "stdout",
     "output_type": "stream",
     "text": [
      "Finished run_number=385515\n",
      "Fetching files for run_number=385604\n"
     ]
    },
    {
     "data": {
      "application/vnd.jupyter.widget-view+json": {
       "model_id": "10d51a547daa45358c003f99cb8bc8a5",
       "version_major": 2,
       "version_minor": 0
      },
      "text/plain": [
       "Progress:   0%|          | 0/1 [00:00<?, ?it/s]"
      ]
     },
     "metadata": {},
     "output_type": "display_data"
    },
    {
     "name": "stdout",
     "output_type": "stream",
     "text": [
      "Finished run_number=385604\n",
      "Fetching files for run_number=385620\n"
     ]
    },
    {
     "data": {
      "application/vnd.jupyter.widget-view+json": {
       "model_id": "0822a6fed1014292b26a1f0c7ee98632",
       "version_major": 2,
       "version_minor": 0
      },
      "text/plain": [
       "Progress:   0%|          | 0/1 [00:00<?, ?it/s]"
      ]
     },
     "metadata": {},
     "output_type": "display_data"
    },
    {
     "name": "stdout",
     "output_type": "stream",
     "text": [
      "Finished run_number=385620\n",
      "Fetching files for run_number=385728\n"
     ]
    },
    {
     "data": {
      "application/vnd.jupyter.widget-view+json": {
       "model_id": "f17d69de0ae64beb87da331837698426",
       "version_major": 2,
       "version_minor": 0
      },
      "text/plain": [
       "Progress:   0%|          | 0/1 [00:00<?, ?it/s]"
      ]
     },
     "metadata": {},
     "output_type": "display_data"
    },
    {
     "name": "stdout",
     "output_type": "stream",
     "text": [
      "Finished run_number=385728\n",
      "Fetching files for run_number=385738\n"
     ]
    },
    {
     "data": {
      "application/vnd.jupyter.widget-view+json": {
       "model_id": "877b255b961e4bf18e4221e1589a5d69",
       "version_major": 2,
       "version_minor": 0
      },
      "text/plain": [
       "Progress:   0%|          | 0/1 [00:00<?, ?it/s]"
      ]
     },
     "metadata": {},
     "output_type": "display_data"
    },
    {
     "name": "stdout",
     "output_type": "stream",
     "text": [
      "Finished run_number=385738\n",
      "Fetching files for run_number=385764\n"
     ]
    },
    {
     "data": {
      "application/vnd.jupyter.widget-view+json": {
       "model_id": "e558803ff84b44bca8250b035603a5c6",
       "version_major": 2,
       "version_minor": 0
      },
      "text/plain": [
       "Progress:   0%|          | 0/1 [00:00<?, ?it/s]"
      ]
     },
     "metadata": {},
     "output_type": "display_data"
    },
    {
     "name": "stdout",
     "output_type": "stream",
     "text": [
      "Finished run_number=385764\n",
      "Fetching files for run_number=385842\n"
     ]
    },
    {
     "data": {
      "application/vnd.jupyter.widget-view+json": {
       "model_id": "dcd46111866d42b2a6f19dbd1de2fc9f",
       "version_major": 2,
       "version_minor": 0
      },
      "text/plain": [
       "Progress:   0%|          | 0/1 [00:00<?, ?it/s]"
      ]
     },
     "metadata": {},
     "output_type": "display_data"
    },
    {
     "name": "stdout",
     "output_type": "stream",
     "text": [
      "Finished run_number=385842\n",
      "Fetching files for run_number=385889\n"
     ]
    },
    {
     "data": {
      "application/vnd.jupyter.widget-view+json": {
       "model_id": "9b11080f86df443393e2a58c1f9737e3",
       "version_major": 2,
       "version_minor": 0
      },
      "text/plain": [
       "Progress:   0%|          | 0/1 [00:00<?, ?it/s]"
      ]
     },
     "metadata": {},
     "output_type": "display_data"
    },
    {
     "name": "stdout",
     "output_type": "stream",
     "text": [
      "Finished run_number=385889\n",
      "Fetching files for run_number=385934\n"
     ]
    },
    {
     "data": {
      "application/vnd.jupyter.widget-view+json": {
       "model_id": "5b99ca582d50479795c282f10def2f0e",
       "version_major": 2,
       "version_minor": 0
      },
      "text/plain": [
       "Progress:   0%|          | 0/1 [00:00<?, ?it/s]"
      ]
     },
     "metadata": {},
     "output_type": "display_data"
    },
    {
     "name": "stdout",
     "output_type": "stream",
     "text": [
      "Finished run_number=385934\n",
      "Fetching files for run_number=385986\n"
     ]
    },
    {
     "data": {
      "application/vnd.jupyter.widget-view+json": {
       "model_id": "5c46ff473ffd4ecea172daa91e7a67ed",
       "version_major": 2,
       "version_minor": 0
      },
      "text/plain": [
       "Progress:   0%|          | 0/1 [00:00<?, ?it/s]"
      ]
     },
     "metadata": {},
     "output_type": "display_data"
    },
    {
     "name": "stdout",
     "output_type": "stream",
     "text": [
      "Finished run_number=385986\n",
      "Fetching files for run_number=386025\n"
     ]
    },
    {
     "data": {
      "application/vnd.jupyter.widget-view+json": {
       "model_id": "e6497ec241c54abe8081a971bec28709",
       "version_major": 2,
       "version_minor": 0
      },
      "text/plain": [
       "Progress:   0%|          | 0/1 [00:00<?, ?it/s]"
      ]
     },
     "metadata": {},
     "output_type": "display_data"
    },
    {
     "name": "stdout",
     "output_type": "stream",
     "text": [
      "Finished run_number=386025\n",
      "Fetching files for run_number=386071\n"
     ]
    },
    {
     "data": {
      "application/vnd.jupyter.widget-view+json": {
       "model_id": "564d2960b8a6415b8f0cf05696f03225",
       "version_major": 2,
       "version_minor": 0
      },
      "text/plain": [
       "Progress:   0%|          | 0/1 [00:00<?, ?it/s]"
      ]
     },
     "metadata": {},
     "output_type": "display_data"
    },
    {
     "name": "stdout",
     "output_type": "stream",
     "text": [
      "Finished run_number=386071\n",
      "Fetching files for run_number=386218\n"
     ]
    },
    {
     "data": {
      "application/vnd.jupyter.widget-view+json": {
       "model_id": "e3de6848695644398c7fc37fa1991acb",
       "version_major": 2,
       "version_minor": 0
      },
      "text/plain": [
       "Progress:   0%|          | 0/1 [00:00<?, ?it/s]"
      ]
     },
     "metadata": {},
     "output_type": "display_data"
    },
    {
     "name": "stdout",
     "output_type": "stream",
     "text": [
      "Finished run_number=386218\n",
      "Fetching files for run_number=386509\n"
     ]
    },
    {
     "data": {
      "application/vnd.jupyter.widget-view+json": {
       "model_id": "d3c24f819fd647e690a2382a6344e70c",
       "version_major": 2,
       "version_minor": 0
      },
      "text/plain": [
       "Progress:   0%|          | 0/1 [00:00<?, ?it/s]"
      ]
     },
     "metadata": {},
     "output_type": "display_data"
    },
    {
     "name": "stdout",
     "output_type": "stream",
     "text": [
      "Finished run_number=386509\n",
      "Fetching files for run_number=386554\n"
     ]
    },
    {
     "data": {
      "application/vnd.jupyter.widget-view+json": {
       "model_id": "face8571f3e041d1bdef358da943057c",
       "version_major": 2,
       "version_minor": 0
      },
      "text/plain": [
       "Progress:   0%|          | 0/1 [00:00<?, ?it/s]"
      ]
     },
     "metadata": {},
     "output_type": "display_data"
    },
    {
     "name": "stdout",
     "output_type": "stream",
     "text": [
      "Finished run_number=386554\n",
      "Fetching files for run_number=386604\n"
     ]
    },
    {
     "data": {
      "application/vnd.jupyter.widget-view+json": {
       "model_id": "22ce884e279a4c659cdc1a28b5701cc7",
       "version_major": 2,
       "version_minor": 0
      },
      "text/plain": [
       "Progress:   0%|          | 0/1 [00:00<?, ?it/s]"
      ]
     },
     "metadata": {},
     "output_type": "display_data"
    },
    {
     "name": "stdout",
     "output_type": "stream",
     "text": [
      "Finished run_number=386604\n",
      "Fetching files for run_number=386640\n"
     ]
    },
    {
     "data": {
      "application/vnd.jupyter.widget-view+json": {
       "model_id": "bac706895024468f96ba939473ad85bc",
       "version_major": 2,
       "version_minor": 0
      },
      "text/plain": [
       "Progress:   0%|          | 0/1 [00:00<?, ?it/s]"
      ]
     },
     "metadata": {},
     "output_type": "display_data"
    },
    {
     "name": "stdout",
     "output_type": "stream",
     "text": [
      "Finished run_number=386640\n",
      "Fetching files for run_number=386694\n"
     ]
    },
    {
     "data": {
      "application/vnd.jupyter.widget-view+json": {
       "model_id": "cd3718a07d164f49a94e2ae9a4a793f2",
       "version_major": 2,
       "version_minor": 0
      },
      "text/plain": [
       "Progress:   0%|          | 0/1 [00:00<?, ?it/s]"
      ]
     },
     "metadata": {},
     "output_type": "display_data"
    },
    {
     "name": "stdout",
     "output_type": "stream",
     "text": [
      "Finished run_number=386694\n",
      "Fetching files for run_number=386704\n"
     ]
    },
    {
     "data": {
      "application/vnd.jupyter.widget-view+json": {
       "model_id": "e5151c8dc5894c58b83a36781ccb1d84",
       "version_major": 2,
       "version_minor": 0
      },
      "text/plain": [
       "Progress:   0%|          | 0/1 [00:00<?, ?it/s]"
      ]
     },
     "metadata": {},
     "output_type": "display_data"
    },
    {
     "ename": "ImpossibleToRefreshTokenError",
     "evalue": "",
     "output_type": "error",
     "traceback": [
      "\u001b[0;31m---------------------------------------------------------------------------\u001b[0m",
      "\u001b[0;31mImpossibleToRefreshTokenError\u001b[0m             Traceback (most recent call last)",
      "\u001b[0;32m/tmp/ipykernel_1837/3758750070.py\u001b[0m in \u001b[0;36m<module>\u001b[0;34m\u001b[0m\n\u001b[1;32m      2\u001b[0m \u001b[0;32mfor\u001b[0m \u001b[0mrun_number\u001b[0m \u001b[0;32min\u001b[0m \u001b[0mrun_numbers\u001b[0m\u001b[0;34m:\u001b[0m\u001b[0;34m\u001b[0m\u001b[0;34m\u001b[0m\u001b[0m\n\u001b[1;32m      3\u001b[0m     \u001b[0mprint\u001b[0m\u001b[0;34m(\u001b[0m\u001b[0;34mf\"Fetching files for {run_number=}\"\u001b[0m\u001b[0;34m)\u001b[0m\u001b[0;34m\u001b[0m\u001b[0;34m\u001b[0m\u001b[0m\n\u001b[0;32m----> 4\u001b[0;31m     h2d_df = dials.h2d.list_all(LumisectionHistogram2DFilters(**kwargs,run_number=run_number,me__regex=\"Hcal/DigiTask/OccupancyCut/*\"),\n\u001b[0m\u001b[1;32m      5\u001b[0m                                 enable_progress=True).to_pandas()\n\u001b[1;32m      6\u001b[0m     \u001b[0;31m# df_list.append(h2d_df)\u001b[0m\u001b[0;34m\u001b[0m\u001b[0;34m\u001b[0m\u001b[0m\n",
      "\u001b[0;32m~/.local/lib/python3.11/site-packages/cmsdials/utils/api_client.py\u001b[0m in \u001b[0;36mlist_all\u001b[0;34m(self, filters, max_pages, **kwargs)\u001b[0m\n\u001b[1;32m    224\u001b[0m         \u001b[0;32mif\u001b[0m \u001b[0mself\u001b[0m\u001b[0;34m.\u001b[0m\u001b[0mpagination_model\u001b[0m \u001b[0;32mis\u001b[0m \u001b[0;32mNone\u001b[0m\u001b[0;34m:\u001b[0m\u001b[0;34m\u001b[0m\u001b[0;34m\u001b[0m\u001b[0m\n\u001b[1;32m    225\u001b[0m             \u001b[0;32mreturn\u001b[0m \u001b[0mself\u001b[0m\u001b[0;34m.\u001b[0m\u001b[0mlist\u001b[0m\u001b[0;34m(\u001b[0m\u001b[0mfilters\u001b[0m\u001b[0;34m,\u001b[0m \u001b[0mretries\u001b[0m\u001b[0;34m=\u001b[0m\u001b[0mkwargs\u001b[0m\u001b[0;34m.\u001b[0m\u001b[0mget\u001b[0m\u001b[0;34m(\u001b[0m\u001b[0;34m\"retries\"\u001b[0m\u001b[0;34m,\u001b[0m \u001b[0mDEFAULT_RETRIES\u001b[0m\u001b[0;34m)\u001b[0m\u001b[0;34m)\u001b[0m\u001b[0;34m\u001b[0m\u001b[0;34m\u001b[0m\u001b[0m\n\u001b[0;32m--> 226\u001b[0;31m         \u001b[0;32mreturn\u001b[0m \u001b[0mself\u001b[0m\u001b[0;34m.\u001b[0m\u001b[0m__list_sync\u001b[0m\u001b[0;34m(\u001b[0m\u001b[0mfilters\u001b[0m\u001b[0;34m,\u001b[0m \u001b[0mmax_pages\u001b[0m\u001b[0;34m,\u001b[0m \u001b[0;34m**\u001b[0m\u001b[0mkwargs\u001b[0m\u001b[0;34m)\u001b[0m\u001b[0;34m\u001b[0m\u001b[0;34m\u001b[0m\u001b[0m\n\u001b[0m",
      "\u001b[0;32m~/.local/lib/python3.11/site-packages/cmsdials/utils/api_client.py\u001b[0m in \u001b[0;36m__list_sync\u001b[0;34m(self, filters, max_pages, enable_progress, retries, keep_failed, resume_from)\u001b[0m\n\u001b[1;32m    183\u001b[0m \u001b[0;34m\u001b[0m\u001b[0m\n\u001b[1;32m    184\u001b[0m                 \u001b[0;32mif\u001b[0m \u001b[0;32mnot\u001b[0m \u001b[0mkeep_failed\u001b[0m\u001b[0;34m:\u001b[0m\u001b[0;34m\u001b[0m\u001b[0;34m\u001b[0m\u001b[0m\n\u001b[0;32m--> 185\u001b[0;31m                     \u001b[0;32mraise\u001b[0m \u001b[0me\u001b[0m\u001b[0;34m\u001b[0m\u001b[0;34m\u001b[0m\u001b[0m\n\u001b[0m\u001b[1;32m    186\u001b[0m \u001b[0;34m\u001b[0m\u001b[0m\n\u001b[1;32m    187\u001b[0m                 \u001b[0mexc_formatted\u001b[0m \u001b[0;34m=\u001b[0m \u001b[0mformat_exc\u001b[0m\u001b[0;34m(\u001b[0m\u001b[0;34m)\u001b[0m\u001b[0;34m\u001b[0m\u001b[0;34m\u001b[0m\u001b[0m\n",
      "\u001b[0;32m~/.local/lib/python3.11/site-packages/cmsdials/utils/api_client.py\u001b[0m in \u001b[0;36m__list_sync\u001b[0;34m(self, filters, max_pages, enable_progress, retries, keep_failed, resume_from)\u001b[0m\n\u001b[1;32m    177\u001b[0m             \u001b[0mcurr_filters\u001b[0m\u001b[0;34m.\u001b[0m\u001b[0mnext_token\u001b[0m \u001b[0;34m=\u001b[0m \u001b[0mnext_token\u001b[0m\u001b[0;34m\u001b[0m\u001b[0;34m\u001b[0m\u001b[0m\n\u001b[1;32m    178\u001b[0m             \u001b[0;32mtry\u001b[0m\u001b[0;34m:\u001b[0m\u001b[0;34m\u001b[0m\u001b[0;34m\u001b[0m\u001b[0m\n\u001b[0;32m--> 179\u001b[0;31m                 \u001b[0mresponse\u001b[0m \u001b[0;34m=\u001b[0m \u001b[0mself\u001b[0m\u001b[0;34m.\u001b[0m\u001b[0mlist\u001b[0m\u001b[0;34m(\u001b[0m\u001b[0mcurr_filters\u001b[0m\u001b[0;34m,\u001b[0m \u001b[0mretries\u001b[0m\u001b[0;34m=\u001b[0m\u001b[0mretries\u001b[0m\u001b[0;34m)\u001b[0m\u001b[0;34m\u001b[0m\u001b[0;34m\u001b[0m\u001b[0m\n\u001b[0m\u001b[1;32m    180\u001b[0m             \u001b[0;32mexcept\u001b[0m \u001b[0mException\u001b[0m \u001b[0;32mas\u001b[0m \u001b[0me\u001b[0m\u001b[0;34m:\u001b[0m  \u001b[0;31m# noqa: BLE001\u001b[0m\u001b[0;34m\u001b[0m\u001b[0;34m\u001b[0m\u001b[0m\n\u001b[1;32m    181\u001b[0m                 \u001b[0;32mif\u001b[0m \u001b[0muse_tqdm\u001b[0m\u001b[0;34m:\u001b[0m\u001b[0;34m\u001b[0m\u001b[0;34m\u001b[0m\u001b[0m\n",
      "\u001b[0;32m~/.local/lib/python3.11/site-packages/cmsdials/utils/api_client.py\u001b[0m in \u001b[0;36mlist\u001b[0;34m(self, filters, retries)\u001b[0m\n\u001b[1;32m    119\u001b[0m         \u001b[0mfilters\u001b[0m \u001b[0;34m=\u001b[0m \u001b[0mfilters\u001b[0m \u001b[0;32mor\u001b[0m \u001b[0mself\u001b[0m\u001b[0;34m.\u001b[0m\u001b[0mfilter_class\u001b[0m\u001b[0;34m(\u001b[0m\u001b[0;34m)\u001b[0m\u001b[0;34m\u001b[0m\u001b[0;34m\u001b[0m\u001b[0m\n\u001b[1;32m    120\u001b[0m         \u001b[0mendpoint_url\u001b[0m \u001b[0;34m=\u001b[0m \u001b[0mself\u001b[0m\u001b[0;34m.\u001b[0m\u001b[0mapi_url\u001b[0m \u001b[0;34m+\u001b[0m \u001b[0mself\u001b[0m\u001b[0;34m.\u001b[0m\u001b[0mlookup_url\u001b[0m\u001b[0;34m\u001b[0m\u001b[0;34m\u001b[0m\u001b[0m\n\u001b[0;32m--> 121\u001b[0;31m         \u001b[0mheaders\u001b[0m \u001b[0;34m=\u001b[0m \u001b[0mself\u001b[0m\u001b[0;34m.\u001b[0m\u001b[0m_build_headers\u001b[0m\u001b[0;34m(\u001b[0m\u001b[0;34m)\u001b[0m\u001b[0;34m\u001b[0m\u001b[0;34m\u001b[0m\u001b[0m\n\u001b[0m\u001b[1;32m    122\u001b[0m         response = self._requests_get_retriable(\n\u001b[1;32m    123\u001b[0m             \u001b[0mendpoint_url\u001b[0m\u001b[0;34m,\u001b[0m\u001b[0;34m\u001b[0m\u001b[0;34m\u001b[0m\u001b[0m\n",
      "\u001b[0;32m~/.local/lib/python3.11/site-packages/cmsdials/utils/api_client.py\u001b[0m in \u001b[0;36m_build_headers\u001b[0;34m(self)\u001b[0m\n\u001b[1;32m     91\u001b[0m         \u001b[0;32mif\u001b[0m \u001b[0mself\u001b[0m\u001b[0;34m.\u001b[0m\u001b[0mworkspace\u001b[0m \u001b[0;32mis\u001b[0m \u001b[0;32mnot\u001b[0m \u001b[0;32mNone\u001b[0m\u001b[0;34m:\u001b[0m\u001b[0;34m\u001b[0m\u001b[0;34m\u001b[0m\u001b[0m\n\u001b[1;32m     92\u001b[0m             \u001b[0mbase\u001b[0m\u001b[0;34m[\u001b[0m\u001b[0;34m\"Workspace\"\u001b[0m\u001b[0;34m]\u001b[0m \u001b[0;34m=\u001b[0m \u001b[0mself\u001b[0m\u001b[0;34m.\u001b[0m\u001b[0mworkspace\u001b[0m\u001b[0;34m\u001b[0m\u001b[0;34m\u001b[0m\u001b[0m\n\u001b[0;32m---> 93\u001b[0;31m         \u001b[0mself\u001b[0m\u001b[0;34m.\u001b[0m\u001b[0mcreds\u001b[0m\u001b[0;34m.\u001b[0m\u001b[0mbefore_request\u001b[0m\u001b[0;34m(\u001b[0m\u001b[0mbase\u001b[0m\u001b[0;34m)\u001b[0m\u001b[0;34m\u001b[0m\u001b[0;34m\u001b[0m\u001b[0m\n\u001b[0m\u001b[1;32m     94\u001b[0m         \u001b[0;32mreturn\u001b[0m \u001b[0mbase\u001b[0m\u001b[0;34m\u001b[0m\u001b[0;34m\u001b[0m\u001b[0m\n\u001b[1;32m     95\u001b[0m \u001b[0;34m\u001b[0m\u001b[0m\n",
      "\u001b[0;32m~/.local/lib/python3.11/site-packages/cmsdials/auth/_base.py\u001b[0m in \u001b[0;36mbefore_request\u001b[0;34m(self, headers)\u001b[0m\n\u001b[1;32m    117\u001b[0m         \u001b[0;31m# User need to interactively authenticate again\u001b[0m\u001b[0;34m\u001b[0m\u001b[0;34m\u001b[0m\u001b[0m\n\u001b[1;32m    118\u001b[0m         \u001b[0;32mif\u001b[0m \u001b[0mself\u001b[0m\u001b[0;34m.\u001b[0m\u001b[0mtoken_state\u001b[0m \u001b[0;34m==\u001b[0m \u001b[0mTokenState\u001b[0m\u001b[0;34m.\u001b[0m\u001b[0mINVALID\u001b[0m\u001b[0;34m:\u001b[0m\u001b[0;34m\u001b[0m\u001b[0;34m\u001b[0m\u001b[0m\n\u001b[0;32m--> 119\u001b[0;31m             \u001b[0;32mraise\u001b[0m \u001b[0mImpossibleToRefreshTokenError\u001b[0m\u001b[0;34m\u001b[0m\u001b[0;34m\u001b[0m\u001b[0m\n\u001b[0m\u001b[1;32m    120\u001b[0m \u001b[0;34m\u001b[0m\u001b[0m\n\u001b[1;32m    121\u001b[0m         \u001b[0;31m# If token is stale (token is close to expire)\u001b[0m\u001b[0;34m\u001b[0m\u001b[0;34m\u001b[0m\u001b[0m\n",
      "\u001b[0;31mImpossibleToRefreshTokenError\u001b[0m: "
     ]
    }
   ],
   "source": [
    "# df_list = []\n",
    "for run_number in run_numbers:\n",
    "    print(f\"Fetching files for {run_number=}\")\n",
    "    h2d_df = dials.h2d.list_all(LumisectionHistogram2DFilters(**kwargs,run_number=run_number,me__regex=\"Hcal/DigiTask/OccupancyCut/*\"),\n",
    "                                enable_progress=True).to_pandas()\n",
    "    # df_list.append(h2d_df)\n",
    "    files_list = []\n",
    "    \n",
    "    for i in h2d_df.file_id.unique():\n",
    "        if i in files.file_id.unique():\n",
    "            files_list.append(files[files.loc[:,\"file_id\"] == i])\n",
    "    temp = pd.concat(files_list)\n",
    "    temp.insert(0,\"run_number\",value = run_number)\n",
    "    temp.loc[:,\"logical_file_name\"] = temp.logical_file_name.apply(lambda x: redir+x)\n",
    "    temp.to_csv(f\"root_files/{run_number}.csv\",index=False)\n",
    "    print(f\"Finished {run_number=}\")\n",
    "    del temp\n",
    "    del h2d_df\n",
    "\n",
    "\n"
   ]
  },
  {
   "cell_type": "markdown",
   "id": "cce8d52f-491c-4094-8b85-7495e3c20cf8",
   "metadata": {},
   "source": [
    "# Now lets concatenate all the files into 1 Dataframe"
   ]
  },
  {
   "cell_type": "code",
   "execution_count": 2,
   "id": "e2a749a0-2e3d-4bc9-b228-442375b23de5",
   "metadata": {},
   "outputs": [],
   "source": [
    "from glob import glob"
   ]
  },
  {
   "cell_type": "code",
   "execution_count": 3,
   "id": "a7cc2350-3a84-4cb3-a755-d7d3e99bbe8d",
   "metadata": {},
   "outputs": [],
   "source": [
    "df_list = [pd.read_csv(i) for i in glob(\"root_files/*.csv\") ]"
   ]
  },
  {
   "cell_type": "code",
   "execution_count": 4,
   "id": "96e4d190-ca81-481d-a7d9-f633a9ce7b7b",
   "metadata": {},
   "outputs": [],
   "source": [
    "df = pd.concat(df_list)\n",
    "\n",
    "df = df.rename(columns={\"Unnamed: 0\": \"old_index\"})"
   ]
  },
  {
   "cell_type": "code",
   "execution_count": 5,
   "id": "d47f7b3e-799b-4102-889c-82b90155bf1c",
   "metadata": {},
   "outputs": [
    {
     "data": {
      "text/html": [
       "<div>\n",
       "<style scoped>\n",
       "    .dataframe tbody tr th:only-of-type {\n",
       "        vertical-align: middle;\n",
       "    }\n",
       "\n",
       "    .dataframe tbody tr th {\n",
       "        vertical-align: top;\n",
       "    }\n",
       "\n",
       "    .dataframe thead th {\n",
       "        text-align: right;\n",
       "    }\n",
       "</style>\n",
       "<table border=\"1\" class=\"dataframe\">\n",
       "  <thead>\n",
       "    <tr style=\"text-align: right;\">\n",
       "      <th></th>\n",
       "      <th>old_index</th>\n",
       "      <th>run_number</th>\n",
       "      <th>dataset_id</th>\n",
       "      <th>dataset</th>\n",
       "      <th>file_id</th>\n",
       "      <th>file_size</th>\n",
       "      <th>creation_date</th>\n",
       "      <th>last_modification_date</th>\n",
       "      <th>logical_file_name</th>\n",
       "      <th>status</th>\n",
       "      <th>err_trace</th>\n",
       "    </tr>\n",
       "  </thead>\n",
       "  <tbody>\n",
       "    <tr>\n",
       "      <th>0</th>\n",
       "      <td>130</td>\n",
       "      <td>379154</td>\n",
       "      <td>14944573</td>\n",
       "      <td>/ZeroBias/Run2024B-PromptReco-v1/DQMIO</td>\n",
       "      <td>14097406797</td>\n",
       "      <td>335001931</td>\n",
       "      <td>2024-04-11 13:42:21+00:00</td>\n",
       "      <td>2024-04-11 13:42:21+00:00</td>\n",
       "      <td>root://eoscms.cern.ch//eos/cms/store/data/Run2...</td>\n",
       "      <td>FINISHED</td>\n",
       "      <td>NaN</td>\n",
       "    </tr>\n",
       "    <tr>\n",
       "      <th>1</th>\n",
       "      <td>131</td>\n",
       "      <td>379154</td>\n",
       "      <td>14944573</td>\n",
       "      <td>/ZeroBias/Run2024B-PromptReco-v1/DQMIO</td>\n",
       "      <td>14097406837</td>\n",
       "      <td>390919623</td>\n",
       "      <td>2024-04-11 13:42:21+00:00</td>\n",
       "      <td>2024-04-11 13:42:21+00:00</td>\n",
       "      <td>root://eoscms.cern.ch//eos/cms/store/data/Run2...</td>\n",
       "      <td>FINISHED</td>\n",
       "      <td>NaN</td>\n",
       "    </tr>\n",
       "    <tr>\n",
       "      <th>2</th>\n",
       "      <td>132</td>\n",
       "      <td>379154</td>\n",
       "      <td>14944573</td>\n",
       "      <td>/ZeroBias/Run2024B-PromptReco-v1/DQMIO</td>\n",
       "      <td>14097406877</td>\n",
       "      <td>427523932</td>\n",
       "      <td>2024-04-11 13:42:21+00:00</td>\n",
       "      <td>2024-04-11 13:42:21+00:00</td>\n",
       "      <td>root://eoscms.cern.ch//eos/cms/store/data/Run2...</td>\n",
       "      <td>FINISHED</td>\n",
       "      <td>NaN</td>\n",
       "    </tr>\n",
       "    <tr>\n",
       "      <th>3</th>\n",
       "      <td>133</td>\n",
       "      <td>379154</td>\n",
       "      <td>14944573</td>\n",
       "      <td>/ZeroBias/Run2024B-PromptReco-v1/DQMIO</td>\n",
       "      <td>14097406917</td>\n",
       "      <td>450827655</td>\n",
       "      <td>2024-04-11 13:42:21+00:00</td>\n",
       "      <td>2024-04-11 13:42:21+00:00</td>\n",
       "      <td>root://eoscms.cern.ch//eos/cms/store/data/Run2...</td>\n",
       "      <td>FINISHED</td>\n",
       "      <td>NaN</td>\n",
       "    </tr>\n",
       "    <tr>\n",
       "      <th>4</th>\n",
       "      <td>135</td>\n",
       "      <td>379154</td>\n",
       "      <td>14944573</td>\n",
       "      <td>/ZeroBias/Run2024B-PromptReco-v1/DQMIO</td>\n",
       "      <td>14097406997</td>\n",
       "      <td>401507494</td>\n",
       "      <td>2024-04-11 13:42:21+00:00</td>\n",
       "      <td>2024-04-11 13:42:21+00:00</td>\n",
       "      <td>root://eoscms.cern.ch//eos/cms/store/data/Run2...</td>\n",
       "      <td>FINISHED</td>\n",
       "      <td>NaN</td>\n",
       "    </tr>\n",
       "    <tr>\n",
       "      <th>5</th>\n",
       "      <td>134</td>\n",
       "      <td>379154</td>\n",
       "      <td>14944573</td>\n",
       "      <td>/ZeroBias/Run2024B-PromptReco-v1/DQMIO</td>\n",
       "      <td>14097406957</td>\n",
       "      <td>457493520</td>\n",
       "      <td>2024-04-11 13:42:21+00:00</td>\n",
       "      <td>2024-04-11 13:42:21+00:00</td>\n",
       "      <td>root://eoscms.cern.ch//eos/cms/store/data/Run2...</td>\n",
       "      <td>FINISHED</td>\n",
       "      <td>NaN</td>\n",
       "    </tr>\n",
       "    <tr>\n",
       "      <th>6</th>\n",
       "      <td>137</td>\n",
       "      <td>379154</td>\n",
       "      <td>14944573</td>\n",
       "      <td>/ZeroBias/Run2024B-PromptReco-v1/DQMIO</td>\n",
       "      <td>14097407077</td>\n",
       "      <td>357994890</td>\n",
       "      <td>2024-04-11 13:42:21+00:00</td>\n",
       "      <td>2024-04-11 13:42:21+00:00</td>\n",
       "      <td>root://eoscms.cern.ch//eos/cms/store/data/Run2...</td>\n",
       "      <td>FINISHED</td>\n",
       "      <td>NaN</td>\n",
       "    </tr>\n",
       "    <tr>\n",
       "      <th>7</th>\n",
       "      <td>139</td>\n",
       "      <td>379154</td>\n",
       "      <td>14944573</td>\n",
       "      <td>/ZeroBias/Run2024B-PromptReco-v1/DQMIO</td>\n",
       "      <td>14097407157</td>\n",
       "      <td>341161117</td>\n",
       "      <td>2024-04-11 13:42:21+00:00</td>\n",
       "      <td>2024-04-11 13:42:21+00:00</td>\n",
       "      <td>root://eoscms.cern.ch//eos/cms/store/data/Run2...</td>\n",
       "      <td>FINISHED</td>\n",
       "      <td>NaN</td>\n",
       "    </tr>\n",
       "    <tr>\n",
       "      <th>8</th>\n",
       "      <td>148</td>\n",
       "      <td>379154</td>\n",
       "      <td>14944573</td>\n",
       "      <td>/ZeroBias/Run2024B-PromptReco-v1/DQMIO</td>\n",
       "      <td>14150155837</td>\n",
       "      <td>329016448</td>\n",
       "      <td>2024-04-12 09:36:07+00:00</td>\n",
       "      <td>2024-04-12 09:36:07+00:00</td>\n",
       "      <td>root://eoscms.cern.ch//eos/cms/store/data/Run2...</td>\n",
       "      <td>FINISHED</td>\n",
       "      <td>NaN</td>\n",
       "    </tr>\n",
       "    <tr>\n",
       "      <th>9</th>\n",
       "      <td>150</td>\n",
       "      <td>379154</td>\n",
       "      <td>14944573</td>\n",
       "      <td>/ZeroBias/Run2024B-PromptReco-v1/DQMIO</td>\n",
       "      <td>14152284597</td>\n",
       "      <td>90207658</td>\n",
       "      <td>2024-04-12 11:41:58+00:00</td>\n",
       "      <td>2024-04-12 11:41:58+00:00</td>\n",
       "      <td>root://eoscms.cern.ch//eos/cms/store/data/Run2...</td>\n",
       "      <td>FINISHED</td>\n",
       "      <td>NaN</td>\n",
       "    </tr>\n",
       "  </tbody>\n",
       "</table>\n",
       "</div>"
      ],
      "text/plain": [
       "   old_index  run_number  dataset_id                                 dataset  \\\n",
       "0        130      379154    14944573  /ZeroBias/Run2024B-PromptReco-v1/DQMIO   \n",
       "1        131      379154    14944573  /ZeroBias/Run2024B-PromptReco-v1/DQMIO   \n",
       "2        132      379154    14944573  /ZeroBias/Run2024B-PromptReco-v1/DQMIO   \n",
       "3        133      379154    14944573  /ZeroBias/Run2024B-PromptReco-v1/DQMIO   \n",
       "4        135      379154    14944573  /ZeroBias/Run2024B-PromptReco-v1/DQMIO   \n",
       "5        134      379154    14944573  /ZeroBias/Run2024B-PromptReco-v1/DQMIO   \n",
       "6        137      379154    14944573  /ZeroBias/Run2024B-PromptReco-v1/DQMIO   \n",
       "7        139      379154    14944573  /ZeroBias/Run2024B-PromptReco-v1/DQMIO   \n",
       "8        148      379154    14944573  /ZeroBias/Run2024B-PromptReco-v1/DQMIO   \n",
       "9        150      379154    14944573  /ZeroBias/Run2024B-PromptReco-v1/DQMIO   \n",
       "\n",
       "       file_id  file_size              creation_date  \\\n",
       "0  14097406797  335001931  2024-04-11 13:42:21+00:00   \n",
       "1  14097406837  390919623  2024-04-11 13:42:21+00:00   \n",
       "2  14097406877  427523932  2024-04-11 13:42:21+00:00   \n",
       "3  14097406917  450827655  2024-04-11 13:42:21+00:00   \n",
       "4  14097406997  401507494  2024-04-11 13:42:21+00:00   \n",
       "5  14097406957  457493520  2024-04-11 13:42:21+00:00   \n",
       "6  14097407077  357994890  2024-04-11 13:42:21+00:00   \n",
       "7  14097407157  341161117  2024-04-11 13:42:21+00:00   \n",
       "8  14150155837  329016448  2024-04-12 09:36:07+00:00   \n",
       "9  14152284597   90207658  2024-04-12 11:41:58+00:00   \n",
       "\n",
       "      last_modification_date  \\\n",
       "0  2024-04-11 13:42:21+00:00   \n",
       "1  2024-04-11 13:42:21+00:00   \n",
       "2  2024-04-11 13:42:21+00:00   \n",
       "3  2024-04-11 13:42:21+00:00   \n",
       "4  2024-04-11 13:42:21+00:00   \n",
       "5  2024-04-11 13:42:21+00:00   \n",
       "6  2024-04-11 13:42:21+00:00   \n",
       "7  2024-04-11 13:42:21+00:00   \n",
       "8  2024-04-12 09:36:07+00:00   \n",
       "9  2024-04-12 11:41:58+00:00   \n",
       "\n",
       "                                   logical_file_name    status  err_trace  \n",
       "0  root://eoscms.cern.ch//eos/cms/store/data/Run2...  FINISHED        NaN  \n",
       "1  root://eoscms.cern.ch//eos/cms/store/data/Run2...  FINISHED        NaN  \n",
       "2  root://eoscms.cern.ch//eos/cms/store/data/Run2...  FINISHED        NaN  \n",
       "3  root://eoscms.cern.ch//eos/cms/store/data/Run2...  FINISHED        NaN  \n",
       "4  root://eoscms.cern.ch//eos/cms/store/data/Run2...  FINISHED        NaN  \n",
       "5  root://eoscms.cern.ch//eos/cms/store/data/Run2...  FINISHED        NaN  \n",
       "6  root://eoscms.cern.ch//eos/cms/store/data/Run2...  FINISHED        NaN  \n",
       "7  root://eoscms.cern.ch//eos/cms/store/data/Run2...  FINISHED        NaN  \n",
       "8  root://eoscms.cern.ch//eos/cms/store/data/Run2...  FINISHED        NaN  \n",
       "9  root://eoscms.cern.ch//eos/cms/store/data/Run2...  FINISHED        NaN  "
      ]
     },
     "execution_count": 5,
     "metadata": {},
     "output_type": "execute_result"
    }
   ],
   "source": [
    "run_mask = df.loc[:,\"run_number\"] == 379154\n",
    "df[run_mask]"
   ]
  },
  {
   "cell_type": "code",
   "execution_count": 6,
   "id": "da5da604-6887-46ab-834b-99fee6394103",
   "metadata": {},
   "outputs": [
    {
     "data": {
      "text/html": [
       "<div>\n",
       "<style scoped>\n",
       "    .dataframe tbody tr th:only-of-type {\n",
       "        vertical-align: middle;\n",
       "    }\n",
       "\n",
       "    .dataframe tbody tr th {\n",
       "        vertical-align: top;\n",
       "    }\n",
       "\n",
       "    .dataframe thead th {\n",
       "        text-align: right;\n",
       "    }\n",
       "</style>\n",
       "<table border=\"1\" class=\"dataframe\">\n",
       "  <thead>\n",
       "    <tr style=\"text-align: right;\">\n",
       "      <th></th>\n",
       "      <th>old_index</th>\n",
       "      <th>run_number</th>\n",
       "      <th>dataset_id</th>\n",
       "      <th>dataset</th>\n",
       "      <th>file_id</th>\n",
       "      <th>file_size</th>\n",
       "      <th>creation_date</th>\n",
       "      <th>last_modification_date</th>\n",
       "      <th>logical_file_name</th>\n",
       "      <th>status</th>\n",
       "      <th>err_trace</th>\n",
       "    </tr>\n",
       "  </thead>\n",
       "  <tbody>\n",
       "    <tr>\n",
       "      <th>9</th>\n",
       "      <td>150</td>\n",
       "      <td>379154</td>\n",
       "      <td>14944573</td>\n",
       "      <td>/ZeroBias/Run2024B-PromptReco-v1/DQMIO</td>\n",
       "      <td>14152284597</td>\n",
       "      <td>90207658</td>\n",
       "      <td>2024-04-12 11:41:58+00:00</td>\n",
       "      <td>2024-04-12 11:41:58+00:00</td>\n",
       "      <td>root://eoscms.cern.ch//eos/cms/store/data/Run2...</td>\n",
       "      <td>FINISHED</td>\n",
       "      <td>NaN</td>\n",
       "    </tr>\n",
       "  </tbody>\n",
       "</table>\n",
       "</div>"
      ],
      "text/plain": [
       "   old_index  run_number  dataset_id                                 dataset  \\\n",
       "9        150      379154    14944573  /ZeroBias/Run2024B-PromptReco-v1/DQMIO   \n",
       "\n",
       "       file_id  file_size              creation_date  \\\n",
       "9  14152284597   90207658  2024-04-12 11:41:58+00:00   \n",
       "\n",
       "      last_modification_date  \\\n",
       "9  2024-04-12 11:41:58+00:00   \n",
       "\n",
       "                                   logical_file_name    status  err_trace  \n",
       "9  root://eoscms.cern.ch//eos/cms/store/data/Run2...  FINISHED        NaN  "
      ]
     },
     "execution_count": 6,
     "metadata": {},
     "output_type": "execute_result"
    }
   ],
   "source": [
    "file_id_mask = df.loc[:,\"file_id\"] == 14152284597\n",
    "df[file_id_mask]"
   ]
  },
  {
   "cell_type": "code",
   "execution_count": 7,
   "id": "e3250f39-3480-4c54-b7d5-a821732fdf0c",
   "metadata": {},
   "outputs": [
    {
     "name": "stdout",
     "output_type": "stream",
     "text": [
      "<class 'pandas.core.frame.DataFrame'>\n",
      "Index: 1423 entries, 0 to 12\n",
      "Data columns (total 11 columns):\n",
      " #   Column                  Non-Null Count  Dtype  \n",
      "---  ------                  --------------  -----  \n",
      " 0   old_index               1423 non-null   int64  \n",
      " 1   run_number              1423 non-null   int64  \n",
      " 2   dataset_id              1423 non-null   int64  \n",
      " 3   dataset                 1423 non-null   object \n",
      " 4   file_id                 1423 non-null   int64  \n",
      " 5   file_size               1423 non-null   int64  \n",
      " 6   creation_date           1423 non-null   object \n",
      " 7   last_modification_date  1423 non-null   object \n",
      " 8   logical_file_name       1423 non-null   object \n",
      " 9   status                  1423 non-null   object \n",
      " 10  err_trace               0 non-null      float64\n",
      "dtypes: float64(1), int64(5), object(5)\n",
      "memory usage: 133.4+ KB\n"
     ]
    }
   ],
   "source": [
    "df.info()"
   ]
  },
  {
   "cell_type": "code",
   "execution_count": 8,
   "id": "dcd44792-ddb3-4c2e-9b55-fc752bbe0251",
   "metadata": {},
   "outputs": [
    {
     "data": {
      "text/plain": [
       "old_index                 1423\n",
       "run_number                 127\n",
       "dataset_id                  10\n",
       "dataset                     10\n",
       "file_id                   1423\n",
       "file_size                 1423\n",
       "creation_date              237\n",
       "last_modification_date     237\n",
       "logical_file_name         1423\n",
       "status                       1\n",
       "err_trace                    0\n",
       "dtype: int64"
      ]
     },
     "execution_count": 8,
     "metadata": {},
     "output_type": "execute_result"
    }
   ],
   "source": [
    "df.nunique()"
   ]
  },
  {
   "cell_type": "code",
   "execution_count": 99,
   "id": "f9851ccf-b350-4d70-8aee-b10fe2ee82b0",
   "metadata": {},
   "outputs": [],
   "source": [
    "# df.to_csv(\"long_runs.csv\")"
   ]
  }
 ],
 "metadata": {
  "kernelspec": {
   "display_name": "Python 3",
   "language": "python",
   "name": "python3"
  },
  "language_info": {
   "codemirror_mode": {
    "name": "ipython",
    "version": 3
   },
   "file_extension": ".py",
   "mimetype": "text/x-python",
   "name": "python",
   "nbconvert_exporter": "python",
   "pygments_lexer": "ipython3",
   "version": "3.11.9"
  }
 },
 "nbformat": 4,
 "nbformat_minor": 5
}
