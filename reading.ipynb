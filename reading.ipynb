{
 "cells": [
  {
   "cell_type": "code",
   "execution_count": 1,
   "id": "740a7695-2652-4ceb-9ef8-6ff4254dd561",
   "metadata": {},
   "outputs": [],
   "source": [
    "import pandas as pd"
   ]
  },
  {
   "cell_type": "code",
   "execution_count": 1,
   "id": "fd065e0b-06cd-41a6-bbe7-e11439871638",
   "metadata": {},
   "outputs": [
    {
     "name": "stdout",
     "output_type": "stream",
     "text": [
      "-rw-r--r--. 1 gfidalgo 1399  54M May  9 10:19 run-378_239.parquet\n",
      "-rw-r--r--. 1 gfidalgo 1399  76M May  9 10:22 run-379_530.parquet\n",
      "-rw-r--r--. 1 gfidalgo 1399  65M May  9 10:26 run-380_092.parquet\n",
      "-rw-r--r--. 1 gfidalgo 1399 105M May  9 10:30 run-380_481.parquet\n",
      "-rw-r--r--. 1 gfidalgo 1399  18M May  9 10:31 run-380_744.parquet\n",
      "-rw-r--r--. 1 gfidalgo 1399  88M May  9 11:00 run-381_208.parquet\n",
      "-rw-r--r--. 1 gfidalgo 1399  52M May  9 11:14 run-381_698.parquet\n",
      "-rw-r--r--. 1 gfidalgo 1399  26M May  9 11:15 run-382_465.parquet\n",
      "-rw-r--r--. 1 gfidalgo 1399  37M May  9 11:17 run-382_770.parquet\n",
      "-rw-r--r--. 1 gfidalgo 1399  75M May  9 11:20 run-383_254.parquet\n",
      "-rw-r--r--. 1 gfidalgo 1399  31M May  9 11:21 run-383_687.parquet\n",
      "-rw-r--r--. 1 gfidalgo 1399 130M May  9 11:26 run-384_052.parquet\n",
      "-rw-r--r--. 1 gfidalgo 1399  37M May  9 11:27 run-384_331.parquet\n",
      "-rw-r--r--. 1 gfidalgo 1399 129M May  9 11:32 run-384_963.parquet\n",
      "-rw-r--r--. 1 gfidalgo 1399  88M May  9 11:35 run-385_286.parquet\n",
      "-rw-r--r--. 1 gfidalgo 1399  31M May  9 11:37 run-385_712.parquet\n",
      "-rw-r--r--. 1 gfidalgo 1399  24M May  9 11:38 run-386_143.parquet\n",
      "-rw-r--r--. 1 gfidalgo 1399  60M May  9 11:41 run-386_673.parquet\n",
      "-rw-r--r--. 1 gfidalgo 1399  43M May  9 11:42 run-386_951.parquet\n",
      "-rw-r--r--. 1 gfidalgo 1399  47M May  9 11:44 run-387_721.parquet\n"
     ]
    }
   ],
   "source": [
    "!ls -alhtr run*"
   ]
  },
  {
   "cell_type": "code",
   "execution_count": 3,
   "id": "44537c1a-6b6a-482c-bca7-e3f7a90c979a",
   "metadata": {},
   "outputs": [],
   "source": [
    "df = pd.read_parquet(\"run-378_239.parquet\")"
   ]
  },
  {
   "cell_type": "code",
   "execution_count": 4,
   "id": "0fba94f3-dcc1-4229-8640-a559bb344616",
   "metadata": {},
   "outputs": [
    {
     "name": "stdout",
     "output_type": "stream",
     "text": [
      "<class 'pandas.core.frame.DataFrame'>\n",
      "RangeIndex: 15568 entries, 0 to 15567\n",
      "Data columns (total 15 columns):\n",
      " #   Column      Non-Null Count  Dtype  \n",
      "---  ------      --------------  -----  \n",
      " 0   dataset     15568 non-null  object \n",
      " 1   me          15568 non-null  object \n",
      " 2   dataset_id  15568 non-null  int64  \n",
      " 3   file_id     15568 non-null  int64  \n",
      " 4   run_number  15568 non-null  int64  \n",
      " 5   ls_number   15568 non-null  int64  \n",
      " 6   me_id       15568 non-null  int64  \n",
      " 7   x_min       15568 non-null  float64\n",
      " 8   x_max       15568 non-null  float64\n",
      " 9   x_bin       15568 non-null  float64\n",
      " 10  y_min       15568 non-null  float64\n",
      " 11  y_max       15568 non-null  float64\n",
      " 12  y_bin       15568 non-null  float64\n",
      " 13  entries     15568 non-null  int64  \n",
      " 14  data        15568 non-null  object \n",
      "dtypes: float64(6), int64(6), object(3)\n",
      "memory usage: 1.8+ MB\n"
     ]
    }
   ],
   "source": [
    "df.info()"
   ]
  }
 ],
 "metadata": {
  "kernelspec": {
   "display_name": "Python 3",
   "language": "python",
   "name": "python3"
  },
  "language_info": {
   "codemirror_mode": {
    "name": "ipython",
    "version": 3
   },
   "file_extension": ".py",
   "mimetype": "text/x-python",
   "name": "python",
   "nbconvert_exporter": "python",
   "pygments_lexer": "ipython3",
   "version": "3.11.9"
  }
 },
 "nbformat": 4,
 "nbformat_minor": 5
}
